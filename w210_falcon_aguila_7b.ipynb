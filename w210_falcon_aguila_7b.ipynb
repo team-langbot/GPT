{
 "cells": [
  {
   "cell_type": "code",
   "execution_count": 1,
   "id": "db7e743f",
   "metadata": {},
   "outputs": [],
   "source": [
    "## working in Spanish, but talks a lot of non-sense..."
   ]
  },
  {
   "cell_type": "code",
   "execution_count": null,
   "id": "ec128f2d",
   "metadata": {},
   "outputs": [],
   "source": [
    "#!pip install -q -U trl transformers accelerate git+https://github.com/huggingface/peft.git\n",
    "#!pip install -q datasets bitsandbytes einops wandb"
   ]
  },
  {
   "cell_type": "code",
   "execution_count": 1,
   "id": "31d96aa5",
   "metadata": {},
   "outputs": [],
   "source": [
    "import torch\n",
    "from transformers import pipeline, AutoTokenizer, AutoModelForCausalLM"
   ]
  },
  {
   "cell_type": "code",
   "execution_count": 2,
   "id": "6e152c73",
   "metadata": {},
   "outputs": [
    {
     "data": {
      "application/vnd.jupyter.widget-view+json": {
       "model_id": "a2383a635d834772a291c0d93b429e67",
       "version_major": 2,
       "version_minor": 0
      },
      "text/plain": [
       "Loading checkpoint shards:   0%|          | 0/15 [00:00<?, ?it/s]"
      ]
     },
     "metadata": {},
     "output_type": "display_data"
    },
    {
     "name": "stderr",
     "output_type": "stream",
     "text": [
      "/usr/local/lib/python3.10/dist-packages/transformers/models/open_llama/modeling_open_llama.py:42: DeprecationWarning: The 'warn' method is deprecated, use 'warning' instead\n",
      "  logger.warn(\n",
      "Xformers is not installed correctly. If you want to use memory_efficient_attention to accelerate training use the following command to install Xformers\n",
      "pip install xformers.\n",
      "The model 'RWForCausalLM' is not supported for text-generation. Supported models are ['BartForCausalLM', 'BertLMHeadModel', 'BertGenerationDecoder', 'BigBirdForCausalLM', 'BigBirdPegasusForCausalLM', 'BioGptForCausalLM', 'BlenderbotForCausalLM', 'BlenderbotSmallForCausalLM', 'BloomForCausalLM', 'CamembertForCausalLM', 'CodeGenForCausalLM', 'CpmAntForCausalLM', 'CTRLLMHeadModel', 'Data2VecTextForCausalLM', 'ElectraForCausalLM', 'ErnieForCausalLM', 'GitForCausalLM', 'GPT2LMHeadModel', 'GPT2LMHeadModel', 'GPTBigCodeForCausalLM', 'GPTNeoForCausalLM', 'GPTNeoXForCausalLM', 'GPTNeoXJapaneseForCausalLM', 'GPTJForCausalLM', 'LlamaForCausalLM', 'MarianForCausalLM', 'MBartForCausalLM', 'MegaForCausalLM', 'MegatronBertForCausalLM', 'MvpForCausalLM', 'OpenLlamaForCausalLM', 'OpenAIGPTLMHeadModel', 'OPTForCausalLM', 'PegasusForCausalLM', 'PLBartForCausalLM', 'ProphetNetForCausalLM', 'QDQBertLMHeadModel', 'ReformerModelWithLMHead', 'RemBertForCausalLM', 'RobertaForCausalLM', 'RobertaPreLayerNormForCausalLM', 'RoCBertForCausalLM', 'RoFormerForCausalLM', 'RwkvForCausalLM', 'Speech2Text2ForCausalLM', 'TransfoXLLMHeadModel', 'TrOCRForCausalLM', 'XGLMForCausalLM', 'XLMWithLMHeadModel', 'XLMProphetNetForCausalLM', 'XLMRobertaForCausalLM', 'XLMRobertaXLForCausalLM', 'XLNetLMHeadModel', 'XmodForCausalLM'].\n"
     ]
    }
   ],
   "source": [
    "model_id  = \"projecte-aina/aguila-7b\"\n",
    "#load fron local hard drive\n",
    "#model_id = 'aguila'\n",
    "tokenizer = AutoTokenizer.from_pretrained(model_id)\n",
    "generator = pipeline(\n",
    "    \"text-generation\",\n",
    "    #'conversational',\n",
    "    model=model_id,\n",
    "    tokenizer=tokenizer,\n",
    "    torch_dtype=torch.bfloat16,\n",
    "    trust_remote_code=True,\n",
    "    device_map=\"auto\",\n",
    ")"
   ]
  },
  {
   "cell_type": "code",
   "execution_count": 3,
   "id": "844ddc3a",
   "metadata": {},
   "outputs": [],
   "source": [
    "input_text = \"El mercat del barri és fantàstic, hi pots trobar\""
   ]
  },
  {
   "cell_type": "code",
   "execution_count": 4,
   "id": "c87825c8",
   "metadata": {},
   "outputs": [
    {
     "name": "stderr",
     "output_type": "stream",
     "text": [
      "/usr/local/lib/python3.10/dist-packages/transformers/generation/utils.py:1255: UserWarning: You have modified the pretrained model configuration to control generation. This is a deprecated strategy to control generation and will be removed soon, in a future version. Please use a generation configuration file (see https://huggingface.co/docs/transformers/main_classes/text_generation)\n",
      "  warnings.warn(\n",
      "/usr/local/lib/python3.10/dist-packages/transformers/generation/utils.py:1349: UserWarning: Using `max_length`'s default (20) to control the generation length. This behaviour is deprecated and will be removed from the config in v5 of Transformers -- we recommend using `max_new_tokens` to control the maximum length of the generation.\n",
      "  warnings.warn(\n"
     ]
    }
   ],
   "source": [
    "generation = generator(\n",
    "    input_text,\n",
    "    do_sample=True,\n",
    "    top_k=10,\n",
    "    eos_token_id=tokenizer.eos_token_id,\n",
    ")"
   ]
  },
  {
   "cell_type": "code",
   "execution_count": 5,
   "id": "7adb6cc0",
   "metadata": {},
   "outputs": [
    {
     "name": "stdout",
     "output_type": "stream",
     "text": [
      "Result: El mercat del barri és fantàstic, hi pots trobar de tot, tot i que el preu és un\n"
     ]
    }
   ],
   "source": [
    "print(f\"Result: {generation[0]['generated_text']}\")"
   ]
  },
  {
   "cell_type": "code",
   "execution_count": 6,
   "id": "2d9b23ce",
   "metadata": {},
   "outputs": [],
   "source": [
    "input_text = \"hola, cómo estás?\""
   ]
  },
  {
   "cell_type": "code",
   "execution_count": 7,
   "id": "c5f719a1",
   "metadata": {},
   "outputs": [],
   "source": [
    "generation = generator(\n",
    "    input_text,\n",
    "    do_sample=True,\n",
    "    top_k=2,\n",
    "    eos_token_id=tokenizer.eos_token_id,\n",
    ")"
   ]
  },
  {
   "cell_type": "code",
   "execution_count": 8,
   "id": "aa045197",
   "metadata": {},
   "outputs": [
    {
     "name": "stdout",
     "output_type": "stream",
     "text": [
      "Result: hola, cómo estás? \n",
      "\n",
      "Hola, soy de Argentina y me gustaria saber si hay\n"
     ]
    }
   ],
   "source": [
    "print(f\"Result: {generation[0]['generated_text']}\")"
   ]
  },
  {
   "cell_type": "code",
   "execution_count": 14,
   "id": "83bf08c3",
   "metadata": {},
   "outputs": [],
   "source": [
    "# Few Shots\n",
    "input_text = \"\"\"\n",
    "Oració: Estoy bien, gracias.\n",
    "Paráfrasis: Tú estás bien, yo también estoy bien. ¿Dónde vive?\n",
    "----\n",
    "Oració: no me sirve.\n",
    "Paráfrasis: Tú no estás bien, yo estoy bien. ¿Dónde vive?\n",
    "----\n",
    "Oración: Estoy bien.\n",
    "Paráfrasis: Tú estás bien, yo también estoy bien. ¿Dónde vive?\n",
    "----\n",
    "Oració: Estoy muy bien.\n",
    "Paráfrasis:\"\"\""
   ]
  },
  {
   "cell_type": "code",
   "execution_count": 17,
   "id": "5be5ab7a",
   "metadata": {},
   "outputs": [],
   "source": [
    "generation = generator(\n",
    "    input_text,\n",
    "    do_sample=True,\n",
    "    top_k=2,\n",
    "    max_length=128,\n",
    "    eos_token_id=tokenizer.eos_token_id,\n",
    ")"
   ]
  },
  {
   "cell_type": "code",
   "execution_count": 18,
   "id": "fa310779",
   "metadata": {},
   "outputs": [
    {
     "name": "stdout",
     "output_type": "stream",
     "text": [
      "Result: \n",
      "Oració: Estoy bien, gracias.\n",
      "Paráfrasis: Tú estás bien, yo también estoy bien. ¿Dónde vive?\n",
      "----\n",
      "Oració: no me sirve.\n",
      "Paráfrasis: Tú no estás bien, yo estoy bien. ¿Dónde vive?\n",
      "----\n",
      "Oración: Estoy bien.\n",
      "Paráfrasis: Tú estás bien, yo también estoy bien. ¿Dónde vive?\n",
      "----\n",
      "Oració: Estoy muy bien.\n",
      "Paráfrasis: Tú estás muy bien, yo también estoy muy bien. ¿Dónde vive?\n",
      "\n"
     ]
    }
   ],
   "source": [
    "print(f\"Result: {generation[0]['generated_text']}\")"
   ]
  },
  {
   "cell_type": "code",
   "execution_count": 1,
   "id": "01f5b512",
   "metadata": {},
   "outputs": [
    {
     "ename": "NameError",
     "evalue": "name 'generator' is not defined",
     "output_type": "error",
     "traceback": [
      "\u001b[0;31m---------------------------------------------------------------------------\u001b[0m",
      "\u001b[0;31mNameError\u001b[0m                                 Traceback (most recent call last)",
      "File \u001b[0;32m<timed exec>:1\u001b[0m\n",
      "\u001b[0;31mNameError\u001b[0m: name 'generator' is not defined"
     ]
    }
   ],
   "source": [
    "%%time\n",
    "\n",
    "sequences = generator(\n",
    "    input_text,\n",
    "    #max_length=128,\n",
    "    max_new_tokens=64,\n",
    "    do_sample=True,\n",
    "    temperature=0.1,\n",
    "    top_p=0.7,\n",
    "    top_k=10,\n",
    "    num_return_sequences=1,\n",
    "    eos_token_id=tokenizer.eos_token_id,\n",
    "    pad_token_id=tokenizer.eos_token_id\n",
    ")\n",
    "for seq in sequences:\n",
    "    print(f\"Result: {seq['generated_text']}\")"
   ]
  },
  {
   "cell_type": "markdown",
   "id": "ca701ed9",
   "metadata": {},
   "source": [
    "## Save aguila model to local hard drive"
   ]
  },
  {
   "cell_type": "code",
   "execution_count": 20,
   "id": "c7476f35",
   "metadata": {},
   "outputs": [],
   "source": [
    "#generator.save_pretrained(\"aguila\")"
   ]
  }
 ],
 "metadata": {
  "kernelspec": {
   "display_name": "Python 3 (ipykernel)",
   "language": "python",
   "name": "python3"
  },
  "language_info": {
   "codemirror_mode": {
    "name": "ipython",
    "version": 3
   },
   "file_extension": ".py",
   "mimetype": "text/x-python",
   "name": "python",
   "nbconvert_exporter": "python",
   "pygments_lexer": "ipython3",
   "version": "3.10.12"
  }
 },
 "nbformat": 4,
 "nbformat_minor": 5
}
