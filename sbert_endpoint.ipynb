{
 "cells": [
  {
   "cell_type": "markdown",
   "id": "142a9f8d-fd69-46b9-b4ef-0091ccd8c4f6",
   "metadata": {
    "tags": []
   },
   "source": [
    "## SBERT endpoint"
   ]
  },
  {
   "cell_type": "code",
   "execution_count": 65,
   "id": "c2945922-7de9-4213-8293-1f901d544f13",
   "metadata": {
    "tags": []
   },
   "outputs": [
    {
     "name": "stdout",
     "output_type": "stream",
     "text": [
      "Requirement already satisfied: transformers in /home/ec2-user/anaconda3/envs/pytorch_p310/lib/python3.10/site-packages (4.35.0)\n",
      "Requirement already satisfied: filelock in /home/ec2-user/anaconda3/envs/pytorch_p310/lib/python3.10/site-packages (from transformers) (3.12.4)\n",
      "Requirement already satisfied: huggingface-hub<1.0,>=0.16.4 in /home/ec2-user/anaconda3/envs/pytorch_p310/lib/python3.10/site-packages (from transformers) (0.17.3)\n",
      "Requirement already satisfied: numpy>=1.17 in /home/ec2-user/anaconda3/envs/pytorch_p310/lib/python3.10/site-packages (from transformers) (1.26.1)\n",
      "Requirement already satisfied: packaging>=20.0 in /home/ec2-user/anaconda3/envs/pytorch_p310/lib/python3.10/site-packages (from transformers) (21.3)\n",
      "Requirement already satisfied: pyyaml>=5.1 in /home/ec2-user/anaconda3/envs/pytorch_p310/lib/python3.10/site-packages (from transformers) (6.0.1)\n",
      "Requirement already satisfied: regex!=2019.12.17 in /home/ec2-user/anaconda3/envs/pytorch_p310/lib/python3.10/site-packages (from transformers) (2023.10.3)\n",
      "Requirement already satisfied: requests in /home/ec2-user/anaconda3/envs/pytorch_p310/lib/python3.10/site-packages (from transformers) (2.31.0)\n",
      "Requirement already satisfied: tokenizers<0.15,>=0.14 in /home/ec2-user/anaconda3/envs/pytorch_p310/lib/python3.10/site-packages (from transformers) (0.14.1)\n",
      "Requirement already satisfied: safetensors>=0.3.1 in /home/ec2-user/anaconda3/envs/pytorch_p310/lib/python3.10/site-packages (from transformers) (0.4.0)\n",
      "Requirement already satisfied: tqdm>=4.27 in /home/ec2-user/anaconda3/envs/pytorch_p310/lib/python3.10/site-packages (from transformers) (4.66.1)\n",
      "Requirement already satisfied: fsspec in /home/ec2-user/anaconda3/envs/pytorch_p310/lib/python3.10/site-packages (from huggingface-hub<1.0,>=0.16.4->transformers) (2023.10.0)\n",
      "Requirement already satisfied: typing-extensions>=3.7.4.3 in /home/ec2-user/anaconda3/envs/pytorch_p310/lib/python3.10/site-packages (from huggingface-hub<1.0,>=0.16.4->transformers) (4.8.0)\n",
      "Requirement already satisfied: pyparsing!=3.0.5,>=2.0.2 in /home/ec2-user/anaconda3/envs/pytorch_p310/lib/python3.10/site-packages (from packaging>=20.0->transformers) (3.1.1)\n",
      "Requirement already satisfied: charset-normalizer<4,>=2 in /home/ec2-user/anaconda3/envs/pytorch_p310/lib/python3.10/site-packages (from requests->transformers) (3.3.1)\n",
      "Requirement already satisfied: idna<4,>=2.5 in /home/ec2-user/anaconda3/envs/pytorch_p310/lib/python3.10/site-packages (from requests->transformers) (3.4)\n",
      "Requirement already satisfied: urllib3<3,>=1.21.1 in /home/ec2-user/anaconda3/envs/pytorch_p310/lib/python3.10/site-packages (from requests->transformers) (1.26.18)\n",
      "Requirement already satisfied: certifi>=2017.4.17 in /home/ec2-user/anaconda3/envs/pytorch_p310/lib/python3.10/site-packages (from requests->transformers) (2023.7.22)\n"
     ]
    }
   ],
   "source": [
    "!pip install transformers"
   ]
  },
  {
   "cell_type": "code",
   "execution_count": 92,
   "id": "8f6ab153-ecf0-4285-88b5-25ffd770e54f",
   "metadata": {
    "tags": []
   },
   "outputs": [],
   "source": [
    "import logging\n",
    "import json\n",
    "import boto3\n",
    "import io\n",
    "import os\n",
    "import time\n",
    "import logging\n",
    "import sagemaker\n",
    "from sagemaker.deserializers import JSONDeserializer\n",
    "from sagemaker.serializers import IdentitySerializer\n",
    "\n",
    "from scipy.spatial import distance\n",
    "# import torch"
   ]
  },
  {
   "cell_type": "code",
   "execution_count": 67,
   "id": "cc23c103-8395-4f85-a14f-e35edba425f5",
   "metadata": {
    "tags": []
   },
   "outputs": [
    {
     "name": "stdout",
     "output_type": "stream",
     "text": [
      "sagemaker.config INFO - Not applying SDK defaults from location: /etc/xdg/sagemaker/config.yaml\n",
      "sagemaker.config INFO - Not applying SDK defaults from location: /home/ec2-user/.config/sagemaker/config.yaml\n",
      "sagemaker role arn: arn:aws:iam::571667364805:role/service-role/AmazonSageMaker-ExecutionRole-20231103T080028\n"
     ]
    }
   ],
   "source": [
    "# connect to SageMaker\n",
    "try:\n",
    "    role = sagemaker.get_execution_role()\n",
    "except ValueError:\n",
    "    iam = boto3.client('iam')\n",
    "    role = iam.get_role(RoleName='sagemaker_execution_role')['Role']['Arn']\n",
    "    \n",
    "print(f\"sagemaker role arn: {role}\")"
   ]
  },
  {
   "cell_type": "markdown",
   "id": "8d09846d-9e4a-43b4-ad67-5d7fdb6458c8",
   "metadata": {},
   "source": [
    "## Parameters"
   ]
  },
  {
   "cell_type": "code",
   "execution_count": 87,
   "id": "269cfb18-aaf2-4fb1-9a1b-0d1c8c3c04aa",
   "metadata": {
    "tags": []
   },
   "outputs": [],
   "source": [
    "# sm-llm-aws, sm-gec-aws, sm-cc-aws\n",
    "ENDPOINT_NAME = \"sm-cc-aws\"\n",
    "#ENDPOINT_NAME = 'huggingface-pytorch-inference-2023-11-11-18-18-08-839'"
   ]
  },
  {
   "cell_type": "code",
   "execution_count": 88,
   "id": "b6fd8ceb-2cab-494a-a235-0d754036e339",
   "metadata": {
    "tags": []
   },
   "outputs": [
    {
     "name": "stdout",
     "output_type": "stream",
     "text": [
      "sagemaker.config INFO - Not applying SDK defaults from location: /etc/xdg/sagemaker/config.yaml\n",
      "sagemaker.config INFO - Not applying SDK defaults from location: /home/ec2-user/.config/sagemaker/config.yaml\n"
     ]
    }
   ],
   "source": [
    "logger = logging.getLogger()\n",
    "logger.setLevel(logging.INFO)\n",
    "sagemaker_session = sagemaker.Session()"
   ]
  },
  {
   "cell_type": "code",
   "execution_count": 89,
   "id": "41d35082-60a7-40c9-a27f-923bf8341574",
   "metadata": {
    "tags": []
   },
   "outputs": [],
   "source": [
    "\"\"\"\n",
    "FunctionName: invoke_endpoint\n",
    "Input: transcript_item (sentence), label_map\n",
    "    transcript_item type: string\n",
    "    label_map type: dict\n",
    "Output: Question\n",
    "    type: string\n",
    "\"\"\"\n",
    "# @tracer.capture_method\n",
    "def invoke_endpoint(payload, endpoint_name):\n",
    "    runtime = boto3.client('runtime.sagemaker')\n",
    "    response = runtime.invoke_endpoint(EndpointName=endpoint_name,\n",
    "                                      ContentType=\"application/json\",\n",
    "                                      Body=json.dumps(payload).encode())\n",
    "                                       # Body = json.loads(json.dumps(payload)))\n",
    "                                     \n",
    "    embeddings = json.loads((response[\"Body\"].read()))\n",
    "    return embeddings\n",
    "\n",
    "# @tracer.capture_lambda_handler\n",
    "def lambda_handler(event):\n",
    "    start = time.time()\n",
    "    similarity_scores = invoke_endpoint(event, ENDPOINT_NAME)\n",
    "    end = time.time()\n",
    "    logger.info(f\"Profiling: \\n Getting Embeddings: {1000*(end-start)} milliseconds\")   \n",
    "    return similarity_scores"
   ]
  },
  {
   "cell_type": "code",
   "execution_count": 78,
   "id": "965594b5-7294-4d34-a6a1-018f5486d833",
   "metadata": {},
   "outputs": [],
   "source": [
    "# json_event =  {\n",
    "#    \"inputs\": \"Do you want a cup of coffee?\"\n",
    "# }\n",
    "\n",
    "# embedding_user_answer = lambda_handler(json_event)"
   ]
  },
  {
   "cell_type": "code",
   "execution_count": 79,
   "id": "5d6de7a8-0b14-4294-83b5-8ccf97401277",
   "metadata": {},
   "outputs": [],
   "source": [
    "# json_event =  {\n",
    "#    \"inputs\": \"No. can i have a cup of tea instead.\"\n",
    "# }\n",
    "\n",
    "# embedding_question = lambda_handler(json_event)"
   ]
  },
  {
   "cell_type": "code",
   "execution_count": 80,
   "id": "5d02339e-b02c-40bd-b53e-42141ede50fe",
   "metadata": {},
   "outputs": [],
   "source": [
    "# cos = torch.nn.CosineSimilarity(dim=0, eps=1e-08)\n",
    "# similarity_score = cos(torch.Tensor(embedding_question[0][0]), torch.Tensor(embedding_user_answer[0][0]))"
   ]
  },
  {
   "cell_type": "code",
   "execution_count": 81,
   "id": "49f3fee6-0c02-4afb-a4fd-47934d6bb93c",
   "metadata": {
    "tags": []
   },
   "outputs": [],
   "source": [
    "# similarity_score"
   ]
  },
  {
   "cell_type": "code",
   "execution_count": 82,
   "id": "392e4b69-4319-4028-abab-c4a87096cc43",
   "metadata": {
    "tags": []
   },
   "outputs": [],
   "source": [
    "# json_event =  {\n",
    "#    \"inputs\": \"Do you want a cup of coffee?\"\n",
    "# }\n",
    "\n",
    "# embedding_user_answer = lambda_handler(json_event)"
   ]
  },
  {
   "cell_type": "code",
   "execution_count": 83,
   "id": "e65a26c7-4320-4ffc-a9e3-bbadcf83eb58",
   "metadata": {
    "tags": []
   },
   "outputs": [],
   "source": [
    "# json_event =  {\n",
    "#    \"inputs\": \"the weather is bad\"\n",
    "# }\n",
    "\n",
    "# embedding_question = lambda_handler(json_event)"
   ]
  },
  {
   "cell_type": "code",
   "execution_count": 84,
   "id": "422de1b8-6b62-4848-9b3a-85f32ca00a3c",
   "metadata": {
    "tags": []
   },
   "outputs": [],
   "source": [
    "# cos = torch.nn.CosineSimilarity(dim=0, eps=1e-08)\n",
    "# similarity_score = cos(torch.Tensor(embedding_question[0][0]), torch.Tensor(embedding_user_answer[0][0]))\n",
    "# similarity_score"
   ]
  },
  {
   "cell_type": "code",
   "execution_count": 97,
   "id": "b6cbeb8d-ef53-4827-9de5-e058f40d22b7",
   "metadata": {
    "tags": []
   },
   "outputs": [],
   "source": [
    "def is_on_topic(user_answer, question):\n",
    "    #turn response and question into embedding\n",
    "    user_answer_embedding = lambda_handler(user_answer)\n",
    "    question_embedding = lambda_handler(question)\n",
    "    # calculating the cos similarity\n",
    "    similarity_score = 1- distance.cosine(user_answer_embedding[0][0], question_embedding[0][0])\n",
    "    # set the cutoff threshold\n",
    "    if similarity_score > 0.75:\n",
    "        return True\n",
    "    return False\n"
   ]
  },
  {
   "cell_type": "markdown",
   "id": "161a791f-d2f9-4a82-b7f7-a22867c69400",
   "metadata": {},
   "source": [
    "#example of calling the function"
   ]
  },
  {
   "cell_type": "code",
   "execution_count": 98,
   "id": "cdf976ea-569a-4574-b4ff-3c6f60483a50",
   "metadata": {
    "tags": []
   },
   "outputs": [
    {
     "data": {
      "text/plain": [
       "False"
      ]
     },
     "execution_count": 98,
     "metadata": {},
     "output_type": "execute_result"
    }
   ],
   "source": [
    "user_answer =  {\n",
    "   \"inputs\": \"Do you want a cup of coffee?\"\n",
    "}\n",
    "\n",
    "question =  {\n",
    "   \"inputs\": \"the weather is bad\"\n",
    "}\n",
    "\n",
    "is_on_topic(user_answer,question)"
   ]
  },
  {
   "cell_type": "code",
   "execution_count": 99,
   "id": "137cc202-6005-406e-b0ce-43822034f3fe",
   "metadata": {
    "tags": []
   },
   "outputs": [
    {
     "data": {
      "text/plain": [
       "False"
      ]
     },
     "execution_count": 99,
     "metadata": {},
     "output_type": "execute_result"
    }
   ],
   "source": [
    "user_answer =  {\n",
    "   \"inputs\": \" ¡Hola! Bienvenido a la cafetería Brew Haven. ¿Qué quieres? \"\n",
    "}\n",
    "\n",
    "question =  {\n",
    "   \"inputs\": \"Hola.\"\n",
    "}\n",
    "\n",
    "is_on_topic(user_answer,question)"
   ]
  },
  {
   "cell_type": "code",
   "execution_count": 100,
   "id": "cfb7bf9e-60fa-45d4-b85d-de573830bf09",
   "metadata": {
    "tags": []
   },
   "outputs": [
    {
     "data": {
      "text/plain": [
       "True"
      ]
     },
     "execution_count": 100,
     "metadata": {},
     "output_type": "execute_result"
    }
   ],
   "source": [
    "user_answer =  {\n",
    "   \"inputs\": \" ¡Hola! Bienvenido a la cafetería Brew Haven. ¿Qué quieres? \"\n",
    "}\n",
    "\n",
    "question =  {\n",
    "   \"inputs\": \"Un café, por favor.\"\n",
    "}\n",
    "\n",
    "is_on_topic(user_answer,question)"
   ]
  },
  {
   "cell_type": "code",
   "execution_count": 58,
   "id": "c988d352-a3bb-41b2-ab8e-db56f2c4ee02",
   "metadata": {
    "tags": []
   },
   "outputs": [],
   "source": [
    "# json_event =  {\n",
    "#    \"inputs\": \"Welcome to Cafe Strada. What would you like to order today?\"\n",
    "# }\n",
    "\n",
    "# embedding_user_answer = lambda_handler(json_event)"
   ]
  },
  {
   "cell_type": "code",
   "execution_count": 59,
   "id": "f201a458-95b4-4dd8-9694-8286c6432a4d",
   "metadata": {
    "tags": []
   },
   "outputs": [],
   "source": [
    "# json_event =  {\n",
    "#    \"inputs\": \"planet earth is 8 billion years old\"\n",
    "# }\n",
    "\n",
    "# embedding_question = lambda_handler(json_event)"
   ]
  },
  {
   "cell_type": "code",
   "execution_count": 60,
   "id": "d8818bbc-c881-4923-8022-28217f1f3b1a",
   "metadata": {
    "tags": []
   },
   "outputs": [],
   "source": [
    "# embedding_user_answer = torch.Tensor(embedding_user_answer)\n",
    "# embedding_question = torch.Tensor(embedding_question)"
   ]
  },
  {
   "cell_type": "code",
   "execution_count": 61,
   "id": "695aadcc-3574-40f7-ad97-d6301ae13ee1",
   "metadata": {
    "tags": []
   },
   "outputs": [
    {
     "data": {
      "text/plain": [
       "tensor(0.5651)"
      ]
     },
     "execution_count": 61,
     "metadata": {},
     "output_type": "execute_result"
    }
   ],
   "source": [
    "# cos = torch.nn.CosineSimilarity(dim=0, eps=1e-08)\n",
    "# similarity_score = cos(torch.Tensor(embedding_question[0][0]), torch.Tensor(embedding_user_answer[0][0]))\n",
    "# similarity_score"
   ]
  },
  {
   "cell_type": "code",
   "execution_count": null,
   "id": "7bf86ff7-9f20-4b1c-a9cb-5f31335d85a3",
   "metadata": {
    "tags": []
   },
   "outputs": [],
   "source": [
    "# scores÷"
   ]
  },
  {
   "cell_type": "code",
   "execution_count": 30,
   "id": "2eba18e5-d29e-4283-9481-27f709388d23",
   "metadata": {
    "tags": []
   },
   "outputs": [],
   "source": [
    "# def cosine_distance(x1, x2=None, eps=1e-8):\n",
    "#     x2 = x1 if x2 is None else x2\n",
    "#     w1 = x1.norm(p=2, dim=1, keepdim=True)\n",
    "#     w2 = w1 if x2 is x1 else x2.norm(p=2, dim=1, keepdim=True)\n",
    "#     return 1 - torch.mm(x1, x2.t()) / (w1 * w2.t()).clamp(min=eps)"
   ]
  },
  {
   "cell_type": "code",
   "execution_count": 37,
   "id": "691dd833-06e9-4133-b617-842cf9d73dd1",
   "metadata": {
    "tags": []
   },
   "outputs": [
    {
     "data": {
      "text/plain": [
       "tensor([[0.3432, 0.9434, 0.9913, 0.9330, 1.0292, 1.0163, 0.9976, 1.0278, 1.0101,\n",
       "         0.9960],\n",
       "        [1.1297, 0.7703, 0.6167, 0.9172, 0.8116, 0.8216, 1.0984, 1.0448, 1.0955,\n",
       "         0.7674],\n",
       "        [1.0663, 0.4952, 0.9067, 0.8126, 0.9818, 0.9179, 1.0873, 1.0781, 1.1205,\n",
       "         0.8165],\n",
       "        [1.0197, 0.8418, 0.7360, 0.9279, 0.8099, 0.6818, 1.0308, 1.0142, 0.9350,\n",
       "         0.8931],\n",
       "        [1.0917, 0.8729, 0.9362, 0.8956, 0.9882, 0.9646, 1.0218, 1.0129, 1.0678,\n",
       "         0.8121],\n",
       "        [1.0469, 1.0074, 0.9194, 1.0269, 0.9928, 0.9111, 0.8760, 1.0229, 0.9730,\n",
       "         0.9099],\n",
       "        [1.1047, 0.9373, 0.9124, 0.9553, 0.9765, 0.9312, 1.0226, 1.0064, 1.0601,\n",
       "         0.7865],\n",
       "        [1.0797, 1.0149, 1.0014, 1.0044, 1.0659, 0.9755, 0.9368, 0.9805, 0.9897,\n",
       "         0.9404],\n",
       "        [1.1047, 0.8199, 0.9624, 0.8284, 1.0355, 1.0155, 1.1058, 0.9998, 1.0881,\n",
       "         0.7319],\n",
       "        [1.1032, 0.8173, 0.9289, 0.8170, 1.0018, 0.9720, 1.0672, 0.9929, 1.0731,\n",
       "         0.6946]])"
      ]
     },
     "execution_count": 37,
     "metadata": {},
     "output_type": "execute_result"
    }
   ],
   "source": [
    "# cosine_distance(torch.Tensor(embedding_user_answer[0]),torch.Tensor(embedding_question[0]))"
   ]
  },
  {
   "cell_type": "code",
   "execution_count": null,
   "id": "fed050f5-9644-429c-b4d0-b168276d5445",
   "metadata": {},
   "outputs": [],
   "source": []
  }
 ],
 "metadata": {
  "kernelspec": {
   "display_name": "conda_pytorch_p310",
   "language": "python",
   "name": "conda_pytorch_p310"
  },
  "language_info": {
   "codemirror_mode": {
    "name": "ipython",
    "version": 3
   },
   "file_extension": ".py",
   "mimetype": "text/x-python",
   "name": "python",
   "nbconvert_exporter": "python",
   "pygments_lexer": "ipython3",
   "version": "3.10.13"
  }
 },
 "nbformat": 4,
 "nbformat_minor": 5
}
