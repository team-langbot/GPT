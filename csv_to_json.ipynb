{
 "cells": [
  {
   "cell_type": "markdown",
   "id": "3b9a58ce",
   "metadata": {},
   "source": [
    "## convert CSV to JSON"
   ]
  },
  {
   "cell_type": "code",
   "execution_count": 1,
   "id": "98ca7d42",
   "metadata": {},
   "outputs": [
    {
     "name": "stdout",
     "output_type": "stream",
     "text": [
      "\u001b[31mERROR: pip's dependency resolver does not currently take into account all the packages that are installed. This behaviour is the source of the following dependency conflicts.\n",
      "numba 0.57.1+1.g5fba9aa8f requires numpy<1.25,>=1.21, but you have numpy 1.26.1 which is incompatible.\u001b[0m\u001b[31m\n",
      "\u001b[0m\u001b[33mWARNING: Running pip as the 'root' user can result in broken permissions and conflicting behaviour with the system package manager. It is recommended to use a virtual environment instead: https://pip.pypa.io/warnings/venv\u001b[0m\u001b[33m\n",
      "\u001b[0m\n",
      "\u001b[1m[\u001b[0m\u001b[34;49mnotice\u001b[0m\u001b[1;39;49m]\u001b[0m\u001b[39;49m A new release of pip is available: \u001b[0m\u001b[31;49m23.2.1\u001b[0m\u001b[39;49m -> \u001b[0m\u001b[32;49m23.3.1\u001b[0m\n",
      "\u001b[1m[\u001b[0m\u001b[34;49mnotice\u001b[0m\u001b[1;39;49m]\u001b[0m\u001b[39;49m To update, run: \u001b[0m\u001b[32;49mpython -m pip install --upgrade pip\u001b[0m\n"
     ]
    }
   ],
   "source": [
    "#!pip install -q chromadb"
   ]
  },
  {
   "cell_type": "code",
   "execution_count": 2,
   "id": "625144d9",
   "metadata": {},
   "outputs": [],
   "source": [
    "import csv\n",
    "import json"
   ]
  },
  {
   "cell_type": "code",
   "execution_count": 3,
   "id": "24e55506",
   "metadata": {},
   "outputs": [],
   "source": [
    "csv_filename = 'forLLM.csv'\n",
    "json_filename = 'forLLM.json'"
   ]
  },
  {
   "cell_type": "code",
   "execution_count": 4,
   "id": "ca58fdc1",
   "metadata": {},
   "outputs": [],
   "source": [
    "data = []"
   ]
  },
  {
   "cell_type": "code",
   "execution_count": 10,
   "id": "47d7fc82",
   "metadata": {},
   "outputs": [],
   "source": [
    "# Open the CSV file and read its content\n",
    "with open(csv_filename, 'r') as csv_file:\n",
    "    reader = csv.DictReader(csv_file)\n",
    "\n",
    "    # Check if the CSV has the required columns\n",
    "    if 'question' not in reader.fieldnames or 'answer' not in reader.fieldnames:\n",
    "        print(\"Error: CSV doesn't have the required 'question' and 'answer' columns.\")\n",
    "        #return\n",
    "\n",
    "    # Convert each row to the desired JSON format\n",
    "    for row in reader:\n",
    "        data.append({\n",
    "            'question': row['question'],\n",
    "            'answer': row['answer']\n",
    "        })"
   ]
  },
  {
   "cell_type": "code",
   "execution_count": 11,
   "id": "a56d191a",
   "metadata": {},
   "outputs": [
    {
     "data": {
      "text/plain": [
       "[{'question': 'Me llamo Jess.',\n",
       "  'answer': 'Ah, te llamas Jess. ¡Mucho gusto!  ¿Cómo te va?'},\n",
       " {'question': 'Te llamo Jess.',\n",
       "  'answer': 'Ah, tu nombre es Jess. ¡Encantado de conocerte!  ¿Cómo te va?'},\n",
       " {'question': 'Llamo Jess.',\n",
       "  'answer': 'Ah, eres Jess. ¡Un placer conocerte!  ¿Cómo te va?'},\n",
       " {'question': 'Me llamas Jess.',\n",
       "  'answer': 'Ah, te llamas Jess. ¡Es un placer!  ¿Cómo te va?'},\n",
       " {'question': 'Me soy Jess.',\n",
       "  'answer': 'Ah, ¿así que eres Jess? ¡Encantado!  ¿Cómo te va?'},\n",
       " {'question': 'Me me llamo Jess.',\n",
       "  'answer': 'Ah, te llamas Mike. ¡Mucho gusto! ¿Cómo te va?'},\n",
       " {'question': 'Bien, gracias. ¿Y a ti?',\n",
       "  'answer': 'Muy bien. Vivo en la Ciudad de México. ¿De dónde eres tú?'},\n",
       " {'question': 'Bien, gracias. ¿Y en ti?',\n",
       "  'answer': 'Estoy genial. Soy de la Ciudad de México. ¿De dónde eres tú?'},\n",
       " {'question': 'Bien, gracias. ¿Y ti?',\n",
       "  'answer': 'Me encuentro muy bien. Vengo de la Ciudad de México. ¿Y tú, de dónde eres?'},\n",
       " {'question': 'Bien, gracias. ¿Y a tú?',\n",
       "  'answer': 'Estoy excelente. Nací en la Ciudad de México. ¿Tú de dónde vienes?'},\n",
       " {'question': 'Bien gracias, ¿y a ti?',\n",
       "  'answer': 'Todo va de maravilla. Mi ciudad es la Ciudad de México. ¿Cuál es tu lugar de origen?'},\n",
       " {'question': '¿Y a ti? Bien, gracias.',\n",
       "  'answer': 'Me siento estupendo. La Ciudad de México es mi hogar. ¿De qué lugar eres?'},\n",
       " {'question': 'Soy de Pennsylvania.',\n",
       "  'answer': 'Eres de Pennsylvania. Es un lugar hermoso.'},\n",
       " {'question': 'Son de Pennsylvania.',\n",
       "  'answer': 'Viene de Pennsylvania. Realmente es un sitio precioso.'},\n",
       " {'question': 'Estoy de Pennsylvania.',\n",
       "  'answer': 'Tú eres originario de Pennsylvania. Es una región bella.'},\n",
       " {'question': 'question', 'answer': 'answer'},\n",
       " {'question': 'Soy Pennsylvania.',\n",
       "  'answer': 'Procedes de Pennsylvania. Es un sitio de gran belleza.'},\n",
       " {'question': 'Soy de de Roma.',\n",
       "  'answer': 'Tú vienes de Roma. Realmente es un lugar encantador.'},\n",
       " {'question': 'Soy del China.',\n",
       "  'answer': 'Oh, eres de China. Es un lugar hermoso.'},\n",
       " {'question': 'Sí, quisiera un café, por favor.',\n",
       "  'answer': 'Entiendo, un café. ¿Te gustaría llevarte dos con un 50% de descuento en el segundo?'},\n",
       " {'question': 'Sí, quiso un café, por favor.',\n",
       "  'answer': 'Comprendo, un café. ¿Quieres dos y el segundo a mitad de precio?'},\n",
       " {'question': 'Sí, quisiera una café, por favor.',\n",
       "  'answer': 'Entendido, un café. ¿Te interesa un segundo café con 50% de descuento?'},\n",
       " {'question': 'Sí, quisiera café, por favor.',\n",
       "  'answer': 'Vale, un café. ¿Cómo ves si llevas otro café con el 50% rebajado?'},\n",
       " {'question': 'Sí, quisiera un por favor café.',\n",
       "  'answer': 'Ok, un café. ¿Te gustaría otro café con el segundo a la mitad de su precio?'},\n",
       " {'question': 'Sí, quiero un café, por favor.',\n",
       "  'answer': 'Captado, un café. ¿Quieres aprovechar una oferta del 50% de descuento en el segundo café?'},\n",
       " {'question': 'Sí, quisiera dos cafés, por favor.',\n",
       "  'answer': 'Aquí tienes tus dos cafés. Tu total es de 2 pesos. ¿Vas a usar tarjeta de crédito?'},\n",
       " {'question': 'Sí, quiso dos cafés, por favor.',\n",
       "  'answer': 'Aquí están tus dos cafés. Son 2 pesos en total. ¿Pagarás con tarjeta?'},\n",
       " {'question': 'Sí, quisiera dos café, por favor.',\n",
       "  'answer': 'Te presento tus dos cafés. Debes 2 pesos. ¿Usarás crédito?'},\n",
       " {'question': 'Sí quisiera dos cafés por favor.',\n",
       "  'answer': 'Tienes tus dos cafés aquí. El costo es de 2 pesos. ¿Con tarjeta?'},\n",
       " {'question': 'Sí, quiero dos cafés, por favor.',\n",
       "  'answer': 'He aquí tus dos cafés. La cuenta es de 2 pesos. ¿Deseas usar tarjeta de crédito?'},\n",
       " {'question': 'Sí, por favor quisiera dos cafés.',\n",
       "  'answer': 'Tus dos cafés, aquí los tienes. Serán 2 pesos. ¿Vas a pagar con tarjeta?'},\n",
       " {'question': 'Sí, aquí tienes mi tarjeta de crédito.',\n",
       "  'answer': 'Gracias. Hasta pronto.'},\n",
       " {'question': 'Sí, aquí tiene mi tarjeta de crédito.',\n",
       "  'answer': 'Gracias. Nos vemos.'},\n",
       " {'question': 'Sí, aquí por tienes mi tarjeta de crédito.',\n",
       "  'answer': 'Te agradezco. ¡Hasta la próxima!'},\n",
       " {'question': 'Sí, aquí tarjeta de crédito tienes mi.',\n",
       "  'answer': 'Mil gracias. Hasta luego.'},\n",
       " {'question': 'Sí, aquí tienes tarjeta de crédito.',\n",
       "  'answer': 'Agradezco mucho. Hasta muy pronto.'},\n",
       " {'question': 'Sí, aquí tienes tarjeta de crédito.',\n",
       "  'answer': 'Te doy las gracias. ¡Nos vemos pronto!'}]"
      ]
     },
     "execution_count": 11,
     "metadata": {},
     "output_type": "execute_result"
    }
   ],
   "source": [
    "data"
   ]
  },
  {
   "cell_type": "code",
   "execution_count": 12,
   "id": "ec16abfe",
   "metadata": {},
   "outputs": [],
   "source": [
    "# Write the data to a JSON file\n",
    "with open(json_filename, 'w') as json_file:\n",
    "    json.dump(data, json_file, indent=4)"
   ]
  }
 ],
 "metadata": {
  "kernelspec": {
   "display_name": "Python 3 (ipykernel)",
   "language": "python",
   "name": "python3"
  },
  "language_info": {
   "codemirror_mode": {
    "name": "ipython",
    "version": 3
   },
   "file_extension": ".py",
   "mimetype": "text/x-python",
   "name": "python",
   "nbconvert_exporter": "python",
   "pygments_lexer": "ipython3",
   "version": "3.10.12"
  }
 },
 "nbformat": 4,
 "nbformat_minor": 5
}
