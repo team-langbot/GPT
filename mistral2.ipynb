{
 "cells": [
  {
   "cell_type": "code",
   "execution_count": 146,
   "id": "dba44afe-dbe4-4534-8c4b-9f14d70b9b14",
   "metadata": {
    "tags": []
   },
   "outputs": [],
   "source": [
    "!pip install -qU pysbd"
   ]
  },
  {
   "cell_type": "markdown",
   "id": "621ae258-1656-4327-9977-48c9d8e47267",
   "metadata": {},
   "source": [
    "## huggingface-llm-mistral-7b"
   ]
  },
  {
   "cell_type": "code",
   "execution_count": 147,
   "id": "4dc49792-7344-45df-a116-3706ebf5a0c8",
   "metadata": {
    "tags": []
   },
   "outputs": [],
   "source": [
    "import json\n",
    "import sagemaker\n",
    "import boto3\n",
    "import re\n",
    "#from sagemaker.huggingface import HuggingFaceModel, get_huggingface_llm_image_uri"
   ]
  },
  {
   "cell_type": "code",
   "execution_count": 148,
   "id": "597c87f6-5ed7-4dd9-b377-7ba9d62c0432",
   "metadata": {
    "tags": []
   },
   "outputs": [],
   "source": [
    "from pysbd import Segmenter"
   ]
  },
  {
   "cell_type": "code",
   "execution_count": 149,
   "id": "cd0ffa9b-be15-40ca-a736-2c908a01be1e",
   "metadata": {
    "tags": []
   },
   "outputs": [
    {
     "name": "stdout",
     "output_type": "stream",
     "text": [
      "sagemaker.config INFO - Not applying SDK defaults from location: /etc/xdg/sagemaker/config.yaml\n",
      "sagemaker.config INFO - Not applying SDK defaults from location: /home/ec2-user/.config/sagemaker/config.yaml\n"
     ]
    }
   ],
   "source": [
    "# connect to SageMaker\n",
    "try:\n",
    "    role = sagemaker.get_execution_role()\n",
    "except ValueError:\n",
    "    iam = boto3.client('iam')\n",
    "    role = iam.get_role(RoleName='sagemaker_execution_role')['Role']['Arn']"
   ]
  },
  {
   "cell_type": "code",
   "execution_count": 150,
   "id": "51626949-0be1-498f-9b6e-91c54f809a19",
   "metadata": {
    "tags": []
   },
   "outputs": [
    {
     "name": "stdout",
     "output_type": "stream",
     "text": [
      "sagemaker.config INFO - Not applying SDK defaults from location: /etc/xdg/sagemaker/config.yaml\n",
      "sagemaker.config INFO - Not applying SDK defaults from location: /home/ec2-user/.config/sagemaker/config.yaml\n",
      "sagemaker.config INFO - Not applying SDK defaults from location: /etc/xdg/sagemaker/config.yaml\n",
      "sagemaker.config INFO - Not applying SDK defaults from location: /home/ec2-user/.config/sagemaker/config.yaml\n",
      "\u001b[1maws_region:\u001b[0m us-west-2\n",
      "\u001b[1maws_role:\u001b[0m arn:aws:iam::571667364805:role/service-role/AmazonSageMaker-ExecutionRole-20231103T080028\n",
      "\u001b[1moutput_bucket:\u001b[0m sagemaker-us-west-2-571667364805\n",
      "\u001b[1msagemaker role arn:\u001b[0m arn:aws:iam::571667364805:role/service-role/AmazonSageMaker-ExecutionRole-20231103T080028\n"
     ]
    }
   ],
   "source": [
    "# Get current region, role, and default bucket\n",
    "aws_region = boto3.Session().region_name\n",
    "aws_role = sagemaker.session.Session().get_caller_identity_arn()\n",
    "output_bucket = sagemaker.Session().default_bucket()\n",
    "\n",
    "# This will be useful for printing\n",
    "newline, bold, unbold = \"\\n\", \"\\033[1m\", \"\\033[0m\"\n",
    "\n",
    "print(f\"{bold}aws_region:{unbold} {aws_region}\")\n",
    "print(f\"{bold}aws_role:{unbold} {aws_role}\")\n",
    "print(f\"{bold}output_bucket:{unbold} {output_bucket}\")\n",
    "print(f\"{bold}sagemaker role arn:{unbold} {role}\")"
   ]
  },
  {
   "cell_type": "code",
   "execution_count": 152,
   "id": "a9724161-d875-4a57-904b-3504acef5ef3",
   "metadata": {
    "tags": []
   },
   "outputs": [],
   "source": [
    "# sm-llm-aws, sm-gec-aws, sm-cc-aws\n",
    "ENDPOINT_NAME = 'sm-llm-aws'\n",
    "runtime = boto3.client('runtime.sagemaker')"
   ]
  },
  {
   "cell_type": "code",
   "execution_count": 195,
   "id": "5f269bd7-3327-4580-9a75-955d42860fc3",
   "metadata": {
    "tags": []
   },
   "outputs": [],
   "source": [
    "# functions\n",
    "parameters = {\n",
    "    \"max_new_tokens\": 64,\n",
    "    \"top_k\": 50,\n",
    "    \"top_p\": 0.95,\n",
    "    \"do_sample\": True,\n",
    "    \"temperature\": 0.5, # .0001, playing around with this value\n",
    "    \"stop\": [\"<|endoftext|>\", \"</s>\"]\n",
    "}\n",
    "\n",
    "def query_endpoint_with_json_payload(encoded_json, endpoint_name):\n",
    "    response = runtime.invoke_endpoint(\n",
    "        EndpointName=endpoint_name, ContentType=\"application/json\", Body=encoded_json\n",
    "    )\n",
    "    return response\n",
    "\n",
    "def parse_response(query_response):\n",
    "    model_predictions = json.loads(query_response[\"Body\"].read().decode('utf-8'))\n",
    "    return model_predictions[0][\"generated_text\"]\n",
    "\n",
    "def generate_response(endpoint_name, text):\n",
    "    payload = {\"inputs\": f\"{text}:\", \"parameters\": parameters}\n",
    "    #payload = {\"inputs\": f\"{text}:\"}\n",
    "    query_response = query_endpoint_with_json_payload(\n",
    "        json.dumps(payload).encode(\"utf-8\"), endpoint_name=endpoint_name\n",
    "    )\n",
    "    generated_texts = parse_response(query_response)\n",
    "    return generated_texts\n",
    "\n",
    "# def create_llm_input(user_content):\n",
    "#     return {\n",
    "#         \"inputs\": [[\n",
    "#             {\"role\": \"system\", \"content\": \"You are a Spanish teacher. Be nice.\"},\n",
    "#             {\"role\": \"user\", \"content\": user_content},\n",
    "#         ]]\n",
    "#     }\n",
    "\n",
    "def create_llm_input(user_content):\n",
    "    prompt_eng = f\"\"\"You are a Spanish teacher. Your respond in Spanish.\n",
    "    \n",
    "    ### Input:\\n{user_content}\n",
    "    ### Respond\":\"\"\"\n",
    "    \n",
    "    return prompt_eng\n",
    "\n",
    "def generate_chatbot_response(user_content):\n",
    "    raw_response = generate_response(ENDPOINT_NAME, create_llm_input(user_content))\n",
    "    #print(raw_response)\n",
    "    #sentences = re.findall(r'.*?\\.\\s*\\)?(?!\\s*\\()', raw_response)\n",
    "    #sentences = re.match(r'[\\r][\\n]', raw_response)\n",
    "    #return sentences[0].strip()\n",
    "    segmenter = Segmenter(language='es', clean=False)\n",
    "    sents = segmenter.segment(raw_response)\n",
    "    response = sents[0].strip() + ' ' + sents[1].strip() if sents[0].strip() == 'Veo.' else sents[0].strip()\n",
    "    return response"
   ]
  },
  {
   "cell_type": "code",
   "execution_count": 154,
   "id": "0e347194-c59e-4701-bf09-768773333372",
   "metadata": {
    "tags": []
   },
   "outputs": [],
   "source": [
    "# user input (with mistake) and next question\n",
    "\n",
    "# pair 1\n",
    "# Assistant: Hola, ¿cómo estás? (Hello, how are you?)\n",
    "#user_input = \"Ho0ola.\"\n",
    "user_input = \"Estoy bienes, gracias.\"\n",
    "input_error = \"the word, bienes, has a number disagreement error.\"\n",
    "next_question = \"¿Estás libre hoy?\"\n",
    "\n",
    "# pair 2\n",
    "# user_input = \"Sí, tengo algo de tiempos hoy.\"\n",
    "# input_error = \"the word, tiempos, has a number disagreement error.\"\n",
    "# next_question = \"¿Quieres ir de compras conmigo?\"\n",
    "\n",
    "# pair 3\n",
    "# user_input = \"Sí, necesito comprar un chaqueta.\"\n",
    "# input_error = \"the word, un, has a gender disagreement error.\"\n",
    "# next_question = \"¿A qué hora te gustaría ir?\"\n",
    "\n",
    "# pair 4\n",
    "# user_input = \"A las dieza.\"\n",
    "# input_error = \"the word, dieza, has a gender disagreement error.\"\n",
    "# next_question = \"Vale, nos vemos luego.\"\n",
    "\n",
    "# pair 5\n",
    "# user_input = \"Hasta luega.\"\n",
    "# input_error = \"the word, luega, has a gender disagreement error.\"\n",
    "# next_question = \"adiós!\""
   ]
  },
  {
   "cell_type": "code",
   "execution_count": 155,
   "id": "fecbac7f-42d1-47cd-bb1f-f795543da9f3",
   "metadata": {
    "tags": []
   },
   "outputs": [],
   "source": [
    "#instruction = \"You are a Spanish teacher. Your respond in Spanish. Keep it short.\"\n",
    "#gec_prompt = f\"'{user_input}' has grammetical error. Return the correction and nothing else:\"\n",
    "\n",
    "nogec_prompt = f\"rephrase '{next_question}' in Spanish and nothing else:\"\n",
    "\n",
    "# add input_error from GEC model\n",
    "gec_prompt = f\"In '{user_input}', {input_error} Return a rephrase correction and nothing else:\""
   ]
  },
  {
   "cell_type": "markdown",
   "id": "daad9fd9-2ae9-45c8-b24c-31f6310802e0",
   "metadata": {},
   "source": [
    "### Option 1, no GEC needed call"
   ]
  },
  {
   "cell_type": "code",
   "execution_count": 157,
   "id": "32890db8-668d-42d9-bdbe-f07737690ff2",
   "metadata": {
    "tags": []
   },
   "outputs": [
    {
     "name": "stdout",
     "output_type": "stream",
     "text": [
      "CPU times: user 32.9 ms, sys: 7.43 ms, total: 40.3 ms\n",
      "Wall time: 2.27 s\n"
     ]
    },
    {
     "data": {
      "text/plain": [
       "'¿Estás libre hoy?'"
      ]
     },
     "execution_count": 157,
     "metadata": {},
     "output_type": "execute_result"
    }
   ],
   "source": [
    "%%time\n",
    "\n",
    "question_output = generate_chatbot_response(nogec_prompt)\n",
    "#question_output = generate_response(predictor.endpoint_name, prompt_template(instruction,nogec_prompt))\n",
    "question_output"
   ]
  },
  {
   "cell_type": "markdown",
   "id": "110ae9ca-d55b-4eb8-846e-82edac1971eb",
   "metadata": {},
   "source": [
    "### Option 2, GEC needed call"
   ]
  },
  {
   "cell_type": "code",
   "execution_count": 159,
   "id": "a37e5ded-9d7b-44db-a411-b94eb080169f",
   "metadata": {
    "tags": []
   },
   "outputs": [
    {
     "name": "stdout",
     "output_type": "stream",
     "text": [
      "CPU times: user 8.23 ms, sys: 0 ns, total: 8.23 ms\n",
      "Wall time: 2.16 s\n"
     ]
    },
    {
     "data": {
      "text/plain": [
       "'Estoy bien, gracias.'"
      ]
     },
     "execution_count": 159,
     "metadata": {},
     "output_type": "execute_result"
    }
   ],
   "source": [
    "%%time\n",
    "\n",
    "gec_output = generate_chatbot_response(gec_prompt)\n",
    "gec_output"
   ]
  },
  {
   "cell_type": "code",
   "execution_count": 161,
   "id": "e0c4ac91-5d53-4647-9219-f3726f68c136",
   "metadata": {
    "tags": []
   },
   "outputs": [
    {
     "data": {
      "text/plain": [
       "'Veo, quieres decir Estoy bien, gracias.'"
      ]
     },
     "execution_count": 161,
     "metadata": {},
     "output_type": "execute_result"
    }
   ],
   "source": [
    "scaffold_output = generate_chatbot_response(\n",
    "    \"Response with 'Veo, quieres decir \" + gec_output + \"' and nothing else:\"\n",
    ")\n",
    "\n",
    "scaffold_output"
   ]
  },
  {
   "cell_type": "code",
   "execution_count": 162,
   "id": "3e5c0ad4-9e1a-4c7b-8301-0a8280e17244",
   "metadata": {
    "tags": []
   },
   "outputs": [
    {
     "data": {
      "text/plain": [
       "'¿Estás libre hoy?'"
      ]
     },
     "execution_count": 162,
     "metadata": {},
     "output_type": "execute_result"
    }
   ],
   "source": [
    "# next question from the conversation script \n",
    "question_output = generate_chatbot_response(nogec_prompt)\n",
    "question_output"
   ]
  },
  {
   "cell_type": "code",
   "execution_count": 163,
   "id": "63bfbe15-114d-4bda-92fb-dc05dc3bc44a",
   "metadata": {
    "tags": []
   },
   "outputs": [
    {
     "name": "stdout",
     "output_type": "stream",
     "text": [
      "Veo, quieres decir Estoy bien, gracias. ¿Estás libre hoy?\n"
     ]
    }
   ],
   "source": [
    "# final output \n",
    "print(scaffold_output + \" \" + question_output)"
   ]
  },
  {
   "cell_type": "markdown",
   "id": "c70f6300-ef3e-4b6c-b108-e89fb794d0c6",
   "metadata": {},
   "source": [
    "## Group Outputs"
   ]
  },
  {
   "cell_type": "code",
   "execution_count": 164,
   "id": "1a783244-495c-457a-a2fa-9bccf73a8306",
   "metadata": {
    "tags": []
   },
   "outputs": [],
   "source": [
    "dataset = [\n",
    "    {\"user_input\": \"Estoy bienes, gracias.\", \n",
    "     \"input_error\": \"the word, bienes, has a number disagreement error.\", \n",
    "     \"next_question\": \"¿Estás libre hoy?\"},\n",
    "    {\"user_input\": \"Sí, tengo algo de tiempos hoy.\", \n",
    "     \"input_error\": \"the word, tiempos, has a number disagreement error.\", \n",
    "     \"next_question\": \"¿Quieres ir de compras conmigo?\"},\n",
    "    {\"user_input\": \"Sí, necesito comprar un chaqueta.\", \n",
    "     \"input_error\": \"the word, un, has a gender disagreement error.\", \n",
    "     \"next_question\": \"¿A qué hora te gustaría ir?\"},\n",
    "    {\"user_input\": \"A las dieza.\", \n",
    "     \"input_error\": \"the word, dieza, has a gender disagreement error.\", \n",
    "     \"next_question\": \"Vale, nos vemos luego.\"},\n",
    "    {\"user_input\": \"Hasta luega.\", \n",
    "     \"input_error\": \"the word, luega, has a gender disagreement error.\", \n",
    "     \"next_question\": \"adiós!\"},\n",
    "]"
   ]
  },
  {
   "cell_type": "code",
   "execution_count": 165,
   "id": "6db81411-89eb-4cbd-a0e6-a120e0803f07",
   "metadata": {
    "tags": []
   },
   "outputs": [],
   "source": [
    "import pandas as pd\n",
    "\n",
    "datas = pd.DataFrame(dataset)"
   ]
  },
  {
   "cell_type": "code",
   "execution_count": 166,
   "id": "9933237f-a01a-4483-96c3-22ca24255661",
   "metadata": {
    "tags": []
   },
   "outputs": [
    {
     "data": {
      "text/plain": [
       "'Estoy bienes, gracias.'"
      ]
     },
     "execution_count": 166,
     "metadata": {},
     "output_type": "execute_result"
    }
   ],
   "source": [
    "datas[\"user_input\"][0]"
   ]
  },
  {
   "cell_type": "code",
   "execution_count": 167,
   "id": "87dd7f8e-4ed6-41d0-bb2e-039c29a39ebe",
   "metadata": {},
   "outputs": [],
   "source": [
    "nogec_prompt = f\"rephrase '{next_question}' in Spanish and nothing else:\"\n",
    "\n",
    "# add input_error from GEC model\n",
    "gec_prompt = f\"In '{user_input}', {input_error} Return the correction and nothing else:\""
   ]
  },
  {
   "cell_type": "markdown",
   "id": "a78bf6fd-b935-43cc-ae76-3a5970bd21b9",
   "metadata": {
    "tags": []
   },
   "source": [
    "## note: to change the temperature, scroll up to where the functions are defined, change the temperature, and run the cell"
   ]
  },
  {
   "cell_type": "code",
   "execution_count": 196,
   "id": "0b87de74-d039-4246-b071-57507dec46fb",
   "metadata": {
    "tags": []
   },
   "outputs": [
    {
     "name": "stdout",
     "output_type": "stream",
     "text": [
      "INPUTS\n",
      "user input: Estoy bienes, gracias.\n",
      "next question: ¿Estás libre hoy?\n",
      "OUTPUTS\n",
      "gec_prompt: In 'Estoy bienes, gracias.', the word, bienes, has a number disagreement error. Return the correction and nothing else:\n",
      "gec response: Estoy bien, gracias.\n",
      "scaffolding prompt input using gec response: Rephrase 'Veo, quieres decir 'Estoy bien, gracias.' and nothing else:\n",
      "scaffold output: Veo, quieres decir \"Estoy bien, gracias.\" y nada más.\n",
      "next question prompt: rephrase '¿Estás libre hoy?' differently in Spanish and nothing else:\n",
      "next question output: ### Output:\n",
      "RESPONSE = Veo, quieres decir \"Estoy bien, gracias.\" y nada más. ### Output:\n",
      "\n",
      "\n",
      "INPUTS\n",
      "user input: Sí, tengo algo de tiempos hoy.\n",
      "next question: ¿Quieres ir de compras conmigo?\n",
      "OUTPUTS\n",
      "gec_prompt: In 'Sí, tengo algo de tiempos hoy.', the word, tiempos, has a number disagreement error. Return the correction and nothing else:\n",
      "gec response: Sí, tengo algo de tiempos hoy.\n",
      "scaffolding prompt input using gec response: Rephrase 'Veo, quieres decir 'Sí, tengo algo de tiempos hoy.' and nothing else:\n",
      "scaffold output: Sí, tengo algo de tiempos hoy.\n",
      "next question prompt: rephrase '¿Quieres ir de compras conmigo?' differently in Spanish and nothing else:\n",
      "next question output: ### Output:\n",
      "RESPONSE = Sí, tengo algo de tiempos hoy. ### Output:\n",
      "\n",
      "\n",
      "INPUTS\n",
      "user input: Sí, necesito comprar un chaqueta.\n",
      "next question: ¿A qué hora te gustaría ir?\n",
      "OUTPUTS\n",
      "gec_prompt: In 'Sí, necesito comprar un chaqueta.', the word, un, has a gender disagreement error. Return the correction and nothing else:\n",
      "gec response: Sí, necesito comprar una chaqueta.\n",
      "scaffolding prompt input using gec response: Rephrase 'Veo, quieres decir 'Sí, necesito comprar una chaqueta.' and nothing else:\n",
      "scaffold output: Veo, quieres decir 'Sí, necesito comprar una chaqueta.' y nada más:\n",
      "next question prompt: rephrase '¿A qué hora te gustaría ir?' differently in Spanish and nothing else:\n",
      "next question output: ¿A qué hora te gustaría ir?\n",
      "RESPONSE = Veo, quieres decir 'Sí, necesito comprar una chaqueta.' y nada más: ¿A qué hora te gustaría ir?\n",
      "\n",
      "\n",
      "INPUTS\n",
      "user input: A las dieza.\n",
      "next question: Vale, nos vemos luego.\n",
      "OUTPUTS\n",
      "gec_prompt: In 'A las dieza.', the word, dieza, has a gender disagreement error. Return the correction and nothing else:\n",
      "gec response: ### Output:\n",
      "scaffolding prompt input using gec response: Rephrase 'Veo, quieres decir '### Output:' and nothing else:\n",
      "scaffold output: > Respond \"Veo, quieres decir '\n",
      "next question prompt: rephrase 'Vale, nos vemos luego.' differently in Spanish and nothing else:\n",
      "next question output: ```\n",
      "RESPONSE = > Respond \"Veo, quieres decir ' ```\n",
      "\n",
      "\n",
      "INPUTS\n",
      "user input: Hasta luega.\n",
      "next question: adiós!\n",
      "OUTPUTS\n",
      "gec_prompt: In 'Hasta luega.', the word, luega, has a gender disagreement error. Return the correction and nothing else:\n",
      "gec response: ### Output:\n",
      "scaffolding prompt input using gec response: Rephrase 'Veo, quieres decir '### Output:' and nothing else:\n",
      "scaffold output: Veo, quieres decir '\n",
      "next question prompt: rephrase 'adiós!' differently in Spanish and nothing else:\n",
      "next question output: adiós!\n",
      "RESPONSE = Veo, quieres decir ' adiós!\n",
      "\n",
      "\n"
     ]
    }
   ],
   "source": [
    "for index, data in datas.iterrows():\n",
    "    next_question = data[\"next_question\"]\n",
    "    user_input = data[\"user_input\"]\n",
    "    input_error = data[\"input_error\"]\n",
    "    nogec_prompt = f\"rephrase '{next_question}' differently in Spanish and nothing else:\"\n",
    "    gec_prompt = f\"In '{user_input}', {input_error} Return the correction and nothing else:\"\n",
    "    print(\"INPUTS\")\n",
    "    print(\"user input: \" + user_input)\n",
    "    print(\"next question: \" + next_question)\n",
    "    print(\"OUTPUTS\")\n",
    "    \n",
    "    print(\"gec_prompt: \" + gec_prompt)\n",
    "    gec_response = generate_chatbot_response(gec_prompt)\n",
    "    print(\"gec response: \" + gec_response)\n",
    "    \n",
    "    scaffold_prompt = \"Rephrase 'Veo, quieres decir '\" + gec_response + \"' and nothing else:\"\n",
    "    print(\"scaffolding prompt input using gec response: \" + scaffold_prompt)\n",
    "    scaffold_output = generate_chatbot_response(\n",
    "        \"Rephrase 'Veo, quieres decir '\" + gec_response + \"' and nothing else:\"\n",
    "    )\n",
    "    print(\"scaffold output: \" + scaffold_output)\n",
    "    print(\"next question prompt: \" + nogec_prompt)\n",
    "\n",
    "    question_output = generate_chatbot_response(nogec_prompt)\n",
    "    print(\"next question output: \" + question_output)\n",
    "    print(\"RESPONSE = \" + scaffold_output + \" \" + question_output)\n",
    "    print(\"\\n\")"
   ]
  },
  {
   "cell_type": "code",
   "execution_count": null,
   "id": "cd3a663e-e693-4b7d-a238-deeb608081d6",
   "metadata": {},
   "outputs": [],
   "source": []
  },
  {
   "cell_type": "code",
   "execution_count": null,
   "id": "5e1fdb01-e1b4-48e4-a7c4-253ab8c50ed3",
   "metadata": {},
   "outputs": [],
   "source": []
  },
  {
   "cell_type": "code",
   "execution_count": null,
   "id": "9f500092-cb73-4dde-a565-ba0dbbfba3ed",
   "metadata": {},
   "outputs": [],
   "source": []
  },
  {
   "cell_type": "code",
   "execution_count": null,
   "id": "071fcfed-c40c-4f12-9e78-0c05c6b5ab91",
   "metadata": {},
   "outputs": [],
   "source": []
  }
 ],
 "metadata": {
  "kernelspec": {
   "display_name": "conda_pytorch_p310",
   "language": "python",
   "name": "conda_pytorch_p310"
  },
  "language_info": {
   "codemirror_mode": {
    "name": "ipython",
    "version": 3
   },
   "file_extension": ".py",
   "mimetype": "text/x-python",
   "name": "python",
   "nbconvert_exporter": "python",
   "pygments_lexer": "ipython3",
   "version": "3.10.13"
  }
 },
 "nbformat": 4,
 "nbformat_minor": 5
}
