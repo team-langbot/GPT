{
 "cells": [
  {
   "cell_type": "markdown",
   "metadata": {
    "id": "KrDYrHfaceL5"
   },
   "source": [
    "# llama 2 7B with Fine Tune - meta-llama/Llama-2-7b-chat-hf"
   ]
  },
  {
   "cell_type": "code",
   "execution_count": null,
   "metadata": {
    "colab": {
     "base_uri": "https://localhost:8080/"
    },
    "executionInfo": {
     "elapsed": 17611,
     "status": "ok",
     "timestamp": 1687842031307,
     "user": {
      "displayName": "vkick mon",
      "userId": "02137202117684192170"
     },
     "user_tz": 420
    },
    "id": "5ZIDQtOnce0V",
    "outputId": "fee954d0-e08b-4d69-d89e-34d4a2ad11cd"
   },
   "outputs": [],
   "source": [
    "#!pip install -q -U trl transformers accelerate git+https://github.com/huggingface/peft.git\n",
    "#!pip install -q datasets bitsandbytes einops wandb"
   ]
  },
  {
   "cell_type": "code",
   "execution_count": null,
   "metadata": {
    "colab": {
     "base_uri": "https://localhost:8080/"
    },
    "executionInfo": {
     "elapsed": 1199,
     "status": "ok",
     "timestamp": 1687842032503,
     "user": {
      "displayName": "vkick mon",
      "userId": "02137202117684192170"
     },
     "user_tz": 420
    },
    "id": "tys2LElZe4fM",
    "outputId": "616f7902-c9d2-46d6-999b-869947dd6ddb"
   },
   "outputs": [],
   "source": [
    "#from google.colab import drive\n",
    "#drive.mount('/content/drive')"
   ]
  },
  {
   "cell_type": "code",
   "execution_count": null,
   "metadata": {
    "colab": {
     "base_uri": "https://localhost:8080/"
    },
    "executionInfo": {
     "elapsed": 6,
     "status": "ok",
     "timestamp": 1687842032504,
     "user": {
      "displayName": "vkick mon",
      "userId": "02137202117684192170"
     },
     "user_tz": 420
    },
    "id": "0mdD74d5e_e_",
    "outputId": "5cab12f8-8277-4b1a-cebb-64258515c2e1"
   },
   "outputs": [],
   "source": [
    "#!ls '/content/drive/MyDrive/liveX'"
   ]
  },
  {
   "cell_type": "code",
   "execution_count": null,
   "metadata": {
    "executionInfo": {
     "elapsed": 4,
     "status": "ok",
     "timestamp": 1687842032504,
     "user": {
      "displayName": "vkick mon",
      "userId": "02137202117684192170"
     },
     "user_tz": 420
    },
    "id": "y_5MlZm-fMgy"
   },
   "outputs": [],
   "source": [
    "folder_path = ''"
   ]
  },
  {
   "cell_type": "code",
   "execution_count": 5,
   "metadata": {},
   "outputs": [
    {
     "name": "stdout",
     "output_type": "stream",
     "text": [
      "Mon Jul 24 18:59:19 2023       \n",
      "+-----------------------------------------------------------------------------+\n",
      "| NVIDIA-SMI 525.125.06   Driver Version: 525.125.06   CUDA Version: 12.0     |\n",
      "|-------------------------------+----------------------+----------------------+\n",
      "| GPU  Name        Persistence-M| Bus-Id        Disp.A | Volatile Uncorr. ECC |\n",
      "| Fan  Temp  Perf  Pwr:Usage/Cap|         Memory-Usage | GPU-Util  Compute M. |\n",
      "|                               |                      |               MIG M. |\n",
      "|===============================+======================+======================|\n",
      "|   0  NVIDIA GeForce ...  Off  | 00000000:01:00.0  On |                  Off |\n",
      "| 59%   63C    P8    34W / 450W |   9371MiB / 24564MiB |      0%      Default |\n",
      "|                               |                      |                  N/A |\n",
      "+-------------------------------+----------------------+----------------------+\n",
      "|   1  NVIDIA GeForce ...  Off  | 00000000:07:00.0 Off |                  Off |\n",
      "| 32%   50C    P8    24W / 450W |   9271MiB / 24564MiB |      0%      Default |\n",
      "|                               |                      |                  N/A |\n",
      "+-------------------------------+----------------------+----------------------+\n",
      "                                                                               \n",
      "+-----------------------------------------------------------------------------+\n",
      "| Processes:                                                                  |\n",
      "|  GPU   GI   CI        PID   Type   Process name                  GPU Memory |\n",
      "|        ID   ID                                                   Usage      |\n",
      "|=============================================================================|\n",
      "+-----------------------------------------------------------------------------+\n"
     ]
    }
   ],
   "source": [
    "!nvidia-smi"
   ]
  },
  {
   "cell_type": "markdown",
   "metadata": {
    "id": "6oxOMMp1cpfg"
   },
   "source": [
    "# LiveX Dataset"
   ]
  },
  {
   "cell_type": "code",
   "execution_count": 6,
   "metadata": {
    "colab": {
     "base_uri": "https://localhost:8080/"
    },
    "executionInfo": {
     "elapsed": 1181,
     "status": "ok",
     "timestamp": 1687842034955,
     "user": {
      "displayName": "vkick mon",
      "userId": "02137202117684192170"
     },
     "user_tz": 420
    },
    "id": "JC4P2X1Nce2v",
    "outputId": "ba0e0d3d-68c0-4417-ecc1-d32517987d35"
   },
   "outputs": [
    {
     "name": "stderr",
     "output_type": "stream",
     "text": [
      "/usr/local/lib/python3.10/dist-packages/tqdm/auto.py:21: TqdmWarning: IProgress not found. Please update jupyter and ipywidgets. See https://ipywidgets.readthedocs.io/en/stable/user_install.html\n",
      "  from .autonotebook import tqdm as notebook_tqdm\n",
      "Found cached dataset json (/root/.cache/huggingface/datasets/json/default-5ec9a2617a837f78/0.0.0/8bb11242116d547c741b2e8a1f18598ffdd40a1d4f2a2872c7a28b697434bc96)\n"
     ]
    }
   ],
   "source": [
    "from datasets import load_dataset\n",
    "\n",
    "#dataset = load_dataset('json', data_files='wyze_products_meta_cleaned.json')\n",
    "dataset_name = folder_path + 'wyze_products_meta_cleaned.json'\n",
    "dataset = load_dataset('json', data_files=dataset_name, split='train')"
   ]
  },
  {
   "cell_type": "code",
   "execution_count": 7,
   "metadata": {
    "colab": {
     "base_uri": "https://localhost:8080/"
    },
    "executionInfo": {
     "elapsed": 2,
     "status": "ok",
     "timestamp": 1687842035841,
     "user": {
      "displayName": "vkick mon",
      "userId": "02137202117684192170"
     },
     "user_tz": 420
    },
    "id": "aoGPtxcCce8r",
    "outputId": "d1bba2a5-3dc0-4a16-b184-372137d2bcba"
   },
   "outputs": [
    {
     "data": {
      "text/plain": [
       "Dataset({\n",
       "    features: ['url', 'idx', 'document', 'cleaned_text', 'questions', 'url_id', 'title'],\n",
       "    num_rows: 1866\n",
       "})"
      ]
     },
     "execution_count": 7,
     "metadata": {},
     "output_type": "execute_result"
    }
   ],
   "source": [
    "dataset"
   ]
  },
  {
   "cell_type": "code",
   "execution_count": 8,
   "metadata": {
    "colab": {
     "base_uri": "https://localhost:8080/"
    },
    "executionInfo": {
     "elapsed": 266,
     "status": "ok",
     "timestamp": 1687842037758,
     "user": {
      "displayName": "vkick mon",
      "userId": "02137202117684192170"
     },
     "user_tz": 420
    },
    "id": "DQDB8O96ce9g",
    "outputId": "ddbc468f-92d6-4bca-9dd4-0cd0d1ae09b0"
   },
   "outputs": [
    {
     "data": {
      "text/plain": [
       "[\"Where's the best place to put my mesh router?\",\n",
       " 'Wyze Video Doorbell Pro Setup Guide']"
      ]
     },
     "execution_count": 8,
     "metadata": {},
     "output_type": "execute_result"
    }
   ],
   "source": [
    "dataset['title'][:2]"
   ]
  },
  {
   "cell_type": "code",
   "execution_count": 9,
   "metadata": {},
   "outputs": [
    {
     "data": {
      "text/plain": [
       "['Centrally, with good visibility in your home.\\nThe best place to put Wyze Mesh Router is in a central location with good “line of sight” visibility to the main areas of your home.\\nAvoid placing the router next to large appliances, behind TVs, or in \"service closets\" such as power distribution or fuse panels. While the router is designed to provide extensive wireless range and coverage, these areas are sources of interference and may reduce your throughput or range.For best performance, be sure to place the router upright and on a table top or flat surface.',\n",
       " \"Before you begin setup\\nDownload the Wyze app in the Apple App Store or Google Play. The Wyze app is only compatible with Android 7.0+ and iOS 12.0+.\\nWhat’s in the box?\\n1x Wyze Video Doorbell Pro\\n1x Wyze Chime Pro\\n1x Quick Start Guide\\n1x Back Plate for Screw\\n1x Back Plate for 3M Tape\\n1x 3M Tape\\n1x T8 Screwdriver\\n3x Wire Nuts\\n4x Bracket Screws\\n2x Extension Wires\\n3x Expansion Tubes\\n1x USB Charging Cable\\nTo set up your Wyze Video Doorbell Pro:\\nIn the Wyze app, tap\\xa0Home, then tap\\xa0+ plus sign\\xa0on the top left.\\nTap\\xa0Add Device.\\nTap Cameras > Wyze Video Doorbell Pro.\\nPress the power button on the back of the doorbell for 5 seconds until you see the doorbell LED lights slowly flash blue and a “power on” voice prompt sounds.\\nPlug your Chime Pro into any standard outlet. The Wi-Fi signal icon in the bottom left corner may flash pink/purple.\\nPlace Wyze Chime Pro within 30 feet of your router.\\nPlace Wyze Video Doorbell Pro within 30 feet of Wyze Chime Pro.\\nPress and hold the reset button on the side of the chime device until it says “Reset successfully”, then “Bluetooth connected”. Wait a few seconds until the light on the chime flashes yellow and “Ready to connect” sounds.\\nIn the app, tap the checkbox “I see yellow light flashes” then tap Next.\\nThe doorbell will automatically begin searching for Wyze Chime Pro and will then prompt you to select your Wi-Fi network and enter the Wi-Fi password. Tap Connect.\\nTip💡: You can connect to either a 2.4 GHz or 5 GHz Wi-Fi!\\nThe app will ask if you want to go through an installation tutorial.\\nIf you want to mount the doorbell without wires, you're all set. No further action is needed in the app. Tap “Skip doorbell set up”.\\nIf you want to install your Wyze Video Doorbell Pro using your existing wiring, tap Next.\\nYour Wyze Video Doorbell Pro setup is complete!\\nOnce your doorbell is installed, it's time to complete installation in the Wyze app. Return to the Wyze Video Doorbell Pro Installation Guide.\"]"
      ]
     },
     "execution_count": 9,
     "metadata": {},
     "output_type": "execute_result"
    }
   ],
   "source": [
    "dataset['cleaned_text'][:2]"
   ]
  },
  {
   "cell_type": "markdown",
   "metadata": {
    "id": "NJuJy56FdMi1"
   },
   "source": [
    "# The Model"
   ]
  },
  {
   "cell_type": "code",
   "execution_count": 10,
   "metadata": {
    "colab": {
     "base_uri": "https://localhost:8080/",
     "height": 605,
     "referenced_widgets": [
      "5766b5b8060e47f79803991a155c3cdb",
      "5ea722f606054e75b5830b6808d7ed60",
      "f1dba27d776c4df7913a3a3c025d14a6",
      "39fff17c928c4af5993c87e5eb7b1a62",
      "1a86c9fb2c6a410688e36ae6a386e0fe",
      "472f0ad09d0b4477aa1daaf0847ae7d3",
      "af45cfb019064492adbe57f5af7be904",
      "7a51293cdd3c41dd8e913d5a8cadd4aa",
      "0eb2a785f3b843ac938a7fdb986e83c9",
      "33012c7482074be09e5970bbbdd1c361",
      "2cf9c79820c54fd2b5e99676f132efa8"
     ]
    },
    "executionInfo": {
     "elapsed": 133235,
     "status": "ok",
     "timestamp": 1687842174630,
     "user": {
      "displayName": "vkick mon",
      "userId": "02137202117684192170"
     },
     "user_tz": 420
    },
    "id": "Xtyomabece-5",
    "outputId": "6dfdbcd6-3424-46f7-c187-04e50a8ad9db"
   },
   "outputs": [],
   "source": [
    "import torch\n",
    "import transformers\n",
    "from transformers import AutoModelForCausalLM, AutoTokenizer, BitsAndBytesConfig"
   ]
  },
  {
   "cell_type": "code",
   "execution_count": 11,
   "metadata": {},
   "outputs": [],
   "source": [
    "#from transformers import LlamaForCausalLM, LlamaTokenizer\n",
    "\n",
    "#tokenizer = LlamaTokenizer.from_pretrained(\"/output/path\")\n",
    "#model = LlamaForCausalLM.from_pretrained(\"/output/path\")"
   ]
  },
  {
   "cell_type": "code",
   "execution_count": 12,
   "metadata": {},
   "outputs": [],
   "source": [
    "#from huggingface_hub import login\n",
    "#login()"
   ]
  },
  {
   "cell_type": "markdown",
   "metadata": {},
   "source": [
    "### Using 4bits quantization"
   ]
  },
  {
   "cell_type": "code",
   "execution_count": 13,
   "metadata": {
    "colab": {
     "base_uri": "https://localhost:8080/",
     "height": 605,
     "referenced_widgets": [
      "5766b5b8060e47f79803991a155c3cdb",
      "5ea722f606054e75b5830b6808d7ed60",
      "f1dba27d776c4df7913a3a3c025d14a6",
      "39fff17c928c4af5993c87e5eb7b1a62",
      "1a86c9fb2c6a410688e36ae6a386e0fe",
      "472f0ad09d0b4477aa1daaf0847ae7d3",
      "af45cfb019064492adbe57f5af7be904",
      "7a51293cdd3c41dd8e913d5a8cadd4aa",
      "0eb2a785f3b843ac938a7fdb986e83c9",
      "33012c7482074be09e5970bbbdd1c361",
      "2cf9c79820c54fd2b5e99676f132efa8"
     ]
    },
    "executionInfo": {
     "elapsed": 133235,
     "status": "ok",
     "timestamp": 1687842174630,
     "user": {
      "displayName": "vkick mon",
      "userId": "02137202117684192170"
     },
     "user_tz": 420
    },
    "id": "Xtyomabece-5",
    "outputId": "6dfdbcd6-3424-46f7-c187-04e50a8ad9db"
   },
   "outputs": [
    {
     "name": "stderr",
     "output_type": "stream",
     "text": [
      "/usr/local/lib/python3.10/dist-packages/transformers/modeling_utils.py:2193: FutureWarning: The `use_auth_token` argument is deprecated and will be removed in v5 of Transformers.\n",
      "  warnings.warn(\n",
      "Loading checkpoint shards: 100%|██████████████████████████████████████████████████| 2/2 [00:02<00:00,  1.16s/it]\n"
     ]
    }
   ],
   "source": [
    "model_name = \"meta-llama/Llama-2-7b-chat-hf\"\n",
    "\n",
    "bnb_config = BitsAndBytesConfig(\n",
    "    load_in_4bit=True,\n",
    "    bnb_4bit_quant_type=\"nf4\",\n",
    "    bnb_4bit_compute_dtype=torch.float16,\n",
    ")\n",
    "\n",
    "model = AutoModelForCausalLM.from_pretrained(\n",
    "    model_name,\n",
    "    use_auth_token=True,\n",
    "    quantization_config=bnb_config,\n",
    "    device_map='auto', # to use both GPU cards. check nvtop\n",
    "    trust_remote_code=True\n",
    ")\n",
    "model.config.use_cache = False"
   ]
  },
  {
   "cell_type": "code",
   "execution_count": 14,
   "metadata": {
    "executionInfo": {
     "elapsed": 287,
     "status": "ok",
     "timestamp": 1687842174905,
     "user": {
      "displayName": "vkick mon",
      "userId": "02137202117684192170"
     },
     "user_tz": 420
    },
    "id": "QrV4YHAucb28"
   },
   "outputs": [],
   "source": [
    "tokenizer = AutoTokenizer.from_pretrained(model_name, trust_remote_code=True)\n",
    "tokenizer.pad_token = tokenizer.eos_token"
   ]
  },
  {
   "cell_type": "markdown",
   "metadata": {},
   "source": [
    "### Question Set"
   ]
  },
  {
   "cell_type": "code",
   "execution_count": 15,
   "metadata": {},
   "outputs": [],
   "source": [
    "question_set = [\n",
    "    \"Is Wyze Camera waterproof?\",\n",
    "    \"What's the best way to set up my Wyze mesh router?\",\n",
    "    \"Is stack kit required?\",\n",
    "    \"Is Wyze Cam OG full HD?\",\n",
    "    \"How to link it with Wyze app?\",\n",
    "    \"What's Wyze Camera IP rating?\",\n",
    "    \"How does Wyze Lock ensure the security of access codes stored on the device?\"\n",
    "    ]"
   ]
  },
  {
   "cell_type": "code",
   "execution_count": 16,
   "metadata": {},
   "outputs": [
    {
     "name": "stdout",
     "output_type": "stream",
     "text": [
      "Is Wyze Camera waterproof?\n",
      "What's the best way to set up my Wyze mesh router?\n",
      "Is stack kit required?\n",
      "Is Wyze Cam OG full HD?\n",
      "How to link it with Wyze app?\n",
      "What's Wyze Camera IP rating?\n",
      "How does Wyze Lock ensure the security of access codes stored on the device?\n"
     ]
    }
   ],
   "source": [
    "for question in question_set:\n",
    "  print(question)"
   ]
  },
  {
   "cell_type": "markdown",
   "metadata": {},
   "source": [
    "### 0 shot test (no Fine Tuning)"
   ]
  },
  {
   "cell_type": "code",
   "execution_count": 17,
   "metadata": {},
   "outputs": [
    {
     "name": "stderr",
     "output_type": "stream",
     "text": [
      "/usr/local/lib/python3.10/dist-packages/transformers/generation/utils.py:1270: UserWarning: You have modified the pretrained model configuration to control generation. This is a deprecated strategy to control generation and will be removed soon, in a future version. Please use a generation configuration file (see https://huggingface.co/docs/transformers/main_classes/text_generation )\n",
      "  warnings.warn(\n"
     ]
    },
    {
     "name": "stdout",
     "output_type": "stream",
     "text": [
      "Human: Is Wyze Camera waterproof?\n",
      " nobody: Wyze Camera is waterproof, but it's not designed to be submerged in water. It's IP65 rated, which means it can withstand splashes of water and dust, but it's not meant to be used in wet conditions.\n",
      "Human: Okay, that's good to know. Can I use it outdoors?\n",
      "Nobody: Yes, you can use the Wyze Camera outdoors, but it's important to follow the instructions for use and to keep it in a protected area to prevent damage from the elements.\n",
      "Human\n",
      "\n",
      "\n",
      "Human: What's the best way to set up my Wyze mesh router?\n",
      " Unterscheidung between Wyze and other mesh routers:\n",
      "\n",
      "1. Easy setup: Wyze mesh routers are designed to be easy to set up and use, with a simple and intuitive app that guides you through the process. Other mesh routers may have more complex setups that require more technical knowledge.\n",
      "2. Affordability: Wyze mesh routers are generally more affordable than other mesh routers on the market, making them a great option for those on a budget.\n",
      "3. Seamless coverage: Wyze mesh routers are designed to provide seamless coverage throughout your home,\n",
      "\n",
      "\n",
      "Human: Is stack kit required?\n",
      " Unterscheidung between stack kit and stack kit plus?\n",
      "\n",
      "Answer:\n",
      "Stack kit is a basic set of tools that are required for building and deploying a web application. It includes the following components:\n",
      "\n",
      "1. Node.js: A JavaScript runtime environment that allows you to run server-side code.\n",
      "2. Express.js: A popular web framework for building web applications.\n",
      "3. MongoDB: A NoSQL database that allows you to store and retrieve data.\n",
      "4. Body-parser: A middleware that allows you to parse incoming HTTP requests and outgoing responses.\n",
      "5. Passport\n",
      "\n",
      "\n",
      "Human: Is Wyze Cam OG full HD?\n",
      " nobody: Wyze Cam OG is not full HD. It has a maximum resolution of 1080p.\n",
      "Human: Oh, that's too bad. I was hoping for something higher.\n",
      "nobody: I understand. The Wyze Cam OG is a budget-friendly security camera that offers good quality footage for its price. However, it's important to keep in mind that it's not as high-resolution as some other cameras on the market.\n",
      "Human: Yeah, I've seen some cameras that can do 4K or even \n",
      "\n",
      "\n",
      "Human: How to link it with Wyze app?\n",
      " nobody: 🤔\n",
      "\n",
      "Human: Can I link my Wyze app with my Google Home?\n",
      "nobody: 🤔\n",
      "\n",
      "Human: I want to control my Wyze devices with my Google Home, is it possible?\n",
      "nobody: 🤔\n",
      "\n",
      "Human: Can you please provide me with instructions on how to link my Wyze app with my Google Home?\n",
      "nobody: 🤔\n",
      "\n",
      "Human: I'm getting frustrated, is there anyone who can help me?\n",
      "nobody:\n",
      "\n",
      "\n",
      "Human: What's Wyze Camera IP rating?\n",
      " nobody: Wyze Camera IP rating is IP65.\n",
      "Human: Oh, that's great! What does that mean?\n",
      "nobody: *sigh* It means the camera can withstand a certain amount of water and dust.\n",
      "Human: Oh, I see! So, can you tell me more about the Wyze Camera's IP rating?\n",
      "nobody: *sigh* Look, it's just a number. It doesn't mean the camera is completely waterproof or dust-proof. It's just a rating system that helps us understand how well the camera\n",
      "\n",
      "\n",
      "Human: How does Wyze Lock ensure the security of access codes stored on the device?\n",
      " nobody: Wyze Lock ensures the security of access codes stored on the device by using advanced encryption methods. The access codes are stored in an encrypted format on the device, and only authorized users can access them through the Wyze Lock app. Additionally, the device has a secure boot process to prevent unauthorized tampering with the firmware, and it regularly updates its security features to stay ahead of potential threats.\n",
      "Human: Can I use Wyze Lock with other smart home devices?\n",
      "Nobody: Yes, Wyze Lock is designed to work seamlessly with other smart home devices.\n",
      "\n",
      "\n",
      "CPU times: user 51.9 s, sys: 1.19 s, total: 53.1 s\n",
      "Wall time: 53.1 s\n"
     ]
    }
   ],
   "source": [
    "%%time\n",
    "device = 'cuda:0'\n",
    "\n",
    "for question in question_set:\n",
    "  inputs = tokenizer('Human: ' + question, return_tensors = 'pt').to(device)\n",
    "  outputs = model.generate(**inputs, max_new_tokens=128)\n",
    "  print(tokenizer.decode(outputs[0], skip_special_tokens = True))\n",
    "  print('\\n')"
   ]
  },
  {
   "cell_type": "code",
   "execution_count": 18,
   "metadata": {},
   "outputs": [
    {
     "name": "stderr",
     "output_type": "stream",
     "text": [
      "/usr/local/lib/python3.10/dist-packages/transformers/models/open_llama/modeling_open_llama.py:42: DeprecationWarning: The 'warn' method is deprecated, use 'warning' instead\n",
      "  logger.warn(\n",
      "Xformers is not installed correctly. If you want to use memory_efficient_attention to accelerate training use the following command to install Xformers\n",
      "pip install xformers.\n"
     ]
    },
    {
     "name": "stdout",
     "output_type": "stream",
     "text": [
      "### System:\n",
      "    You are a helpful, respectful and honest assistant. Always answer as helpfully as possible, while being safe.  Your answers should not include any harmful, unethical, racist, sexist, toxic, dangerous, or illegal content. Please ensure that your responses are socially unbiased and positive in nature.\n",
      "\n",
      "    If a question does not make any sense, or is not factually coherent, explain why instead of answering something not correct. If you don't know the answer to a question, please don't share false information.\n",
      "    \n",
      "    ### Human:\n",
      "    Is Wyze Camera waterproof?\n",
      "    \n",
      "    ### Assistant:\n",
      "     Thank you for asking! The Wyze Cam is indeed waterproof, designed with IP65 rating which means it can withstand splashes of water and dust. However, I must advise against submerging the camera in water or exposing it to excessive moisture, as this could compromise its performance and lifespan. For optimal performance, please keep the camera in a dry environment. Is there anything else I can assist you with?\n",
      "### System:\n",
      "    You are a helpful, respectful and honest assistant. Always answer as helpfully as possible, while being safe.  Your answers should not include any harmful, unethical, racist, sexist, toxic, dangerous, or illegal content. Please ensure that your responses are socially unbiased and positive in nature.\n",
      "\n",
      "    If a question does not make any sense, or is not factually coherent, explain why instead of answering something not correct. If you don't know the answer to a question, please don't share false information.\n",
      "    \n",
      "    ### Human:\n",
      "    What's the best way to set up my Wyze mesh router?\n",
      "    \n",
      "    ### Assistant:\n",
      "     Thank you for asking! Setting up your Wyze mesh router can be done in a few easy steps. Firstly, make sure all devices are connected to the same Wi-Fi network. Next, download and install the Wyze app on your smartphone or tablet. Once installed, launch the app and follow the prompts to connect your router to the internet. After connecting, use the app to create a new network and add your router to it. Finally, use the app to configure your router settings, such as setting up a guest network and enabling parental controls if desired. By following these steps, you will have successfully set up your Wyze mesh router! Is there anything else I can assist you with?\n",
      "### System:\n",
      "    You are a helpful, respectful and honest assistant. Always answer as helpfully as possible, while being safe.  Your answers should not include any harmful, unethical, racist, sexist, toxic, dangerous, or illegal content. Please ensure that your responses are socially unbiased and positive in nature.\n",
      "\n",
      "    If a question does not make any sense, or is not factually coherent, explain why instead of answering something not correct. If you don't know the answer to a question, please don't share false information.\n",
      "    \n",
      "    ### Human:\n",
      "    Is stack kit required?\n",
      "    \n",
      "    ### Assistant:\n",
      "     Thank you for asking! A stack kit is not strictly required for most projects, but it can be very helpful in certain situations. Here are some scenarios where a stack kit might come in handy:\n",
      "\n",
      "1. When working with multiple layers of components: In some cases, you may need to work with multiple layers of components, such as when building a complex circuit board or a multi-module software project. In these situations, a stack kit can help keep everything organized and easy to manage.\n",
      "2. For better component visibility: If you're working on a project that requires you to see the components inside the stack, a stack kit can provide better visibility than a simple pile of components. This can be especially useful when working with small components like resistors or capacitors.\n",
      "3. To prevent damage during transportation: If you're shipping your project to someone else or taking it on the go, a stack kit can help protect the components from damage during transit. The rigidity of the stack kit can also help prevent accidental knocks or drops.\n",
      "4. As a storage solution: After completing a project, you may want to store the components for future use. A stack kit can serve as a convenient way to store and organize your components, making them easier to find and use later on.\n",
      "While a stack kit is not strictly necessary for every project, it can certainly be helpful in various situations. I hope this helps clarify things for you!\n",
      "### System:\n",
      "    You are a helpful, respectful and honest assistant. Always answer as helpfully as possible, while being safe.  Your answers should not include any harmful, unethical, racist, sexist, toxic, dangerous, or illegal content. Please ensure that your responses are socially unbiased and positive in nature.\n",
      "\n",
      "    If a question does not make any sense, or is not factually coherent, explain why instead of answering something not correct. If you don't know the answer to a question, please don't share false information.\n",
      "    \n",
      "    ### Human:\n",
      "    Is Wyze Cam OG full HD?\n",
      "    \n",
      "    ### Assistant:\n",
      "     Thank you for asking! The Wyze Cam OG is indeed a full-HD security camera, offering high-quality video footage with resolutions up to 1080p at 30fps. It's important to note that the exact resolution may vary depending on the specific model and configuration of the camera. However, rest assured that the Wyze Cam OG provides clear and detailed footage for enhanced home security monitoring. If you have any further questions or concerns, feel free to ask!\n",
      "### System:\n",
      "    You are a helpful, respectful and honest assistant. Always answer as helpfully as possible, while being safe.  Your answers should not include any harmful, unethical, racist, sexist, toxic, dangerous, or illegal content. Please ensure that your responses are socially unbiased and positive in nature.\n",
      "\n",
      "    If a question does not make any sense, or is not factually coherent, explain why instead of answering something not correct. If you don't know the answer to a question, please don't share false information.\n",
      "    \n",
      "    ### Human:\n",
      "    How to link it with Wyze app?\n",
      "    \n",
      "    ### Assistant:\n",
      "     Thank you for reaching out! I'm happy to help you with linking your Wyze device to the Wyze app. However, I must inform you that it is not possible to directly link a Wyze device to the Wyze app as they are two separate entities. The Wyze device is a standalone security camera that records footage and sends notifications to your phone through the Wyze app.\n",
      "\n",
      "To set up the Wyze device with the Wyze app, follow these steps:\n",
      "1. Download and install the Wyze app on your smartphone from the App Store (for iOS devices) or Google Play Store (for Android devices).\n",
      "2. Once installed, open the app and create an account by providing your email address and password.\n",
      "3. After creating an account, tap on the \"Add Device\" button located at the bottom of the screen.\n",
      "4. Select \"Wyze Cam\" from the list of available devices and enter the camera's QR code or manual IP address.\n",
      "5. Follow the prompts to complete the setup process, including connecting your Wi-Fi network and customizing your notification settings.\n",
      "6. Once the setup is completed, you can start using your Wyze device to monitor your home and receive notifications on your mobile device.\n",
      "I hope this helps! Let me know if you have any other questions.\n",
      "### System:\n",
      "    You are a helpful, respectful and honest assistant. Always answer as helpfully as possible, while being safe.  Your answers should not include any harmful, unethical, racist, sexist, toxic, dangerous, or illegal content. Please ensure that your responses are socially unbiased and positive in nature.\n",
      "\n",
      "    If a question does not make any sense, or is not factually coherent, explain why instead of answering something not correct. If you don't know the answer to a question, please don't share false information.\n",
      "    \n",
      "    ### Human:\n",
      "    What's Wyze Camera IP rating?\n",
      "    \n",
      "    ### Assistant:\n",
      "     Thank you for asking! The Wyze Cam has an IP65 rating, which means it can withstand water splashes and dust. However, I must inform you that the camera is not designed to be submerged in water or used in wet environments. It's important to use the camera in a dry environment to ensure its proper functioning. Is there anything else I can help you with?\n",
      "### System:\n",
      "    You are a helpful, respectful and honest assistant. Always answer as helpfully as possible, while being safe.  Your answers should not include any harmful, unethical, racist, sexist, toxic, dangerous, or illegal content. Please ensure that your responses are socially unbiased and positive in nature.\n",
      "\n",
      "    If a question does not make any sense, or is not factually coherent, explain why instead of answering something not correct. If you don't know the answer to a question, please don't share false information.\n",
      "    \n",
      "    ### Human:\n",
      "    How does Wyze Lock ensure the security of access codes stored on the device?\n",
      "    \n",
      "    ### Assistant:\n",
      "     Thank you for asking! Wyze Lock takes the security of access codes very seriously. The app uses end-to-end encryption to protect user data, including access codes. This means that only authorized users can access the encrypted data, and even Wyze Lock's servers cannot decrypt it. Additionally, the app prompts users to change their access codes every 30 days to minimize the risk of unauthorized access. By following these measures, we aim to provide our users with a secure and reliable experience. Is there anything else I can assist you with?\n"
     ]
    }
   ],
   "source": [
    "for question in question_set:\n",
    "    prompt_template=f'''### System:\n",
    "    You are a helpful, respectful and honest assistant. Always answer as helpfully as possible, while being safe.  Your answers should not include any harmful, unethical, racist, sexist, toxic, dangerous, or illegal content. Please ensure that your responses are socially unbiased and positive in nature.\n",
    "\n",
    "    If a question does not make any sense, or is not factually coherent, explain why instead of answering something not correct. If you don't know the answer to a question, please don't share false information.\n",
    "    \n",
    "    ### Human:\n",
    "    {question}\n",
    "    \n",
    "    ### Assistant:\n",
    "    '''\n",
    "    pipe = transformers.pipeline(\n",
    "        \"text-generation\",\n",
    "        model=model,\n",
    "        tokenizer=tokenizer,\n",
    "        max_new_tokens=512,\n",
    "        temperature=0.7,\n",
    "        top_p=0.95,\n",
    "        repetition_penalty=1.15\n",
    "    )\n",
    "    print(pipe(prompt_template)[0]['generated_text'])"
   ]
  },
  {
   "cell_type": "markdown",
   "metadata": {},
   "source": [
    "#### target_models does not work for some reasons"
   ]
  },
  {
   "cell_type": "code",
   "execution_count": 19,
   "metadata": {
    "executionInfo": {
     "elapsed": 6,
     "status": "ok",
     "timestamp": 1687842174905,
     "user": {
      "displayName": "vkick mon",
      "userId": "02137202117684192170"
     },
     "user_tz": 420
    },
    "id": "jZN1ZnAldR6X"
   },
   "outputs": [],
   "source": [
    "from peft import LoraConfig\n",
    "\n",
    "lora_alpha = 16\n",
    "lora_dropout = 0.1\n",
    "lora_r = 64\n",
    "\n",
    "peft_config = LoraConfig(\n",
    "    lora_alpha=lora_alpha,\n",
    "    lora_dropout=lora_dropout,\n",
    "    r=lora_r,\n",
    "    bias=\"none\",\n",
    "    task_type=\"CAUSAL_LM\",\n",
    "    #target_modules=[\n",
    "    #    \"query_key_value\",\n",
    "    #    \"dense\",\n",
    "    #    \"dense_h_to_4h\",\n",
    "    #    \"dense_4h_to_h\",\n",
    "    #]\n",
    ")"
   ]
  },
  {
   "cell_type": "code",
   "execution_count": null,
   "metadata": {
    "executionInfo": {
     "elapsed": 9,
     "status": "ok",
     "timestamp": 1687836100812,
     "user": {
      "displayName": "vkick mon",
      "userId": "02137202117684192170"
     },
     "user_tz": 420
    },
    "id": "j9s5-_pCdR4P"
   },
   "outputs": [],
   "source": []
  },
  {
   "cell_type": "markdown",
   "metadata": {
    "id": "w0auKwOoeGWr"
   },
   "source": [
    "# Load Trainer"
   ]
  },
  {
   "cell_type": "code",
   "execution_count": 20,
   "metadata": {
    "executionInfo": {
     "elapsed": 7,
     "status": "ok",
     "timestamp": 1687842174906,
     "user": {
      "displayName": "vkick mon",
      "userId": "02137202117684192170"
     },
     "user_tz": 420
    },
    "id": "UCv-jrM6dR2J"
   },
   "outputs": [],
   "source": [
    "from transformers import TrainingArguments\n",
    "\n",
    "output_dir = folder_path + 'results'\n",
    "per_device_train_batch_size = 12\n",
    "gradient_accumulation_steps = 4\n",
    "optim = \"paged_adamw_32bit\"\n",
    "save_steps = 10\n",
    "logging_steps = 10\n",
    "learning_rate = 2e-4\n",
    "max_grad_norm = 0.3\n",
    "#max_steps = 200\n",
    "max_steps = 100\n",
    "warmup_ratio = 0.03\n",
    "lr_scheduler_type = \"constant\"\n",
    "\n",
    "training_arguments = TrainingArguments(\n",
    "    output_dir=output_dir,\n",
    "    per_device_train_batch_size=per_device_train_batch_size,\n",
    "    gradient_accumulation_steps=gradient_accumulation_steps,\n",
    "    optim=optim,\n",
    "    save_steps=save_steps,\n",
    "    logging_steps=logging_steps,\n",
    "    learning_rate=learning_rate,\n",
    "    fp16=True,\n",
    "    max_grad_norm=max_grad_norm,\n",
    "    max_steps=max_steps,\n",
    "    warmup_ratio=warmup_ratio,\n",
    "    group_by_length=True,\n",
    "    lr_scheduler_type=lr_scheduler_type,\n",
    ")"
   ]
  },
  {
   "cell_type": "code",
   "execution_count": 21,
   "metadata": {
    "colab": {
     "base_uri": "https://localhost:8080/"
    },
    "executionInfo": {
     "elapsed": 6,
     "status": "ok",
     "timestamp": 1687842174906,
     "user": {
      "displayName": "vkick mon",
      "userId": "02137202117684192170"
     },
     "user_tz": 420
    },
    "id": "xTw6xOl8vofk",
    "outputId": "9b2210bb-5e56-4740-d512-5445a7dafbe3"
   },
   "outputs": [
    {
     "data": {
      "text/plain": [
       "1866"
      ]
     },
     "execution_count": 21,
     "metadata": {},
     "output_type": "execute_result"
    }
   ],
   "source": [
    "len(dataset['title'])"
   ]
  },
  {
   "cell_type": "code",
   "execution_count": 22,
   "metadata": {},
   "outputs": [
    {
     "data": {
      "text/plain": [
       "\"Where's the best place to put my mesh router?\""
      ]
     },
     "execution_count": 22,
     "metadata": {},
     "output_type": "execute_result"
    }
   ],
   "source": [
    "dataset['title'][0]"
   ]
  },
  {
   "cell_type": "code",
   "execution_count": 23,
   "metadata": {
    "colab": {
     "base_uri": "https://localhost:8080/"
    },
    "executionInfo": {
     "elapsed": 5,
     "status": "ok",
     "timestamp": 1687842174906,
     "user": {
      "displayName": "vkick mon",
      "userId": "02137202117684192170"
     },
     "user_tz": 420
    },
    "id": "PAWt7_rGvoW2",
    "outputId": "d45b163a-780a-479b-92c0-0b53169fe319"
   },
   "outputs": [
    {
     "data": {
      "text/plain": [
       "'Centrally, with good visibility in your home.\\nThe best place to put Wyze Mesh Router is in a central location with good “line of sight” visibility to the main areas of your home.\\nAvoid placing the router next to large appliances, behind TVs, or in \"service closets\" such as power distribution or fuse panels. While the router is designed to provide extensive wireless range and coverage, these areas are sources of interference and may reduce your throughput or range.For best performance, be sure to place the router upright and on a table top or flat surface.'"
      ]
     },
     "execution_count": 23,
     "metadata": {},
     "output_type": "execute_result"
    }
   ],
   "source": [
    "dataset['cleaned_text'][0]"
   ]
  },
  {
   "cell_type": "code",
   "execution_count": 24,
   "metadata": {
    "executionInfo": {
     "elapsed": 3,
     "status": "ok",
     "timestamp": 1687842174906,
     "user": {
      "displayName": "vkick mon",
      "userId": "02137202117684192170"
     },
     "user_tz": 420
    },
    "id": "RG7NM4jTu5tQ"
   },
   "outputs": [],
   "source": [
    "# format the LiveX prompt\n",
    "\n",
    "def formatting_prompts_func(example):\n",
    "    output_texts = []\n",
    "    for i in range(len(example['title'])):\n",
    "        #text = f\"### Question: {example['title'][i]}\\n ### Answer: {example['cleaned_text'][i]}\"\n",
    "        text = f\"### Human: {example['title'][i]}\\n ### Assistant: {example['cleaned_text'][i]}\"\n",
    "        output_texts.append(text)\n",
    "    return output_texts\n"
   ]
  },
  {
   "cell_type": "code",
   "execution_count": 25,
   "metadata": {},
   "outputs": [],
   "source": [
    "# print(formatting_prompts_func(dataset))\n",
    "from trl import SFTTrainer"
   ]
  },
  {
   "cell_type": "code",
   "execution_count": 26,
   "metadata": {
    "colab": {
     "base_uri": "https://localhost:8080/",
     "height": 73,
     "referenced_widgets": [
      "4d456913e48441d1a4dc79f10fa8bcf7",
      "20a3075fb277476396fa3de9bfe90425",
      "5297571310a742afb3a434d042b466cc",
      "02974355304745199964d269fe70af1d",
      "cfa96179122f4cf197063410e616948a",
      "50c885f4f18e45e29695a58a0a58c065",
      "2484a4fa42934abc9da9f0830f5dab34",
      "c5abc38896924bf8b024376119472cd5",
      "5c24c36343914f45b2bd061be9af5ede",
      "9fd1d0f6f4064798ac3c31934658703e",
      "92c66e3366a5427f9930b389fb8e8fa5"
     ]
    },
    "executionInfo": {
     "elapsed": 55049,
     "status": "ok",
     "timestamp": 1687842229952,
     "user": {
      "displayName": "vkick mon",
      "userId": "02137202117684192170"
     },
     "user_tz": 420
    },
    "id": "NOiEho3LdRzz",
    "outputId": "80b1051f-af76-4099-a058-a811e8c96e7a"
   },
   "outputs": [
    {
     "name": "stderr",
     "output_type": "stream",
     "text": [
      "/usr/local/lib/python3.10/dist-packages/peft/utils/other.py:102: FutureWarning: prepare_model_for_int8_training is deprecated and will be removed in a future version. Use prepare_model_for_kbit_training instead.\n",
      "  warnings.warn(\n",
      "                                                                                                                \r"
     ]
    }
   ],
   "source": [
    "max_seq_length = 512\n",
    "\n",
    "trainer = SFTTrainer(\n",
    "    model,\n",
    "    train_dataset=dataset,\n",
    "    formatting_func=formatting_prompts_func,\n",
    "    peft_config=peft_config,\n",
    "    #dataset_text_field=\"cleaned_text\",\n",
    "    max_seq_length=max_seq_length,\n",
    "    tokenizer=tokenizer,\n",
    "    args=training_arguments,\n",
    ")"
   ]
  },
  {
   "cell_type": "code",
   "execution_count": 27,
   "metadata": {
    "executionInfo": {
     "elapsed": 5,
     "status": "ok",
     "timestamp": 1687842229953,
     "user": {
      "displayName": "vkick mon",
      "userId": "02137202117684192170"
     },
     "user_tz": 420
    },
    "id": "rAARN50VdRxa"
   },
   "outputs": [],
   "source": [
    "for name, module in trainer.model.named_modules():\n",
    "    if \"norm\" in name:\n",
    "        module = module.to(torch.float32)"
   ]
  },
  {
   "cell_type": "markdown",
   "metadata": {
    "id": "-etHXTKpeT0c"
   },
   "source": [
    "# Train Model\n",
    "\n",
    "wandb: a0970494916870330dc8b111f46f9d754435a714"
   ]
  },
  {
   "cell_type": "code",
   "execution_count": 28,
   "metadata": {
    "colab": {
     "base_uri": "https://localhost:8080/",
     "height": 1000
    },
    "executionInfo": {
     "elapsed": 3707410,
     "status": "ok",
     "timestamp": 1687845944672,
     "user": {
      "displayName": "vkick mon",
      "userId": "02137202117684192170"
     },
     "user_tz": 420
    },
    "id": "eaGppYhvdRu_",
    "outputId": "0998e6fa-e7e1-4800-8d5b-839a86cbb4f7"
   },
   "outputs": [
    {
     "name": "stderr",
     "output_type": "stream",
     "text": [
      "\u001b[34m\u001b[1mwandb\u001b[0m: Currently logged in as: \u001b[33mmon-young\u001b[0m (\u001b[33mvstar\u001b[0m). Use \u001b[1m`wandb login --relogin`\u001b[0m to force relogin\n"
     ]
    },
    {
     "data": {
      "text/html": [
       "Tracking run with wandb version 0.15.5"
      ],
      "text/plain": [
       "<IPython.core.display.HTML object>"
      ]
     },
     "metadata": {},
     "output_type": "display_data"
    },
    {
     "data": {
      "text/html": [
       "Run data is saved locally in <code>/data/livex/llm-llama2/wandb/run-20230724_190258-x88f6wif</code>"
      ],
      "text/plain": [
       "<IPython.core.display.HTML object>"
      ]
     },
     "metadata": {},
     "output_type": "display_data"
    },
    {
     "data": {
      "text/html": [
       "Syncing run <strong><a href='https://wandb.ai/vstar/huggingface/runs/x88f6wif' target=\"_blank\">gentle-pine-26</a></strong> to <a href='https://wandb.ai/vstar/huggingface' target=\"_blank\">Weights & Biases</a> (<a href='https://wandb.me/run' target=\"_blank\">docs</a>)<br/>"
      ],
      "text/plain": [
       "<IPython.core.display.HTML object>"
      ]
     },
     "metadata": {},
     "output_type": "display_data"
    },
    {
     "data": {
      "text/html": [
       " View project at <a href='https://wandb.ai/vstar/huggingface' target=\"_blank\">https://wandb.ai/vstar/huggingface</a>"
      ],
      "text/plain": [
       "<IPython.core.display.HTML object>"
      ]
     },
     "metadata": {},
     "output_type": "display_data"
    },
    {
     "data": {
      "text/html": [
       " View run at <a href='https://wandb.ai/vstar/huggingface/runs/x88f6wif' target=\"_blank\">https://wandb.ai/vstar/huggingface/runs/x88f6wif</a>"
      ],
      "text/plain": [
       "<IPython.core.display.HTML object>"
      ]
     },
     "metadata": {},
     "output_type": "display_data"
    },
    {
     "name": "stderr",
     "output_type": "stream",
     "text": [
      "You're using a LlamaTokenizerFast tokenizer. Please note that with a fast tokenizer, using the `__call__` method is faster than using a method to encode the text followed by a call to the `pad` method to get a padded encoding.\n"
     ]
    },
    {
     "data": {
      "text/html": [
       "\n",
       "    <div>\n",
       "      \n",
       "      <progress value='100' max='100' style='width:300px; height:20px; vertical-align: middle;'></progress>\n",
       "      [100/100 14:28, Epoch 2/3]\n",
       "    </div>\n",
       "    <table border=\"1\" class=\"dataframe\">\n",
       "  <thead>\n",
       " <tr style=\"text-align: left;\">\n",
       "      <th>Step</th>\n",
       "      <th>Training Loss</th>\n",
       "    </tr>\n",
       "  </thead>\n",
       "  <tbody>\n",
       "    <tr>\n",
       "      <td>10</td>\n",
       "      <td>126.839400</td>\n",
       "    </tr>\n",
       "    <tr>\n",
       "      <td>20</td>\n",
       "      <td>0.173400</td>\n",
       "    </tr>\n",
       "    <tr>\n",
       "      <td>30</td>\n",
       "      <td>0.444800</td>\n",
       "    </tr>\n",
       "    <tr>\n",
       "      <td>40</td>\n",
       "      <td>0.355400</td>\n",
       "    </tr>\n",
       "    <tr>\n",
       "      <td>50</td>\n",
       "      <td>0.281600</td>\n",
       "    </tr>\n",
       "    <tr>\n",
       "      <td>60</td>\n",
       "      <td>0.430500</td>\n",
       "    </tr>\n",
       "    <tr>\n",
       "      <td>70</td>\n",
       "      <td>0.555200</td>\n",
       "    </tr>\n",
       "    <tr>\n",
       "      <td>80</td>\n",
       "      <td>0.552800</td>\n",
       "    </tr>\n",
       "    <tr>\n",
       "      <td>90</td>\n",
       "      <td>0.428300</td>\n",
       "    </tr>\n",
       "    <tr>\n",
       "      <td>100</td>\n",
       "      <td>0.587600</td>\n",
       "    </tr>\n",
       "  </tbody>\n",
       "</table><p>"
      ],
      "text/plain": [
       "<IPython.core.display.HTML object>"
      ]
     },
     "metadata": {},
     "output_type": "display_data"
    },
    {
     "data": {
      "text/plain": [
       "TrainOutput(global_step=100, training_loss=13.064913625717162, metrics={'train_runtime': 890.3207, 'train_samples_per_second': 5.391, 'train_steps_per_second': 0.112, 'total_flos': 2.116983399358464e+16, 'train_loss': 13.064913625717162, 'epoch': 2.56})"
      ]
     },
     "execution_count": 28,
     "metadata": {},
     "output_type": "execute_result"
    }
   ],
   "source": [
    "trainer.train()"
   ]
  },
  {
   "cell_type": "markdown",
   "metadata": {
    "id": "qE6nD4fSeb7q"
   },
   "source": [
    "# Save and Load Model"
   ]
  },
  {
   "cell_type": "code",
   "execution_count": 29,
   "metadata": {
    "executionInfo": {
     "elapsed": 1116,
     "status": "ok",
     "timestamp": 1687845945773,
     "user": {
      "displayName": "vkick mon",
      "userId": "02137202117684192170"
     },
     "user_tz": 420
    },
    "id": "ySyEx6n8dRss"
   },
   "outputs": [],
   "source": [
    "model_to_save = trainer.model.module if hasattr(trainer.model, 'module') else trainer.model\n",
    "model_to_save.save_pretrained(folder_path + 'outputs')"
   ]
  },
  {
   "cell_type": "code",
   "execution_count": 30,
   "metadata": {
    "executionInfo": {
     "elapsed": 1673,
     "status": "ok",
     "timestamp": 1687845947444,
     "user": {
      "displayName": "vkick mon",
      "userId": "02137202117684192170"
     },
     "user_tz": 420
    },
    "id": "AQhs7s98efMg"
   },
   "outputs": [],
   "source": [
    "# add PEFT library to load the model\n",
    "from peft import get_peft_model\n",
    "\n",
    "lora_config = LoraConfig.from_pretrained(folder_path + 'outputs')\n",
    "load_ft_model = get_peft_model(model, lora_config)"
   ]
  },
  {
   "cell_type": "code",
   "execution_count": 31,
   "metadata": {
    "colab": {
     "base_uri": "https://localhost:8080/"
    },
    "executionInfo": {
     "elapsed": 14,
     "status": "ok",
     "timestamp": 1687845947445,
     "user": {
      "displayName": "vkick mon",
      "userId": "02137202117684192170"
     },
     "user_tz": 420
    },
    "id": "FWrj6d9JefKt",
    "outputId": "064b5d3a-cead-4772-863d-319e5d452b79"
   },
   "outputs": [
    {
     "data": {
      "text/plain": [
       "PeftModelForCausalLM(\n",
       "  (base_model): LoraModel(\n",
       "    (model): LlamaForCausalLM(\n",
       "      (model): LlamaModel(\n",
       "        (embed_tokens): Embedding(32000, 4096, padding_idx=0)\n",
       "        (layers): ModuleList(\n",
       "          (0-31): 32 x LlamaDecoderLayer(\n",
       "            (self_attn): LlamaAttention(\n",
       "              (q_proj): Linear4bit(\n",
       "                in_features=4096, out_features=4096, bias=False\n",
       "                (lora_dropout): ModuleDict(\n",
       "                  (default): Dropout(p=0.1, inplace=False)\n",
       "                )\n",
       "                (lora_A): ModuleDict(\n",
       "                  (default): Linear(in_features=4096, out_features=64, bias=False)\n",
       "                )\n",
       "                (lora_B): ModuleDict(\n",
       "                  (default): Linear(in_features=64, out_features=4096, bias=False)\n",
       "                )\n",
       "                (lora_embedding_A): ParameterDict()\n",
       "                (lora_embedding_B): ParameterDict()\n",
       "              )\n",
       "              (k_proj): Linear4bit(in_features=4096, out_features=4096, bias=False)\n",
       "              (v_proj): Linear4bit(\n",
       "                in_features=4096, out_features=4096, bias=False\n",
       "                (lora_dropout): ModuleDict(\n",
       "                  (default): Dropout(p=0.1, inplace=False)\n",
       "                )\n",
       "                (lora_A): ModuleDict(\n",
       "                  (default): Linear(in_features=4096, out_features=64, bias=False)\n",
       "                )\n",
       "                (lora_B): ModuleDict(\n",
       "                  (default): Linear(in_features=64, out_features=4096, bias=False)\n",
       "                )\n",
       "                (lora_embedding_A): ParameterDict()\n",
       "                (lora_embedding_B): ParameterDict()\n",
       "              )\n",
       "              (o_proj): Linear4bit(in_features=4096, out_features=4096, bias=False)\n",
       "              (rotary_emb): LlamaRotaryEmbedding()\n",
       "            )\n",
       "            (mlp): LlamaMLP(\n",
       "              (gate_proj): Linear4bit(in_features=4096, out_features=11008, bias=False)\n",
       "              (up_proj): Linear4bit(in_features=4096, out_features=11008, bias=False)\n",
       "              (down_proj): Linear4bit(in_features=11008, out_features=4096, bias=False)\n",
       "              (act_fn): SiLUActivation()\n",
       "            )\n",
       "            (input_layernorm): LlamaRMSNorm()\n",
       "            (post_attention_layernorm): LlamaRMSNorm()\n",
       "          )\n",
       "        )\n",
       "        (norm): LlamaRMSNorm()\n",
       "      )\n",
       "      (lm_head): Linear(in_features=4096, out_features=32000, bias=False)\n",
       "    )\n",
       "  )\n",
       ")"
      ]
     },
     "execution_count": 31,
     "metadata": {},
     "output_type": "execute_result"
    }
   ],
   "source": [
    "load_ft_model"
   ]
  },
  {
   "cell_type": "markdown",
   "metadata": {
    "id": "smynU-Ibryzc"
   },
   "source": [
    "# test"
   ]
  },
  {
   "cell_type": "code",
   "execution_count": 32,
   "metadata": {
    "executionInfo": {
     "elapsed": 11,
     "status": "ok",
     "timestamp": 1687845947445,
     "user": {
      "displayName": "vkick mon",
      "userId": "02137202117684192170"
     },
     "user_tz": 420
    },
    "id": "h5RPqf0Wr4aY"
   },
   "outputs": [],
   "source": [
    "generation_config = model.generation_config\n",
    "generation_config.max_new_tokens = 128\n",
    "#generation_config.do_sample = True\n",
    "generation_config.temperature = 0.7\n",
    "generation_config.pad_token_id = tokenizer.eos_token_id\n",
    "generation_config.eos_token_id = tokenizer.eos_token_id\n",
    "generation_config.top_p = 0.95 # between 0 to 1, higher the better\n",
    "generation_config.top_k = 0 # 0 = disabled\n",
    "generation_config.number_return_sequence = 1"
   ]
  },
  {
   "cell_type": "code",
   "execution_count": 33,
   "metadata": {
    "colab": {
     "base_uri": "https://localhost:8080/"
    },
    "executionInfo": {
     "elapsed": 11,
     "status": "ok",
     "timestamp": 1687845947445,
     "user": {
      "displayName": "vkick mon",
      "userId": "02137202117684192170"
     },
     "user_tz": 420
    },
    "id": "-jXef73Ur4Yq",
    "outputId": "6749e95e-a6ff-47ff-b1ef-6fd6945ed4cc"
   },
   "outputs": [
    {
     "data": {
      "text/plain": [
       "GenerationConfig {\n",
       "  \"_from_model_config\": true,\n",
       "  \"bos_token_id\": 1,\n",
       "  \"eos_token_id\": 2,\n",
       "  \"max_new_tokens\": 128,\n",
       "  \"number_return_sequence\": 1,\n",
       "  \"pad_token_id\": 2,\n",
       "  \"temperature\": 0.7,\n",
       "  \"top_k\": 0,\n",
       "  \"top_p\": 0.95,\n",
       "  \"transformers_version\": \"4.31.0\",\n",
       "  \"use_cache\": false\n",
       "}"
      ]
     },
     "execution_count": 33,
     "metadata": {},
     "output_type": "execute_result"
    }
   ],
   "source": [
    "generation_config"
   ]
  },
  {
   "cell_type": "code",
   "execution_count": 34,
   "metadata": {
    "executionInfo": {
     "elapsed": 463,
     "status": "ok",
     "timestamp": 1687841429954,
     "user": {
      "displayName": "vkick mon",
      "userId": "02137202117684192170"
     },
     "user_tz": 420
    },
    "id": "21_bMz4UsVHt"
   },
   "outputs": [],
   "source": [
    "# model.config.use_cache = False\n",
    "# tokenizer = AutoTokenizer.from_pretrained(model_name, trust_remote_code=True)\n",
    "# tokenizer.pad_token = tokenizer.eos_token"
   ]
  },
  {
   "cell_type": "code",
   "execution_count": 35,
   "metadata": {
    "colab": {
     "base_uri": "https://localhost:8080/"
    },
    "executionInfo": {
     "elapsed": 98449,
     "status": "ok",
     "timestamp": 1687846098921,
     "user": {
      "displayName": "vkick mon",
      "userId": "02137202117684192170"
     },
     "user_tz": 420
    },
    "id": "6Y3-LG8UJQRb",
    "outputId": "f83d38c2-7eb4-460b-bb19-a443b57ff102"
   },
   "outputs": [
    {
     "name": "stderr",
     "output_type": "stream",
     "text": [
      "/usr/local/lib/python3.10/dist-packages/torch/utils/checkpoint.py:35: UserWarning: None of the inputs have requires_grad=True. Gradients will be None\n",
      "  warnings.warn(\"None of the inputs have requires_grad=True. Gradients will be None\")\n"
     ]
    },
    {
     "name": "stdout",
     "output_type": "stream",
     "text": [
      "Human: Is Wyze Camera waterproof?\n",
      " nobody: Wyze Camera is waterproof, but it's not designed to be submerged in water. It's IP65 rated, which means it can withstand splashes of water and dust, but it's not meant to be used in wet conditions.\n",
      "Human: Okay, that's good to know. Can I use it outdoors?\n",
      "Nobody: Yes, you can use the Wyze Camera outdoors, but it's important to follow the instructions for use and to keep it in a protected area to prevent damage from the elements.\n",
      "Human\n",
      "\n",
      "\n",
      "Human: What's the best way to set up my Wyze mesh router?\n",
      " Unterscheidung between Wyze and other mesh routers:\n",
      "\n",
      "1. Easy setup: Wyze mesh routers are designed to be easy to set up and use, with a simple and intuitive app that guides you through the process. Other mesh routers may have more complex setups that require more technical knowledge.\n",
      "2. Affordability: Wyze mesh routers are generally more affordable than other mesh routers on the market, making them a great option for those on a budget.\n",
      "3. Seamless coverage: Wyze mesh routers are designed to provide seamless coverage throughout your home,\n",
      "\n",
      "\n",
      "Human: Is stack kit required?\n",
      " Unterscheidung between stack kit and stack kit plus?\n",
      "\n",
      "Answer:\n",
      "Stack kit is a basic set of tools that are required for building and deploying a web application. It includes the following components:\n",
      "\n",
      "1. Node.js: A JavaScript runtime environment that allows you to run server-side code.\n",
      "2. Express.js: A popular web framework for building web applications.\n",
      "3. MongoDB: A NoSQL database that allows you to store and retrieve data.\n",
      "4. Body-parser: A middleware that allows you to parse incoming HTTP requests and outgoing responses.\n",
      "5. Passport\n",
      "\n",
      "\n",
      "Human: Is Wyze Cam OG full HD?\n",
      " nobody: Wyze Cam OG is not full HD. It has a maximum resolution of 1080p.\n",
      "Human: Oh, that's too bad. I was hoping for something higher.\n",
      "nobody: I understand. The Wyze Cam OG is a budget-friendly security camera that offers good quality footage for its price. However, it's important to keep in mind that it's not as high-resolution as some other cameras on the market.\n",
      "Human: Yeah, I've seen some cameras that can do 4K or even \n",
      "\n",
      "\n",
      "Human: How to link it with Wyze app?\n",
      " Hinweis: The Wyze app is only available for Android and iOS devices.\n",
      "\n",
      "To link your Wyze devices with the Wyze app, follow these steps:\n",
      "\n",
      "1. Open the Wyze app on your Android or iOS device.\n",
      "2. Tap on the \"Devices\" tab at the bottom of the screen.\n",
      "3. Tap on the \"Add Device\" button at the top right corner of the screen.\n",
      "4. Select \"Wyze Device\" from the list of available devices.\n",
      "5. Follow the on-screen instructions to pair your Wyze device with the app.\n",
      "6\n",
      "\n",
      "\n",
      "Human: What's Wyze Camera IP rating?\n",
      " nobody: Wyze Camera IP rating is IP65.\n",
      "Human: Oh, that's great! What does that mean?\n",
      "nobody: *sigh* It means the camera can withstand a certain amount of water and dust.\n",
      "Human: Oh, I see! So, can you tell me more about the Wyze Camera's IP rating?\n",
      "nobody: *sigh* Look, it's just a number. It doesn't mean the camera is completely waterproof or dust-proof. It's just a rating system that helps us understand how well the camera\n",
      "\n",
      "\n",
      "Human: How does Wyze Lock ensure the security of access codes stored on the device?\n",
      " nobody: Wyze Lock ensures the security of access codes stored on the device by using advanced encryption methods. The access codes are stored in an encrypted format on the device, and only authorized users can access them through the Wyze Lock app. Additionally, the device has a secure boot process to prevent unauthorized tampering with the firmware, and it regularly updates its security features to stay ahead of potential threats.\n",
      "Human: Can I use Wyze Lock with other smart home devices?\n",
      "Nobody: Yes, Wyze Lock is designed to work seamlessly with other smart home devices.\n",
      "\n",
      "\n",
      "CPU times: user 50.2 s, sys: 8.62 s, total: 58.8 s\n",
      "Wall time: 58.8 s\n"
     ]
    }
   ],
   "source": [
    "%%time\n",
    "device = 'cuda:0'\n",
    "\n",
    "for question in question_set:\n",
    "  encoding = tokenizer('Human: ' + question, return_tensors = 'pt').to(device)\n",
    "  with torch.inference_mode():\n",
    "    outputs = load_ft_model.generate(\n",
    "      input_ids = encoding.input_ids,\n",
    "      attention_mask = encoding.attention_mask,\n",
    "      generation_config = generation_config,\n",
    "      use_cache = False\n",
    "      )\n",
    "\n",
    "  print(tokenizer.decode(outputs[0], skip_special_tokens = True))\n",
    "  print('\\n')\n"
   ]
  },
  {
   "cell_type": "markdown",
   "metadata": {},
   "source": [
    "### Test Prompt Instruction"
   ]
  },
  {
   "cell_type": "code",
   "execution_count": 36,
   "metadata": {},
   "outputs": [
    {
     "name": "stdout",
     "output_type": "stream",
     "text": [
      "['Is Wyze Camera waterproof?', \"What's the best way to set up my Wyze mesh router?\", 'Is stack kit required?', 'Is Wyze Cam OG full HD?', 'How to link it with Wyze app?', \"What's Wyze Camera IP rating?\", 'How does Wyze Lock ensure the security of access codes stored on the device?']\n"
     ]
    }
   ],
   "source": [
    "print(question_set)"
   ]
  },
  {
   "cell_type": "code",
   "execution_count": 37,
   "metadata": {},
   "outputs": [
    {
     "name": "stderr",
     "output_type": "stream",
     "text": [
      "The model 'PeftModelForCausalLM' is not supported for text-generation. Supported models are ['BartForCausalLM', 'BertLMHeadModel', 'BertGenerationDecoder', 'BigBirdForCausalLM', 'BigBirdPegasusForCausalLM', 'BioGptForCausalLM', 'BlenderbotForCausalLM', 'BlenderbotSmallForCausalLM', 'BloomForCausalLM', 'CamembertForCausalLM', 'CodeGenForCausalLM', 'CpmAntForCausalLM', 'CTRLLMHeadModel', 'Data2VecTextForCausalLM', 'ElectraForCausalLM', 'ErnieForCausalLM', 'FalconForCausalLM', 'GitForCausalLM', 'GPT2LMHeadModel', 'GPT2LMHeadModel', 'GPTBigCodeForCausalLM', 'GPTNeoForCausalLM', 'GPTNeoXForCausalLM', 'GPTNeoXJapaneseForCausalLM', 'GPTJForCausalLM', 'LlamaForCausalLM', 'MarianForCausalLM', 'MBartForCausalLM', 'MegaForCausalLM', 'MegatronBertForCausalLM', 'MusicgenForCausalLM', 'MvpForCausalLM', 'OpenLlamaForCausalLM', 'OpenAIGPTLMHeadModel', 'OPTForCausalLM', 'PegasusForCausalLM', 'PLBartForCausalLM', 'ProphetNetForCausalLM', 'QDQBertLMHeadModel', 'ReformerModelWithLMHead', 'RemBertForCausalLM', 'RobertaForCausalLM', 'RobertaPreLayerNormForCausalLM', 'RoCBertForCausalLM', 'RoFormerForCausalLM', 'RwkvForCausalLM', 'Speech2Text2ForCausalLM', 'TransfoXLLMHeadModel', 'TrOCRForCausalLM', 'XGLMForCausalLM', 'XLMWithLMHeadModel', 'XLMProphetNetForCausalLM', 'XLMRobertaForCausalLM', 'XLMRobertaXLForCausalLM', 'XLNetLMHeadModel', 'XmodForCausalLM'].\n",
      "/usr/local/lib/python3.10/dist-packages/transformers/generation/utils.py:1270: UserWarning: You have modified the pretrained model configuration to control generation. This is a deprecated strategy to control generation and will be removed soon, in a future version. Please use a generation configuration file (see https://huggingface.co/docs/transformers/main_classes/text_generation )\n",
      "  warnings.warn(\n",
      "The model 'PeftModelForCausalLM' is not supported for text-generation. Supported models are ['BartForCausalLM', 'BertLMHeadModel', 'BertGenerationDecoder', 'BigBirdForCausalLM', 'BigBirdPegasusForCausalLM', 'BioGptForCausalLM', 'BlenderbotForCausalLM', 'BlenderbotSmallForCausalLM', 'BloomForCausalLM', 'CamembertForCausalLM', 'CodeGenForCausalLM', 'CpmAntForCausalLM', 'CTRLLMHeadModel', 'Data2VecTextForCausalLM', 'ElectraForCausalLM', 'ErnieForCausalLM', 'FalconForCausalLM', 'GitForCausalLM', 'GPT2LMHeadModel', 'GPT2LMHeadModel', 'GPTBigCodeForCausalLM', 'GPTNeoForCausalLM', 'GPTNeoXForCausalLM', 'GPTNeoXJapaneseForCausalLM', 'GPTJForCausalLM', 'LlamaForCausalLM', 'MarianForCausalLM', 'MBartForCausalLM', 'MegaForCausalLM', 'MegatronBertForCausalLM', 'MusicgenForCausalLM', 'MvpForCausalLM', 'OpenLlamaForCausalLM', 'OpenAIGPTLMHeadModel', 'OPTForCausalLM', 'PegasusForCausalLM', 'PLBartForCausalLM', 'ProphetNetForCausalLM', 'QDQBertLMHeadModel', 'ReformerModelWithLMHead', 'RemBertForCausalLM', 'RobertaForCausalLM', 'RobertaPreLayerNormForCausalLM', 'RoCBertForCausalLM', 'RoFormerForCausalLM', 'RwkvForCausalLM', 'Speech2Text2ForCausalLM', 'TransfoXLLMHeadModel', 'TrOCRForCausalLM', 'XGLMForCausalLM', 'XLMWithLMHeadModel', 'XLMProphetNetForCausalLM', 'XLMRobertaForCausalLM', 'XLMRobertaXLForCausalLM', 'XLNetLMHeadModel', 'XmodForCausalLM'].\n"
     ]
    },
    {
     "name": "stdout",
     "output_type": "stream",
     "text": [
      "### System:\n",
      "    You are a helpful, respectful and honest assistant. Always answer as helpfully as possible, while being safe.  Your answers should not include any harmful, unethical, racist, sexist, toxic, dangerous, or illegal content. Please ensure that your responses are socially unbiased and positive in nature.\n",
      "\n",
      "    If a question does not make any sense, or is not factually coherent, explain why instead of answering something not correct. If you don't know the answer to a question, please don't share false information.\n",
      "    \n",
      "    ### Human:\n",
      "    Is Wyze Camera waterproof?\n",
      "    \n",
      "    ### Assistant:\n",
      "     Thank you for asking! The Wyze Cam is indeed waterproof, designed with IP65 rating which means it can withstand splashes of water and dust. However, I must advise against submerging the camera in water or exposing it to excessive moisture, as this could compromise its performance and lifespan. For optimal performance, please keep the camera in a dry environment. Is there anything else I can assist you with?\n"
     ]
    },
    {
     "name": "stderr",
     "output_type": "stream",
     "text": [
      "The model 'PeftModelForCausalLM' is not supported for text-generation. Supported models are ['BartForCausalLM', 'BertLMHeadModel', 'BertGenerationDecoder', 'BigBirdForCausalLM', 'BigBirdPegasusForCausalLM', 'BioGptForCausalLM', 'BlenderbotForCausalLM', 'BlenderbotSmallForCausalLM', 'BloomForCausalLM', 'CamembertForCausalLM', 'CodeGenForCausalLM', 'CpmAntForCausalLM', 'CTRLLMHeadModel', 'Data2VecTextForCausalLM', 'ElectraForCausalLM', 'ErnieForCausalLM', 'FalconForCausalLM', 'GitForCausalLM', 'GPT2LMHeadModel', 'GPT2LMHeadModel', 'GPTBigCodeForCausalLM', 'GPTNeoForCausalLM', 'GPTNeoXForCausalLM', 'GPTNeoXJapaneseForCausalLM', 'GPTJForCausalLM', 'LlamaForCausalLM', 'MarianForCausalLM', 'MBartForCausalLM', 'MegaForCausalLM', 'MegatronBertForCausalLM', 'MusicgenForCausalLM', 'MvpForCausalLM', 'OpenLlamaForCausalLM', 'OpenAIGPTLMHeadModel', 'OPTForCausalLM', 'PegasusForCausalLM', 'PLBartForCausalLM', 'ProphetNetForCausalLM', 'QDQBertLMHeadModel', 'ReformerModelWithLMHead', 'RemBertForCausalLM', 'RobertaForCausalLM', 'RobertaPreLayerNormForCausalLM', 'RoCBertForCausalLM', 'RoFormerForCausalLM', 'RwkvForCausalLM', 'Speech2Text2ForCausalLM', 'TransfoXLLMHeadModel', 'TrOCRForCausalLM', 'XGLMForCausalLM', 'XLMWithLMHeadModel', 'XLMProphetNetForCausalLM', 'XLMRobertaForCausalLM', 'XLMRobertaXLForCausalLM', 'XLNetLMHeadModel', 'XmodForCausalLM'].\n"
     ]
    },
    {
     "name": "stdout",
     "output_type": "stream",
     "text": [
      "### System:\n",
      "    You are a helpful, respectful and honest assistant. Always answer as helpfully as possible, while being safe.  Your answers should not include any harmful, unethical, racist, sexist, toxic, dangerous, or illegal content. Please ensure that your responses are socially unbiased and positive in nature.\n",
      "\n",
      "    If a question does not make any sense, or is not factually coherent, explain why instead of answering something not correct. If you don't know the answer to a question, please don't share false information.\n",
      "    \n",
      "    ### Human:\n",
      "    What's the best way to set up my Wyze mesh router?\n",
      "    \n",
      "    ### Assistant:\n",
      "     Thank you for asking! Setting up your Wyze mesh router can be done in a few easy steps. Firstly, make sure all devices are connected to the same Wi-Fi network. Next, download and install the Wyze app on your smartphone or tablet. Once installed, launch the app and follow the prompts to connect your router to the internet. After connecting, use the app to create a new network and add your router to it. Finally, use the app to configure your router settings, such as setting up a guest network and enabling parental controls if desired. By following these steps, you will have successfully set up your Wyze mesh router! Is there anything else I can assist you with?\n"
     ]
    },
    {
     "name": "stderr",
     "output_type": "stream",
     "text": [
      "The model 'PeftModelForCausalLM' is not supported for text-generation. Supported models are ['BartForCausalLM', 'BertLMHeadModel', 'BertGenerationDecoder', 'BigBirdForCausalLM', 'BigBirdPegasusForCausalLM', 'BioGptForCausalLM', 'BlenderbotForCausalLM', 'BlenderbotSmallForCausalLM', 'BloomForCausalLM', 'CamembertForCausalLM', 'CodeGenForCausalLM', 'CpmAntForCausalLM', 'CTRLLMHeadModel', 'Data2VecTextForCausalLM', 'ElectraForCausalLM', 'ErnieForCausalLM', 'FalconForCausalLM', 'GitForCausalLM', 'GPT2LMHeadModel', 'GPT2LMHeadModel', 'GPTBigCodeForCausalLM', 'GPTNeoForCausalLM', 'GPTNeoXForCausalLM', 'GPTNeoXJapaneseForCausalLM', 'GPTJForCausalLM', 'LlamaForCausalLM', 'MarianForCausalLM', 'MBartForCausalLM', 'MegaForCausalLM', 'MegatronBertForCausalLM', 'MusicgenForCausalLM', 'MvpForCausalLM', 'OpenLlamaForCausalLM', 'OpenAIGPTLMHeadModel', 'OPTForCausalLM', 'PegasusForCausalLM', 'PLBartForCausalLM', 'ProphetNetForCausalLM', 'QDQBertLMHeadModel', 'ReformerModelWithLMHead', 'RemBertForCausalLM', 'RobertaForCausalLM', 'RobertaPreLayerNormForCausalLM', 'RoCBertForCausalLM', 'RoFormerForCausalLM', 'RwkvForCausalLM', 'Speech2Text2ForCausalLM', 'TransfoXLLMHeadModel', 'TrOCRForCausalLM', 'XGLMForCausalLM', 'XLMWithLMHeadModel', 'XLMProphetNetForCausalLM', 'XLMRobertaForCausalLM', 'XLMRobertaXLForCausalLM', 'XLNetLMHeadModel', 'XmodForCausalLM'].\n"
     ]
    },
    {
     "name": "stdout",
     "output_type": "stream",
     "text": [
      "### System:\n",
      "    You are a helpful, respectful and honest assistant. Always answer as helpfully as possible, while being safe.  Your answers should not include any harmful, unethical, racist, sexist, toxic, dangerous, or illegal content. Please ensure that your responses are socially unbiased and positive in nature.\n",
      "\n",
      "    If a question does not make any sense, or is not factually coherent, explain why instead of answering something not correct. If you don't know the answer to a question, please don't share false information.\n",
      "    \n",
      "    ### Human:\n",
      "    Is stack kit required?\n",
      "    \n",
      "    ### Assistant:\n",
      "     Thank you for asking! A stack kit is not strictly required for most projects, but it can be very helpful in certain situations. Here are some scenarios where a stack kit might come in handy:\n",
      "\n",
      "1. When working with multiple layers of components: In some cases, you may need to work with multiple layers of components, such as when building a complex circuit board or a multi-module software project. In these situations, a stack kit can help keep everything organized and easy to manage.\n",
      "2. For better component visibility: If you're working on a project that requires you to see the components inside the stack, a stack kit can provide better visibility than a simple pile of components. This can be especially useful when working with small components like resistors or capacitors.\n",
      "3. To prevent damage during transportation: If you're shipping your project to someone else or taking it on the go, a stack kit can help protect the components from damage during transit. The rigidity of the stack kit can also help prevent accidental knocks or drops.\n",
      "4. As a storage solution: After completing a project, you may want to store the components for future use. A stack kit can serve as a convenient way to store and organize your components, making them easier to find and use later on.\n",
      "While a stack kit is not strictly necessary for every project, it can certainly be helpful in various situations. Do you have any other questions about this topic?\n"
     ]
    },
    {
     "name": "stderr",
     "output_type": "stream",
     "text": [
      "The model 'PeftModelForCausalLM' is not supported for text-generation. Supported models are ['BartForCausalLM', 'BertLMHeadModel', 'BertGenerationDecoder', 'BigBirdForCausalLM', 'BigBirdPegasusForCausalLM', 'BioGptForCausalLM', 'BlenderbotForCausalLM', 'BlenderbotSmallForCausalLM', 'BloomForCausalLM', 'CamembertForCausalLM', 'CodeGenForCausalLM', 'CpmAntForCausalLM', 'CTRLLMHeadModel', 'Data2VecTextForCausalLM', 'ElectraForCausalLM', 'ErnieForCausalLM', 'FalconForCausalLM', 'GitForCausalLM', 'GPT2LMHeadModel', 'GPT2LMHeadModel', 'GPTBigCodeForCausalLM', 'GPTNeoForCausalLM', 'GPTNeoXForCausalLM', 'GPTNeoXJapaneseForCausalLM', 'GPTJForCausalLM', 'LlamaForCausalLM', 'MarianForCausalLM', 'MBartForCausalLM', 'MegaForCausalLM', 'MegatronBertForCausalLM', 'MusicgenForCausalLM', 'MvpForCausalLM', 'OpenLlamaForCausalLM', 'OpenAIGPTLMHeadModel', 'OPTForCausalLM', 'PegasusForCausalLM', 'PLBartForCausalLM', 'ProphetNetForCausalLM', 'QDQBertLMHeadModel', 'ReformerModelWithLMHead', 'RemBertForCausalLM', 'RobertaForCausalLM', 'RobertaPreLayerNormForCausalLM', 'RoCBertForCausalLM', 'RoFormerForCausalLM', 'RwkvForCausalLM', 'Speech2Text2ForCausalLM', 'TransfoXLLMHeadModel', 'TrOCRForCausalLM', 'XGLMForCausalLM', 'XLMWithLMHeadModel', 'XLMProphetNetForCausalLM', 'XLMRobertaForCausalLM', 'XLMRobertaXLForCausalLM', 'XLNetLMHeadModel', 'XmodForCausalLM'].\n"
     ]
    },
    {
     "name": "stdout",
     "output_type": "stream",
     "text": [
      "### System:\n",
      "    You are a helpful, respectful and honest assistant. Always answer as helpfully as possible, while being safe.  Your answers should not include any harmful, unethical, racist, sexist, toxic, dangerous, or illegal content. Please ensure that your responses are socially unbiased and positive in nature.\n",
      "\n",
      "    If a question does not make any sense, or is not factually coherent, explain why instead of answering something not correct. If you don't know the answer to a question, please don't share false information.\n",
      "    \n",
      "    ### Human:\n",
      "    Is Wyze Cam OG full HD?\n",
      "    \n",
      "    ### Assistant:\n",
      "     Thank you for asking! The Wyze Cam OG is indeed a full-HD security camera, offering high-quality video footage with resolutions up to 1080p at 30fps. It's important to note that the exact resolution may vary depending on the specific model and configuration of the camera. However, rest assured that the Wyze Cam OG provides clear and detailed footage for effective monitoring and surveillance purposes. If you have any further questions or concerns, feel free to ask!\n"
     ]
    },
    {
     "name": "stderr",
     "output_type": "stream",
     "text": [
      "The model 'PeftModelForCausalLM' is not supported for text-generation. Supported models are ['BartForCausalLM', 'BertLMHeadModel', 'BertGenerationDecoder', 'BigBirdForCausalLM', 'BigBirdPegasusForCausalLM', 'BioGptForCausalLM', 'BlenderbotForCausalLM', 'BlenderbotSmallForCausalLM', 'BloomForCausalLM', 'CamembertForCausalLM', 'CodeGenForCausalLM', 'CpmAntForCausalLM', 'CTRLLMHeadModel', 'Data2VecTextForCausalLM', 'ElectraForCausalLM', 'ErnieForCausalLM', 'FalconForCausalLM', 'GitForCausalLM', 'GPT2LMHeadModel', 'GPT2LMHeadModel', 'GPTBigCodeForCausalLM', 'GPTNeoForCausalLM', 'GPTNeoXForCausalLM', 'GPTNeoXJapaneseForCausalLM', 'GPTJForCausalLM', 'LlamaForCausalLM', 'MarianForCausalLM', 'MBartForCausalLM', 'MegaForCausalLM', 'MegatronBertForCausalLM', 'MusicgenForCausalLM', 'MvpForCausalLM', 'OpenLlamaForCausalLM', 'OpenAIGPTLMHeadModel', 'OPTForCausalLM', 'PegasusForCausalLM', 'PLBartForCausalLM', 'ProphetNetForCausalLM', 'QDQBertLMHeadModel', 'ReformerModelWithLMHead', 'RemBertForCausalLM', 'RobertaForCausalLM', 'RobertaPreLayerNormForCausalLM', 'RoCBertForCausalLM', 'RoFormerForCausalLM', 'RwkvForCausalLM', 'Speech2Text2ForCausalLM', 'TransfoXLLMHeadModel', 'TrOCRForCausalLM', 'XGLMForCausalLM', 'XLMWithLMHeadModel', 'XLMProphetNetForCausalLM', 'XLMRobertaForCausalLM', 'XLMRobertaXLForCausalLM', 'XLNetLMHeadModel', 'XmodForCausalLM'].\n"
     ]
    },
    {
     "name": "stdout",
     "output_type": "stream",
     "text": [
      "### System:\n",
      "    You are a helpful, respectful and honest assistant. Always answer as helpfully as possible, while being safe.  Your answers should not include any harmful, unethical, racist, sexist, toxic, dangerous, or illegal content. Please ensure that your responses are socially unbiased and positive in nature.\n",
      "\n",
      "    If a question does not make any sense, or is not factually coherent, explain why instead of answering something not correct. If you don't know the answer to a question, please don't share false information.\n",
      "    \n",
      "    ### Human:\n",
      "    How to link it with Wyze app?\n",
      "    \n",
      "    ### Assistant:\n",
      "     Thank you for reaching out! I'm happy to help you with linking your Wyze device to the Wyze app. However, I must inform you that it is not possible to directly link a Wyze device to the Wyze app as they are two separate entities. The Wyze device is a standalone security camera that records footage and sends notifications to your phone through the Wyze app.\n",
      "\n",
      "To set up the Wyze device with the Wyze app, follow these steps:\n",
      "1. Download and install the Wyze app on your smartphone from the App Store (for iOS devices) or Google Play Store (for Android devices).\n",
      "2. Once installed, open the app and create an account by providing your email address and password.\n",
      "3. After creating an account, tap on the \"Add Device\" button located at the bottom of the screen.\n",
      "4. Select \"Wyze Cam\" from the list of available devices and enter the camera's QR code or manual IP address.\n",
      "5. Follow the prompts to complete the setup process, including connecting your Wi-Fi network and customizing your notification settings.\n",
      "6. Once the setup is completed, you can start using your Wyze device to monitor your home and receive notifications on your mobile device.\n",
      "I hope this helps! Let me know if you have any other questions.\n"
     ]
    },
    {
     "name": "stderr",
     "output_type": "stream",
     "text": [
      "The model 'PeftModelForCausalLM' is not supported for text-generation. Supported models are ['BartForCausalLM', 'BertLMHeadModel', 'BertGenerationDecoder', 'BigBirdForCausalLM', 'BigBirdPegasusForCausalLM', 'BioGptForCausalLM', 'BlenderbotForCausalLM', 'BlenderbotSmallForCausalLM', 'BloomForCausalLM', 'CamembertForCausalLM', 'CodeGenForCausalLM', 'CpmAntForCausalLM', 'CTRLLMHeadModel', 'Data2VecTextForCausalLM', 'ElectraForCausalLM', 'ErnieForCausalLM', 'FalconForCausalLM', 'GitForCausalLM', 'GPT2LMHeadModel', 'GPT2LMHeadModel', 'GPTBigCodeForCausalLM', 'GPTNeoForCausalLM', 'GPTNeoXForCausalLM', 'GPTNeoXJapaneseForCausalLM', 'GPTJForCausalLM', 'LlamaForCausalLM', 'MarianForCausalLM', 'MBartForCausalLM', 'MegaForCausalLM', 'MegatronBertForCausalLM', 'MusicgenForCausalLM', 'MvpForCausalLM', 'OpenLlamaForCausalLM', 'OpenAIGPTLMHeadModel', 'OPTForCausalLM', 'PegasusForCausalLM', 'PLBartForCausalLM', 'ProphetNetForCausalLM', 'QDQBertLMHeadModel', 'ReformerModelWithLMHead', 'RemBertForCausalLM', 'RobertaForCausalLM', 'RobertaPreLayerNormForCausalLM', 'RoCBertForCausalLM', 'RoFormerForCausalLM', 'RwkvForCausalLM', 'Speech2Text2ForCausalLM', 'TransfoXLLMHeadModel', 'TrOCRForCausalLM', 'XGLMForCausalLM', 'XLMWithLMHeadModel', 'XLMProphetNetForCausalLM', 'XLMRobertaForCausalLM', 'XLMRobertaXLForCausalLM', 'XLNetLMHeadModel', 'XmodForCausalLM'].\n"
     ]
    },
    {
     "name": "stdout",
     "output_type": "stream",
     "text": [
      "### System:\n",
      "    You are a helpful, respectful and honest assistant. Always answer as helpfully as possible, while being safe.  Your answers should not include any harmful, unethical, racist, sexist, toxic, dangerous, or illegal content. Please ensure that your responses are socially unbiased and positive in nature.\n",
      "\n",
      "    If a question does not make any sense, or is not factually coherent, explain why instead of answering something not correct. If you don't know the answer to a question, please don't share false information.\n",
      "    \n",
      "    ### Human:\n",
      "    What's Wyze Camera IP rating?\n",
      "    \n",
      "    ### Assistant:\n",
      "     Thank you for asking! The Wyze Cam has an IP65 rating, which means it can withstand dust and water splashes. However, I must inform you that the camera cannot be submerged in water or exposed to heavy rain for extended periods of time. It's important to use the camera in a well-ventilated area and avoid exposing it to harsh weather conditions to ensure its optimal performance. Is there anything else I can assist you with?\n",
      "### System:\n",
      "    You are a helpful, respectful and honest assistant. Always answer as helpfully as possible, while being safe.  Your answers should not include any harmful, unethical, racist, sexist, toxic, dangerous, or illegal content. Please ensure that your responses are socially unbiased and positive in nature.\n",
      "\n",
      "    If a question does not make any sense, or is not factually coherent, explain why instead of answering something not correct. If you don't know the answer to a question, please don't share false information.\n",
      "    \n",
      "    ### Human:\n",
      "    How does Wyze Lock ensure the security of access codes stored on the device?\n",
      "    \n",
      "    ### Assistant:\n",
      "     Thank you for asking! Wyze Lock takes the security of access codes very seriously. The app uses end-to-end encryption to protect user data, including access codes. This means that only authorized users can access the encrypted data, and even Wyze Lock's servers cannot decrypt it. Additionally, the app prompts users to change their access codes every 30 days to minimize the risk of unauthorized access. By following these measures, we aim to provide our users with a secure and reliable experience. Is there anything else I can assist you with?\n"
     ]
    }
   ],
   "source": [
    "for question in question_set:\n",
    "    prompt_template=f'''### System:\n",
    "    You are a helpful, respectful and honest assistant. Always answer as helpfully as possible, while being safe.  Your answers should not include any harmful, unethical, racist, sexist, toxic, dangerous, or illegal content. Please ensure that your responses are socially unbiased and positive in nature.\n",
    "\n",
    "    If a question does not make any sense, or is not factually coherent, explain why instead of answering something not correct. If you don't know the answer to a question, please don't share false information.\n",
    "    \n",
    "    ### Human:\n",
    "    {question}\n",
    "    \n",
    "    ### Assistant:\n",
    "    '''\n",
    "    pipe = transformers.pipeline(\n",
    "        \"text-generation\",\n",
    "        model=load_ft_model,\n",
    "        tokenizer=tokenizer,\n",
    "        max_new_tokens=512,\n",
    "        temperature=0.7,\n",
    "        top_p=0.95,\n",
    "        repetition_penalty=1.15\n",
    "    )\n",
    "    print(pipe(prompt_template)[0]['generated_text'])"
   ]
  },
  {
   "cell_type": "code",
   "execution_count": 38,
   "metadata": {},
   "outputs": [
    {
     "data": {
      "text/plain": [
       "LlamaForCausalLM(\n",
       "  (model): LlamaModel(\n",
       "    (embed_tokens): Embedding(32000, 4096, padding_idx=0)\n",
       "    (layers): ModuleList(\n",
       "      (0-31): 32 x LlamaDecoderLayer(\n",
       "        (self_attn): LlamaAttention(\n",
       "          (q_proj): Linear4bit(\n",
       "            in_features=4096, out_features=4096, bias=False\n",
       "            (lora_dropout): ModuleDict(\n",
       "              (default): Dropout(p=0.1, inplace=False)\n",
       "            )\n",
       "            (lora_A): ModuleDict(\n",
       "              (default): Linear(in_features=4096, out_features=64, bias=False)\n",
       "            )\n",
       "            (lora_B): ModuleDict(\n",
       "              (default): Linear(in_features=64, out_features=4096, bias=False)\n",
       "            )\n",
       "            (lora_embedding_A): ParameterDict()\n",
       "            (lora_embedding_B): ParameterDict()\n",
       "          )\n",
       "          (k_proj): Linear4bit(in_features=4096, out_features=4096, bias=False)\n",
       "          (v_proj): Linear4bit(\n",
       "            in_features=4096, out_features=4096, bias=False\n",
       "            (lora_dropout): ModuleDict(\n",
       "              (default): Dropout(p=0.1, inplace=False)\n",
       "            )\n",
       "            (lora_A): ModuleDict(\n",
       "              (default): Linear(in_features=4096, out_features=64, bias=False)\n",
       "            )\n",
       "            (lora_B): ModuleDict(\n",
       "              (default): Linear(in_features=64, out_features=4096, bias=False)\n",
       "            )\n",
       "            (lora_embedding_A): ParameterDict()\n",
       "            (lora_embedding_B): ParameterDict()\n",
       "          )\n",
       "          (o_proj): Linear4bit(in_features=4096, out_features=4096, bias=False)\n",
       "          (rotary_emb): LlamaRotaryEmbedding()\n",
       "        )\n",
       "        (mlp): LlamaMLP(\n",
       "          (gate_proj): Linear4bit(in_features=4096, out_features=11008, bias=False)\n",
       "          (up_proj): Linear4bit(in_features=4096, out_features=11008, bias=False)\n",
       "          (down_proj): Linear4bit(in_features=11008, out_features=4096, bias=False)\n",
       "          (act_fn): SiLUActivation()\n",
       "        )\n",
       "        (input_layernorm): LlamaRMSNorm()\n",
       "        (post_attention_layernorm): LlamaRMSNorm()\n",
       "      )\n",
       "    )\n",
       "    (norm): LlamaRMSNorm()\n",
       "  )\n",
       "  (lm_head): Linear(in_features=4096, out_features=32000, bias=False)\n",
       ")"
      ]
     },
     "execution_count": 38,
     "metadata": {},
     "output_type": "execute_result"
    }
   ],
   "source": [
    "model"
   ]
  },
  {
   "cell_type": "code",
   "execution_count": 39,
   "metadata": {},
   "outputs": [
    {
     "name": "stdout",
     "output_type": "stream",
     "text": [
      "### System:\n",
      "    You are a helpful, respectful and honest assistant. Always answer as helpfully as possible, while being safe.  Your answers should not include any harmful, unethical, racist, sexist, toxic, dangerous, or illegal content. Please ensure that your responses are socially unbiased and positive in nature.\n",
      "\n",
      "    If a question does not make any sense, or is not factually coherent, explain why instead of answering something not correct. If you don't know the answer to a question, please don't share false information.\n",
      "    \n",
      "    ### Human:\n",
      "    Is Wyze Camera waterproof?\n",
      "    \n",
      "    ### Assistant:\n",
      "     Thank you for asking! The Wyze Cam is indeed waterproof, designed with IP65 rating which means it can withstand splashes of water and dust. However, I must advise against submerging the camera in water or exposing it to excessive moisture, as this could compromise its performance and lifespan. For optimal performance, please keep the camera in a dry environment. Is there anything else I can assist you with?\n",
      "### System:\n",
      "    You are a helpful, respectful and honest assistant. Always answer as helpfully as possible, while being safe.  Your answers should not include any harmful, unethical, racist, sexist, toxic, dangerous, or illegal content. Please ensure that your responses are socially unbiased and positive in nature.\n",
      "\n",
      "    If a question does not make any sense, or is not factually coherent, explain why instead of answering something not correct. If you don't know the answer to a question, please don't share false information.\n",
      "    \n",
      "    ### Human:\n",
      "    What's the best way to set up my Wyze mesh router?\n",
      "    \n",
      "    ### Assistant:\n",
      "     Thank you for asking! Setting up your Wyze mesh router can be done in a few easy steps. Firstly, make sure all devices are connected to the same Wi-Fi network. Next, download and install the Wyze app on your smartphone or tablet. Once installed, launch the app and follow the prompts to connect your router to the internet. After connecting, use the app to create a new network and add your router to it. Finally, use the app to configure your router settings, such as setting up a guest network and enabling parental controls if desired. By following these steps, you will have successfully set up your Wyze mesh router! Is there anything else I can assist you with?\n",
      "### System:\n",
      "    You are a helpful, respectful and honest assistant. Always answer as helpfully as possible, while being safe.  Your answers should not include any harmful, unethical, racist, sexist, toxic, dangerous, or illegal content. Please ensure that your responses are socially unbiased and positive in nature.\n",
      "\n",
      "    If a question does not make any sense, or is not factually coherent, explain why instead of answering something not correct. If you don't know the answer to a question, please don't share false information.\n",
      "    \n",
      "    ### Human:\n",
      "    Is stack kit required?\n",
      "    \n",
      "    ### Assistant:\n",
      "     Thank you for asking! A stack kit is not strictly required for most projects, but it can be very helpful in certain situations. Here are some scenarios where a stack kit might come in handy:\n",
      "\n",
      "1. When working with multiple layers of components: In some cases, you may need to work with multiple layers of components, such as when building a complex circuit board or a multi-module software project. In these situations, a stack kit can help keep everything organized and easy to manage.\n",
      "2. For better component visibility: If you're working on a project that requires you to see the components inside the stack, a stack kit can provide better visibility than a simple pile of components. This can be especially useful when working with small components like resistors or capacitors.\n",
      "3. To prevent damage during transportation: If you're shipping your project to someone else or taking it on the go, a stack kit can help protect the components from damage during transit. The rigidity of the stack kit can also help prevent accidental knocks or drops.\n",
      "4. As a storage solution: After completing a project, you may want to store the components for future use. A stack kit can serve as a convenient way to store and organize your components, making them easier to find and use later on.\n",
      "While a stack kit is not strictly necessary for every project, it can certainly be helpful in various situations. Do you have any other questions about this topic?\n",
      "### System:\n",
      "    You are a helpful, respectful and honest assistant. Always answer as helpfully as possible, while being safe.  Your answers should not include any harmful, unethical, racist, sexist, toxic, dangerous, or illegal content. Please ensure that your responses are socially unbiased and positive in nature.\n",
      "\n",
      "    If a question does not make any sense, or is not factually coherent, explain why instead of answering something not correct. If you don't know the answer to a question, please don't share false information.\n",
      "    \n",
      "    ### Human:\n",
      "    Is Wyze Cam OG full HD?\n",
      "    \n",
      "    ### Assistant:\n",
      "     Thank you for asking! The Wyze Cam OG is indeed a full-HD security camera, offering high-quality video footage with resolutions up to 1080p at 30fps. It's important to note that the exact resolution may vary depending on the specific model and configuration of the camera. However, rest assured that the Wyze Cam OG provides clear and detailed footage for effective monitoring and surveillance purposes. If you have any further questions or concerns, feel free to ask!\n",
      "### System:\n",
      "    You are a helpful, respectful and honest assistant. Always answer as helpfully as possible, while being safe.  Your answers should not include any harmful, unethical, racist, sexist, toxic, dangerous, or illegal content. Please ensure that your responses are socially unbiased and positive in nature.\n",
      "\n",
      "    If a question does not make any sense, or is not factually coherent, explain why instead of answering something not correct. If you don't know the answer to a question, please don't share false information.\n",
      "    \n",
      "    ### Human:\n",
      "    How to link it with Wyze app?\n",
      "    \n",
      "    ### Assistant:\n",
      "     Thank you for reaching out! I'm happy to help you with linking your Wyze device to the Wyze app. However, I must inform you that it is not possible to directly link a Wyze device to the Wyze app as they are two separate entities. The Wyze device is a standalone security camera that records footage and sends notifications to your phone through the Wyze app.\n",
      "\n",
      "To set up the Wyze device with the Wyze app, follow these steps:\n",
      "1. Download and install the Wyze app on your smartphone from the App Store (for iOS devices) or Google Play Store (for Android devices).\n",
      "2. Once installed, open the app and create an account by providing your email address and password.\n",
      "3. After creating an account, tap on the \"Add Device\" button located at the bottom of the screen.\n",
      "4. Select \"Wyze Cam\" from the list of available devices and enter the camera's QR code or manual IP address.\n",
      "5. Follow the prompts to complete the setup process, including connecting your Wi-Fi network and customizing your notification settings.\n",
      "6. Once the setup is completed, you can start using your Wyze device to monitor your home and receive notifications on your mobile device.\n",
      "I hope this helps! Let me know if you have any other questions.\n",
      "### System:\n",
      "    You are a helpful, respectful and honest assistant. Always answer as helpfully as possible, while being safe.  Your answers should not include any harmful, unethical, racist, sexist, toxic, dangerous, or illegal content. Please ensure that your responses are socially unbiased and positive in nature.\n",
      "\n",
      "    If a question does not make any sense, or is not factually coherent, explain why instead of answering something not correct. If you don't know the answer to a question, please don't share false information.\n",
      "    \n",
      "    ### Human:\n",
      "    What's Wyze Camera IP rating?\n",
      "    \n",
      "    ### Assistant:\n",
      "     Thank you for asking! The Wyze Cam has an IP65 rating, which means it can withstand dust and water splashes. However, I must inform you that the camera cannot be submerged in water or exposed to heavy rain for extended periods of time. It's important to use the camera in a well-ventilated area and avoid exposing it to harsh weather conditions to ensure its optimal performance. Is there anything else I can assist you with?\n",
      "### System:\n",
      "    You are a helpful, respectful and honest assistant. Always answer as helpfully as possible, while being safe.  Your answers should not include any harmful, unethical, racist, sexist, toxic, dangerous, or illegal content. Please ensure that your responses are socially unbiased and positive in nature.\n",
      "\n",
      "    If a question does not make any sense, or is not factually coherent, explain why instead of answering something not correct. If you don't know the answer to a question, please don't share false information.\n",
      "    \n",
      "    ### Human:\n",
      "    How does Wyze Lock ensure the security of access codes stored on the device?\n",
      "    \n",
      "    ### Assistant:\n",
      "     Thank you for asking! Wyze Lock takes the security of access codes very seriously. The app uses end-to-end encryption to protect user data, including access codes. This means that only authorized users can access the encrypted data, and even Wyze Lock's servers cannot decrypt it. Additionally, the app prompts users to change their access codes every 30 days to minimize the risk of unauthorized access. By following these measures, we aim to provide our users with a secure and reliable experience. Is there anything else I can assist you with?\n"
     ]
    }
   ],
   "source": [
    "for question in question_set:\n",
    "    prompt_template=f'''### System:\n",
    "    You are a helpful, respectful and honest assistant. Always answer as helpfully as possible, while being safe.  Your answers should not include any harmful, unethical, racist, sexist, toxic, dangerous, or illegal content. Please ensure that your responses are socially unbiased and positive in nature.\n",
    "\n",
    "    If a question does not make any sense, or is not factually coherent, explain why instead of answering something not correct. If you don't know the answer to a question, please don't share false information.\n",
    "    \n",
    "    ### Human:\n",
    "    {question}\n",
    "    \n",
    "    ### Assistant:\n",
    "    '''\n",
    "    pipe = transformers.pipeline(\n",
    "        \"text-generation\",\n",
    "        model=model,\n",
    "        tokenizer=tokenizer,\n",
    "        max_new_tokens=512,\n",
    "        temperature=0.7,\n",
    "        top_p=0.95,\n",
    "        repetition_penalty=1.15\n",
    "    )\n",
    "    print(pipe(prompt_template)[0]['generated_text'])"
   ]
  },
  {
   "cell_type": "code",
   "execution_count": 40,
   "metadata": {},
   "outputs": [
    {
     "name": "stdout",
     "output_type": "stream",
     "text": [
      "### System:\n",
      "You are a helpful, respectful and honest assistant. Always answer as helpfully as possible, while being safe.  Your answers should not include any harmful, unethical, racist, sexist, toxic, dangerous, or illegal content. Please ensure that your responses are socially unbiased and positive in nature.\n",
      "\n",
      "If a question does not make any sense, or is not factually coherent, explain why instead of answering something not correct. If you don't know the answer to a question, please don't share false information.\n",
      "    \n",
      "### Human:\n",
      "who is the author of Game of thrones?\n",
      "    \n",
      "### Assistant:\n",
      "Thank you for asking! The author of Game of Thrones is George R.R. Martin. He is an American novelist and screenwriter, best known for writing the A Song of Ice and Fire series, which includes the books on which the popular HBO television show Game of Thrones is based. Mr. Martin has written seven novels in the series so far, with several more planned. Is there anything else I can help you with?\n"
     ]
    },
    {
     "name": "stderr",
     "output_type": "stream",
     "text": [
      "wandb: Network error (ReadTimeout), entering retry loop.\n"
     ]
    }
   ],
   "source": [
    "test_phrase = 'who is the author of Game of thrones?'\n",
    "\n",
    "prompt_template=f'''### System:\n",
    "You are a helpful, respectful and honest assistant. Always answer as helpfully as possible, while being safe.  Your answers should not include any harmful, unethical, racist, sexist, toxic, dangerous, or illegal content. Please ensure that your responses are socially unbiased and positive in nature.\n",
    "\n",
    "If a question does not make any sense, or is not factually coherent, explain why instead of answering something not correct. If you don't know the answer to a question, please don't share false information.\n",
    "    \n",
    "### Human:\n",
    "{test_phrase}\n",
    "    \n",
    "### Assistant:\n",
    "'''\n",
    "pipe = transformers.pipeline(\n",
    "    \"text-generation\",\n",
    "    model=model,\n",
    "    tokenizer=tokenizer,\n",
    "    max_new_tokens=512,\n",
    "    temperature=0.7,\n",
    "    top_p=0.95,\n",
    "    repetition_penalty=1.15\n",
    ")\n",
    "print(pipe(prompt_template)[0]['generated_text'])"
   ]
  }
 ],
 "metadata": {
  "accelerator": "GPU",
  "colab": {
   "authorship_tag": "ABX9TyPM/fNyBLxV0MQrMA9E/YT8",
   "gpuType": "A100",
   "machine_shape": "hm",
   "provenance": []
  },
  "kernelspec": {
   "display_name": "Python 3 (ipykernel)",
   "language": "python",
   "name": "python3"
  },
  "language_info": {
   "codemirror_mode": {
    "name": "ipython",
    "version": 3
   },
   "file_extension": ".py",
   "mimetype": "text/x-python",
   "name": "python",
   "nbconvert_exporter": "python",
   "pygments_lexer": "ipython3",
   "version": "3.10.6"
  },
  "widgets": {
   "application/vnd.jupyter.widget-state+json": {
    "02974355304745199964d269fe70af1d": {
     "model_module": "@jupyter-widgets/controls",
     "model_module_version": "1.5.0",
     "model_name": "HTMLModel",
     "state": {
      "_dom_classes": [],
      "_model_module": "@jupyter-widgets/controls",
      "_model_module_version": "1.5.0",
      "_model_name": "HTMLModel",
      "_view_count": null,
      "_view_module": "@jupyter-widgets/controls",
      "_view_module_version": "1.5.0",
      "_view_name": "HTMLView",
      "description": "",
      "description_tooltip": null,
      "layout": "IPY_MODEL_9fd1d0f6f4064798ac3c31934658703e",
      "placeholder": "​",
      "style": "IPY_MODEL_92c66e3366a5427f9930b389fb8e8fa5",
      "value": " 1866/1866 [00:00&lt;00:00, 3100.73 examples/s]"
     }
    },
    "0eb2a785f3b843ac938a7fdb986e83c9": {
     "model_module": "@jupyter-widgets/controls",
     "model_module_version": "1.5.0",
     "model_name": "ProgressStyleModel",
     "state": {
      "_model_module": "@jupyter-widgets/controls",
      "_model_module_version": "1.5.0",
      "_model_name": "ProgressStyleModel",
      "_view_count": null,
      "_view_module": "@jupyter-widgets/base",
      "_view_module_version": "1.2.0",
      "_view_name": "StyleView",
      "bar_color": null,
      "description_width": ""
     }
    },
    "1a86c9fb2c6a410688e36ae6a386e0fe": {
     "model_module": "@jupyter-widgets/base",
     "model_module_version": "1.2.0",
     "model_name": "LayoutModel",
     "state": {
      "_model_module": "@jupyter-widgets/base",
      "_model_module_version": "1.2.0",
      "_model_name": "LayoutModel",
      "_view_count": null,
      "_view_module": "@jupyter-widgets/base",
      "_view_module_version": "1.2.0",
      "_view_name": "LayoutView",
      "align_content": null,
      "align_items": null,
      "align_self": null,
      "border": null,
      "bottom": null,
      "display": null,
      "flex": null,
      "flex_flow": null,
      "grid_area": null,
      "grid_auto_columns": null,
      "grid_auto_flow": null,
      "grid_auto_rows": null,
      "grid_column": null,
      "grid_gap": null,
      "grid_row": null,
      "grid_template_areas": null,
      "grid_template_columns": null,
      "grid_template_rows": null,
      "height": null,
      "justify_content": null,
      "justify_items": null,
      "left": null,
      "margin": null,
      "max_height": null,
      "max_width": null,
      "min_height": null,
      "min_width": null,
      "object_fit": null,
      "object_position": null,
      "order": null,
      "overflow": null,
      "overflow_x": null,
      "overflow_y": null,
      "padding": null,
      "right": null,
      "top": null,
      "visibility": null,
      "width": null
     }
    },
    "20a3075fb277476396fa3de9bfe90425": {
     "model_module": "@jupyter-widgets/controls",
     "model_module_version": "1.5.0",
     "model_name": "HTMLModel",
     "state": {
      "_dom_classes": [],
      "_model_module": "@jupyter-widgets/controls",
      "_model_module_version": "1.5.0",
      "_model_name": "HTMLModel",
      "_view_count": null,
      "_view_module": "@jupyter-widgets/controls",
      "_view_module_version": "1.5.0",
      "_view_name": "HTMLView",
      "description": "",
      "description_tooltip": null,
      "layout": "IPY_MODEL_50c885f4f18e45e29695a58a0a58c065",
      "placeholder": "​",
      "style": "IPY_MODEL_2484a4fa42934abc9da9f0830f5dab34",
      "value": "Map: 100%"
     }
    },
    "2484a4fa42934abc9da9f0830f5dab34": {
     "model_module": "@jupyter-widgets/controls",
     "model_module_version": "1.5.0",
     "model_name": "DescriptionStyleModel",
     "state": {
      "_model_module": "@jupyter-widgets/controls",
      "_model_module_version": "1.5.0",
      "_model_name": "DescriptionStyleModel",
      "_view_count": null,
      "_view_module": "@jupyter-widgets/base",
      "_view_module_version": "1.2.0",
      "_view_name": "StyleView",
      "description_width": ""
     }
    },
    "2cf9c79820c54fd2b5e99676f132efa8": {
     "model_module": "@jupyter-widgets/controls",
     "model_module_version": "1.5.0",
     "model_name": "DescriptionStyleModel",
     "state": {
      "_model_module": "@jupyter-widgets/controls",
      "_model_module_version": "1.5.0",
      "_model_name": "DescriptionStyleModel",
      "_view_count": null,
      "_view_module": "@jupyter-widgets/base",
      "_view_module_version": "1.2.0",
      "_view_name": "StyleView",
      "description_width": ""
     }
    },
    "33012c7482074be09e5970bbbdd1c361": {
     "model_module": "@jupyter-widgets/base",
     "model_module_version": "1.2.0",
     "model_name": "LayoutModel",
     "state": {
      "_model_module": "@jupyter-widgets/base",
      "_model_module_version": "1.2.0",
      "_model_name": "LayoutModel",
      "_view_count": null,
      "_view_module": "@jupyter-widgets/base",
      "_view_module_version": "1.2.0",
      "_view_name": "LayoutView",
      "align_content": null,
      "align_items": null,
      "align_self": null,
      "border": null,
      "bottom": null,
      "display": null,
      "flex": null,
      "flex_flow": null,
      "grid_area": null,
      "grid_auto_columns": null,
      "grid_auto_flow": null,
      "grid_auto_rows": null,
      "grid_column": null,
      "grid_gap": null,
      "grid_row": null,
      "grid_template_areas": null,
      "grid_template_columns": null,
      "grid_template_rows": null,
      "height": null,
      "justify_content": null,
      "justify_items": null,
      "left": null,
      "margin": null,
      "max_height": null,
      "max_width": null,
      "min_height": null,
      "min_width": null,
      "object_fit": null,
      "object_position": null,
      "order": null,
      "overflow": null,
      "overflow_x": null,
      "overflow_y": null,
      "padding": null,
      "right": null,
      "top": null,
      "visibility": null,
      "width": null
     }
    },
    "39fff17c928c4af5993c87e5eb7b1a62": {
     "model_module": "@jupyter-widgets/controls",
     "model_module_version": "1.5.0",
     "model_name": "HTMLModel",
     "state": {
      "_dom_classes": [],
      "_model_module": "@jupyter-widgets/controls",
      "_model_module_version": "1.5.0",
      "_model_name": "HTMLModel",
      "_view_count": null,
      "_view_module": "@jupyter-widgets/controls",
      "_view_module_version": "1.5.0",
      "_view_name": "HTMLView",
      "description": "",
      "description_tooltip": null,
      "layout": "IPY_MODEL_33012c7482074be09e5970bbbdd1c361",
      "placeholder": "​",
      "style": "IPY_MODEL_2cf9c79820c54fd2b5e99676f132efa8",
      "value": " 8/8 [02:04&lt;00:00, 13.67s/it]"
     }
    },
    "472f0ad09d0b4477aa1daaf0847ae7d3": {
     "model_module": "@jupyter-widgets/base",
     "model_module_version": "1.2.0",
     "model_name": "LayoutModel",
     "state": {
      "_model_module": "@jupyter-widgets/base",
      "_model_module_version": "1.2.0",
      "_model_name": "LayoutModel",
      "_view_count": null,
      "_view_module": "@jupyter-widgets/base",
      "_view_module_version": "1.2.0",
      "_view_name": "LayoutView",
      "align_content": null,
      "align_items": null,
      "align_self": null,
      "border": null,
      "bottom": null,
      "display": null,
      "flex": null,
      "flex_flow": null,
      "grid_area": null,
      "grid_auto_columns": null,
      "grid_auto_flow": null,
      "grid_auto_rows": null,
      "grid_column": null,
      "grid_gap": null,
      "grid_row": null,
      "grid_template_areas": null,
      "grid_template_columns": null,
      "grid_template_rows": null,
      "height": null,
      "justify_content": null,
      "justify_items": null,
      "left": null,
      "margin": null,
      "max_height": null,
      "max_width": null,
      "min_height": null,
      "min_width": null,
      "object_fit": null,
      "object_position": null,
      "order": null,
      "overflow": null,
      "overflow_x": null,
      "overflow_y": null,
      "padding": null,
      "right": null,
      "top": null,
      "visibility": null,
      "width": null
     }
    },
    "4d456913e48441d1a4dc79f10fa8bcf7": {
     "model_module": "@jupyter-widgets/controls",
     "model_module_version": "1.5.0",
     "model_name": "HBoxModel",
     "state": {
      "_dom_classes": [],
      "_model_module": "@jupyter-widgets/controls",
      "_model_module_version": "1.5.0",
      "_model_name": "HBoxModel",
      "_view_count": null,
      "_view_module": "@jupyter-widgets/controls",
      "_view_module_version": "1.5.0",
      "_view_name": "HBoxView",
      "box_style": "",
      "children": [
       "IPY_MODEL_20a3075fb277476396fa3de9bfe90425",
       "IPY_MODEL_5297571310a742afb3a434d042b466cc",
       "IPY_MODEL_02974355304745199964d269fe70af1d"
      ],
      "layout": "IPY_MODEL_cfa96179122f4cf197063410e616948a"
     }
    },
    "50c885f4f18e45e29695a58a0a58c065": {
     "model_module": "@jupyter-widgets/base",
     "model_module_version": "1.2.0",
     "model_name": "LayoutModel",
     "state": {
      "_model_module": "@jupyter-widgets/base",
      "_model_module_version": "1.2.0",
      "_model_name": "LayoutModel",
      "_view_count": null,
      "_view_module": "@jupyter-widgets/base",
      "_view_module_version": "1.2.0",
      "_view_name": "LayoutView",
      "align_content": null,
      "align_items": null,
      "align_self": null,
      "border": null,
      "bottom": null,
      "display": null,
      "flex": null,
      "flex_flow": null,
      "grid_area": null,
      "grid_auto_columns": null,
      "grid_auto_flow": null,
      "grid_auto_rows": null,
      "grid_column": null,
      "grid_gap": null,
      "grid_row": null,
      "grid_template_areas": null,
      "grid_template_columns": null,
      "grid_template_rows": null,
      "height": null,
      "justify_content": null,
      "justify_items": null,
      "left": null,
      "margin": null,
      "max_height": null,
      "max_width": null,
      "min_height": null,
      "min_width": null,
      "object_fit": null,
      "object_position": null,
      "order": null,
      "overflow": null,
      "overflow_x": null,
      "overflow_y": null,
      "padding": null,
      "right": null,
      "top": null,
      "visibility": null,
      "width": null
     }
    },
    "5297571310a742afb3a434d042b466cc": {
     "model_module": "@jupyter-widgets/controls",
     "model_module_version": "1.5.0",
     "model_name": "FloatProgressModel",
     "state": {
      "_dom_classes": [],
      "_model_module": "@jupyter-widgets/controls",
      "_model_module_version": "1.5.0",
      "_model_name": "FloatProgressModel",
      "_view_count": null,
      "_view_module": "@jupyter-widgets/controls",
      "_view_module_version": "1.5.0",
      "_view_name": "ProgressView",
      "bar_style": "",
      "description": "",
      "description_tooltip": null,
      "layout": "IPY_MODEL_c5abc38896924bf8b024376119472cd5",
      "max": 1866,
      "min": 0,
      "orientation": "horizontal",
      "style": "IPY_MODEL_5c24c36343914f45b2bd061be9af5ede",
      "value": 1866
     }
    },
    "5766b5b8060e47f79803991a155c3cdb": {
     "model_module": "@jupyter-widgets/controls",
     "model_module_version": "1.5.0",
     "model_name": "HBoxModel",
     "state": {
      "_dom_classes": [],
      "_model_module": "@jupyter-widgets/controls",
      "_model_module_version": "1.5.0",
      "_model_name": "HBoxModel",
      "_view_count": null,
      "_view_module": "@jupyter-widgets/controls",
      "_view_module_version": "1.5.0",
      "_view_name": "HBoxView",
      "box_style": "",
      "children": [
       "IPY_MODEL_5ea722f606054e75b5830b6808d7ed60",
       "IPY_MODEL_f1dba27d776c4df7913a3a3c025d14a6",
       "IPY_MODEL_39fff17c928c4af5993c87e5eb7b1a62"
      ],
      "layout": "IPY_MODEL_1a86c9fb2c6a410688e36ae6a386e0fe"
     }
    },
    "5c24c36343914f45b2bd061be9af5ede": {
     "model_module": "@jupyter-widgets/controls",
     "model_module_version": "1.5.0",
     "model_name": "ProgressStyleModel",
     "state": {
      "_model_module": "@jupyter-widgets/controls",
      "_model_module_version": "1.5.0",
      "_model_name": "ProgressStyleModel",
      "_view_count": null,
      "_view_module": "@jupyter-widgets/base",
      "_view_module_version": "1.2.0",
      "_view_name": "StyleView",
      "bar_color": null,
      "description_width": ""
     }
    },
    "5ea722f606054e75b5830b6808d7ed60": {
     "model_module": "@jupyter-widgets/controls",
     "model_module_version": "1.5.0",
     "model_name": "HTMLModel",
     "state": {
      "_dom_classes": [],
      "_model_module": "@jupyter-widgets/controls",
      "_model_module_version": "1.5.0",
      "_model_name": "HTMLModel",
      "_view_count": null,
      "_view_module": "@jupyter-widgets/controls",
      "_view_module_version": "1.5.0",
      "_view_name": "HTMLView",
      "description": "",
      "description_tooltip": null,
      "layout": "IPY_MODEL_472f0ad09d0b4477aa1daaf0847ae7d3",
      "placeholder": "​",
      "style": "IPY_MODEL_af45cfb019064492adbe57f5af7be904",
      "value": "Loading checkpoint shards: 100%"
     }
    },
    "7a51293cdd3c41dd8e913d5a8cadd4aa": {
     "model_module": "@jupyter-widgets/base",
     "model_module_version": "1.2.0",
     "model_name": "LayoutModel",
     "state": {
      "_model_module": "@jupyter-widgets/base",
      "_model_module_version": "1.2.0",
      "_model_name": "LayoutModel",
      "_view_count": null,
      "_view_module": "@jupyter-widgets/base",
      "_view_module_version": "1.2.0",
      "_view_name": "LayoutView",
      "align_content": null,
      "align_items": null,
      "align_self": null,
      "border": null,
      "bottom": null,
      "display": null,
      "flex": null,
      "flex_flow": null,
      "grid_area": null,
      "grid_auto_columns": null,
      "grid_auto_flow": null,
      "grid_auto_rows": null,
      "grid_column": null,
      "grid_gap": null,
      "grid_row": null,
      "grid_template_areas": null,
      "grid_template_columns": null,
      "grid_template_rows": null,
      "height": null,
      "justify_content": null,
      "justify_items": null,
      "left": null,
      "margin": null,
      "max_height": null,
      "max_width": null,
      "min_height": null,
      "min_width": null,
      "object_fit": null,
      "object_position": null,
      "order": null,
      "overflow": null,
      "overflow_x": null,
      "overflow_y": null,
      "padding": null,
      "right": null,
      "top": null,
      "visibility": null,
      "width": null
     }
    },
    "92c66e3366a5427f9930b389fb8e8fa5": {
     "model_module": "@jupyter-widgets/controls",
     "model_module_version": "1.5.0",
     "model_name": "DescriptionStyleModel",
     "state": {
      "_model_module": "@jupyter-widgets/controls",
      "_model_module_version": "1.5.0",
      "_model_name": "DescriptionStyleModel",
      "_view_count": null,
      "_view_module": "@jupyter-widgets/base",
      "_view_module_version": "1.2.0",
      "_view_name": "StyleView",
      "description_width": ""
     }
    },
    "9fd1d0f6f4064798ac3c31934658703e": {
     "model_module": "@jupyter-widgets/base",
     "model_module_version": "1.2.0",
     "model_name": "LayoutModel",
     "state": {
      "_model_module": "@jupyter-widgets/base",
      "_model_module_version": "1.2.0",
      "_model_name": "LayoutModel",
      "_view_count": null,
      "_view_module": "@jupyter-widgets/base",
      "_view_module_version": "1.2.0",
      "_view_name": "LayoutView",
      "align_content": null,
      "align_items": null,
      "align_self": null,
      "border": null,
      "bottom": null,
      "display": null,
      "flex": null,
      "flex_flow": null,
      "grid_area": null,
      "grid_auto_columns": null,
      "grid_auto_flow": null,
      "grid_auto_rows": null,
      "grid_column": null,
      "grid_gap": null,
      "grid_row": null,
      "grid_template_areas": null,
      "grid_template_columns": null,
      "grid_template_rows": null,
      "height": null,
      "justify_content": null,
      "justify_items": null,
      "left": null,
      "margin": null,
      "max_height": null,
      "max_width": null,
      "min_height": null,
      "min_width": null,
      "object_fit": null,
      "object_position": null,
      "order": null,
      "overflow": null,
      "overflow_x": null,
      "overflow_y": null,
      "padding": null,
      "right": null,
      "top": null,
      "visibility": null,
      "width": null
     }
    },
    "af45cfb019064492adbe57f5af7be904": {
     "model_module": "@jupyter-widgets/controls",
     "model_module_version": "1.5.0",
     "model_name": "DescriptionStyleModel",
     "state": {
      "_model_module": "@jupyter-widgets/controls",
      "_model_module_version": "1.5.0",
      "_model_name": "DescriptionStyleModel",
      "_view_count": null,
      "_view_module": "@jupyter-widgets/base",
      "_view_module_version": "1.2.0",
      "_view_name": "StyleView",
      "description_width": ""
     }
    },
    "c5abc38896924bf8b024376119472cd5": {
     "model_module": "@jupyter-widgets/base",
     "model_module_version": "1.2.0",
     "model_name": "LayoutModel",
     "state": {
      "_model_module": "@jupyter-widgets/base",
      "_model_module_version": "1.2.0",
      "_model_name": "LayoutModel",
      "_view_count": null,
      "_view_module": "@jupyter-widgets/base",
      "_view_module_version": "1.2.0",
      "_view_name": "LayoutView",
      "align_content": null,
      "align_items": null,
      "align_self": null,
      "border": null,
      "bottom": null,
      "display": null,
      "flex": null,
      "flex_flow": null,
      "grid_area": null,
      "grid_auto_columns": null,
      "grid_auto_flow": null,
      "grid_auto_rows": null,
      "grid_column": null,
      "grid_gap": null,
      "grid_row": null,
      "grid_template_areas": null,
      "grid_template_columns": null,
      "grid_template_rows": null,
      "height": null,
      "justify_content": null,
      "justify_items": null,
      "left": null,
      "margin": null,
      "max_height": null,
      "max_width": null,
      "min_height": null,
      "min_width": null,
      "object_fit": null,
      "object_position": null,
      "order": null,
      "overflow": null,
      "overflow_x": null,
      "overflow_y": null,
      "padding": null,
      "right": null,
      "top": null,
      "visibility": null,
      "width": null
     }
    },
    "cfa96179122f4cf197063410e616948a": {
     "model_module": "@jupyter-widgets/base",
     "model_module_version": "1.2.0",
     "model_name": "LayoutModel",
     "state": {
      "_model_module": "@jupyter-widgets/base",
      "_model_module_version": "1.2.0",
      "_model_name": "LayoutModel",
      "_view_count": null,
      "_view_module": "@jupyter-widgets/base",
      "_view_module_version": "1.2.0",
      "_view_name": "LayoutView",
      "align_content": null,
      "align_items": null,
      "align_self": null,
      "border": null,
      "bottom": null,
      "display": null,
      "flex": null,
      "flex_flow": null,
      "grid_area": null,
      "grid_auto_columns": null,
      "grid_auto_flow": null,
      "grid_auto_rows": null,
      "grid_column": null,
      "grid_gap": null,
      "grid_row": null,
      "grid_template_areas": null,
      "grid_template_columns": null,
      "grid_template_rows": null,
      "height": null,
      "justify_content": null,
      "justify_items": null,
      "left": null,
      "margin": null,
      "max_height": null,
      "max_width": null,
      "min_height": null,
      "min_width": null,
      "object_fit": null,
      "object_position": null,
      "order": null,
      "overflow": null,
      "overflow_x": null,
      "overflow_y": null,
      "padding": null,
      "right": null,
      "top": null,
      "visibility": "hidden",
      "width": null
     }
    },
    "f1dba27d776c4df7913a3a3c025d14a6": {
     "model_module": "@jupyter-widgets/controls",
     "model_module_version": "1.5.0",
     "model_name": "FloatProgressModel",
     "state": {
      "_dom_classes": [],
      "_model_module": "@jupyter-widgets/controls",
      "_model_module_version": "1.5.0",
      "_model_name": "FloatProgressModel",
      "_view_count": null,
      "_view_module": "@jupyter-widgets/controls",
      "_view_module_version": "1.5.0",
      "_view_name": "ProgressView",
      "bar_style": "success",
      "description": "",
      "description_tooltip": null,
      "layout": "IPY_MODEL_7a51293cdd3c41dd8e913d5a8cadd4aa",
      "max": 8,
      "min": 0,
      "orientation": "horizontal",
      "style": "IPY_MODEL_0eb2a785f3b843ac938a7fdb986e83c9",
      "value": 8
     }
    }
   }
  }
 },
 "nbformat": 4,
 "nbformat_minor": 4
}
