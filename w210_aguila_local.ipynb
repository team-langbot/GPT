{
 "cells": [
  {
   "cell_type": "code",
   "execution_count": null,
   "id": "74c0c748",
   "metadata": {},
   "outputs": [],
   "source": [
    "## working in Spanish, but talks a lot of non-sense..."
   ]
  },
  {
   "cell_type": "code",
   "execution_count": null,
   "id": "0671594e",
   "metadata": {},
   "outputs": [],
   "source": [
    "#!pip install -q -U trl transformers accelerate git+https://github.com/huggingface/peft.git\n",
    "#!pip install -q datasets bitsandbytes einops wandb"
   ]
  },
  {
   "cell_type": "code",
   "execution_count": 1,
   "id": "3c46eb59",
   "metadata": {},
   "outputs": [
    {
     "name": "stderr",
     "output_type": "stream",
     "text": [
      "/usr/local/lib/python3.10/dist-packages/tqdm/auto.py:21: TqdmWarning: IProgress not found. Please update jupyter and ipywidgets. See https://ipywidgets.readthedocs.io/en/stable/user_install.html\n",
      "  from .autonotebook import tqdm as notebook_tqdm\n"
     ]
    }
   ],
   "source": [
    "import torch\n",
    "from transformers import pipeline, AutoTokenizer, AutoModelForCausalLM"
   ]
  },
  {
   "cell_type": "code",
   "execution_count": 2,
   "id": "0b3959fe",
   "metadata": {},
   "outputs": [
    {
     "name": "stderr",
     "output_type": "stream",
     "text": [
      "Downloading (…)/configuration_RW.py: 100%|████████████████████████████████████████████████████████████████| 2.61k/2.61k [00:00<00:00, 21.0MB/s]\n",
      "A new version of the following files was downloaded from https://huggingface.co/projecte-aina/aguila-7b:\n",
      "- configuration_RW.py\n",
      ". Make sure to double-check they do not contain any added malicious code. To avoid downloading new versions of the code file, you can pin a revision.\n",
      "Downloading (…)main/modelling_RW.py: 100%|█████████████████████████████████████████████████████████████████| 47.6k/47.6k [00:00<00:00, 931kB/s]\n",
      "A new version of the following files was downloaded from https://huggingface.co/projecte-aina/aguila-7b:\n",
      "- modelling_RW.py\n",
      ". Make sure to double-check they do not contain any added malicious code. To avoid downloading new versions of the code file, you can pin a revision.\n",
      "Loading checkpoint shards: 100%|█████████████████████████████████████████████████████████████████████████████████| 2/2 [00:06<00:00,  3.45s/it]\n",
      "The model 'RWForCausalLM' is not supported for text-generation. Supported models are ['BartForCausalLM', 'BertLMHeadModel', 'BertGenerationDecoder', 'BigBirdForCausalLM', 'BigBirdPegasusForCausalLM', 'BioGptForCausalLM', 'BlenderbotForCausalLM', 'BlenderbotSmallForCausalLM', 'BloomForCausalLM', 'CamembertForCausalLM', 'LlamaForCausalLM', 'CodeGenForCausalLM', 'CpmAntForCausalLM', 'CTRLLMHeadModel', 'Data2VecTextForCausalLM', 'ElectraForCausalLM', 'ErnieForCausalLM', 'FalconForCausalLM', 'GitForCausalLM', 'GPT2LMHeadModel', 'GPT2LMHeadModel', 'GPTBigCodeForCausalLM', 'GPTNeoForCausalLM', 'GPTNeoXForCausalLM', 'GPTNeoXJapaneseForCausalLM', 'GPTJForCausalLM', 'LlamaForCausalLM', 'MarianForCausalLM', 'MBartForCausalLM', 'MegaForCausalLM', 'MegatronBertForCausalLM', 'MistralForCausalLM', 'MptForCausalLM', 'MusicgenForCausalLM', 'MvpForCausalLM', 'OpenLlamaForCausalLM', 'OpenAIGPTLMHeadModel', 'OPTForCausalLM', 'PegasusForCausalLM', 'PersimmonForCausalLM', 'PLBartForCausalLM', 'ProphetNetForCausalLM', 'QDQBertLMHeadModel', 'ReformerModelWithLMHead', 'RemBertForCausalLM', 'RobertaForCausalLM', 'RobertaPreLayerNormForCausalLM', 'RoCBertForCausalLM', 'RoFormerForCausalLM', 'RwkvForCausalLM', 'Speech2Text2ForCausalLM', 'TransfoXLLMHeadModel', 'TrOCRForCausalLM', 'XGLMForCausalLM', 'XLMWithLMHeadModel', 'XLMProphetNetForCausalLM', 'XLMRobertaForCausalLM', 'XLMRobertaXLForCausalLM', 'XLNetLMHeadModel', 'XmodForCausalLM'].\n"
     ]
    }
   ],
   "source": [
    "model_id  = \"aguila\"\n",
    "\n",
    "tokenizer = AutoTokenizer.from_pretrained(model_id)\n",
    "generator = pipeline(\n",
    "    \"text-generation\",\n",
    "    #'conversational',\n",
    "    model=model_id,\n",
    "    tokenizer=tokenizer,\n",
    "    torch_dtype=torch.bfloat16,\n",
    "    trust_remote_code=True,\n",
    "    device_map=\"auto\",\n",
    ")"
   ]
  },
  {
   "cell_type": "code",
   "execution_count": null,
   "id": "0ff68070",
   "metadata": {},
   "outputs": [],
   "source": [
    "input_text = \"El mercat del barri és fantàstic, hi pots trobar\""
   ]
  },
  {
   "cell_type": "code",
   "execution_count": null,
   "id": "a87a060d",
   "metadata": {},
   "outputs": [],
   "source": [
    "generation = generator(\n",
    "    input_text,\n",
    "    do_sample=True,\n",
    "    top_k=10,\n",
    "    eos_token_id=tokenizer.eos_token_id,\n",
    ")"
   ]
  },
  {
   "cell_type": "code",
   "execution_count": null,
   "id": "6158d044",
   "metadata": {},
   "outputs": [],
   "source": [
    "print(f\"Result: {generation[0]['generated_text']}\")"
   ]
  },
  {
   "cell_type": "code",
   "execution_count": 20,
   "id": "f078c187",
   "metadata": {},
   "outputs": [],
   "source": [
    "input_text = \"User: hola, cómo estás?\\nMini:\""
   ]
  },
  {
   "cell_type": "code",
   "execution_count": 21,
   "id": "b1febd13",
   "metadata": {},
   "outputs": [
    {
     "name": "stderr",
     "output_type": "stream",
     "text": [
      "/usr/local/lib/python3.10/dist-packages/transformers/generation/utils.py:1260: UserWarning: Using the model-agnostic default `max_length` (=20) to control the generation length. We recommend setting `max_new_tokens` to control the maximum length of the generation.\n",
      "  warnings.warn(\n"
     ]
    }
   ],
   "source": [
    "generation = generator(\n",
    "    input_text,\n",
    "    do_sample=True,\n",
    "    top_k=2,\n",
    "    eos_token_id=tokenizer.eos_token_id,\n",
    ")"
   ]
  },
  {
   "cell_type": "code",
   "execution_count": 22,
   "id": "b473bf09",
   "metadata": {},
   "outputs": [
    {
     "name": "stdout",
     "output_type": "stream",
     "text": [
      "Result: User: hola, cómo estás?\n",
      "Mini: hola, cómo estás?\n",
      "\n"
     ]
    }
   ],
   "source": [
    "print(f\"Result: {generation[0]['generated_text']}\")"
   ]
  },
  {
   "cell_type": "code",
   "execution_count": 3,
   "id": "046e948c",
   "metadata": {},
   "outputs": [],
   "source": [
    "# Few Shots\n",
    "input_text = \"\"\"\n",
    "Oració: Estoy bien, gracias.\n",
    "Paráfrasis: Tú estás bien, yo también estoy bien. ¿Dónde vive?\n",
    "----\n",
    "Oració: no me sirve.\n",
    "Paráfrasis: Tú no estás bien, yo estoy bien. ¿Dónde vive?\n",
    "----\n",
    "Oración: Estoy bien.\n",
    "Paráfrasis: Tú estás bien, yo también estoy bien. ¿Dónde vive?\n",
    "----\n",
    "Oració: Estoy muy bien.\n",
    "Paráfrasis:\"\"\""
   ]
  },
  {
   "cell_type": "code",
   "execution_count": 4,
   "id": "80642cb9",
   "metadata": {},
   "outputs": [
    {
     "name": "stdout",
     "output_type": "stream",
     "text": [
      "CPU times: user 900 ms, sys: 114 ms, total: 1.01 s\n",
      "Wall time: 1.04 s\n"
     ]
    }
   ],
   "source": [
    "%%time\n",
    "generation = generator(\n",
    "    input_text,\n",
    "    do_sample=True,\n",
    "    top_k=2,\n",
    "    max_length=128,\n",
    "    eos_token_id=tokenizer.eos_token_id,\n",
    ")"
   ]
  },
  {
   "cell_type": "code",
   "execution_count": 5,
   "id": "d864b2c4",
   "metadata": {},
   "outputs": [
    {
     "name": "stdout",
     "output_type": "stream",
     "text": [
      "Result: \n",
      "Oració: Estoy bien, gracias.\n",
      "Paráfrasis: Tú estás bien, yo también estoy bien. ¿Dónde vive?\n",
      "----\n",
      "Oració: no me sirve.\n",
      "Paráfrasis: Tú no estás bien, yo estoy bien. ¿Dónde vive?\n",
      "----\n",
      "Oración: Estoy bien.\n",
      "Paráfrasis: Tú estás bien, yo también estoy bien. ¿Dónde vive?\n",
      "----\n",
      "Oració: Estoy muy bien.\n",
      "Paráfrasis: Tú estás muy bien, yo también estoy bien. ¿Dónde vive?\n",
      "----\n"
     ]
    }
   ],
   "source": [
    "print(f\"Result: {generation[0]['generated_text']}\")"
   ]
  },
  {
   "cell_type": "code",
   "execution_count": 6,
   "id": "46a6f5c2",
   "metadata": {},
   "outputs": [
    {
     "name": "stdout",
     "output_type": "stream",
     "text": [
      "Result: \n",
      "Oració: Estoy bien, gracias.\n",
      "Paráfrasis: Tú estás bien, yo también estoy bien. ¿Dónde vive?\n",
      "----\n",
      "Oració: no me sirve.\n",
      "Paráfrasis: Tú no estás bien, yo estoy bien. ¿Dónde vive?\n",
      "----\n",
      "Oración: Estoy bien.\n",
      "Paráfrasis: Tú estás bien, yo también estoy bien. ¿Dónde vive?\n",
      "----\n",
      "Oració: Estoy muy bien.\n",
      "Paráfrasis: Tú estás muy bien, yo también estoy muy bien. ¿Dónde vive?\n",
      "----\n",
      "Oració: Estoy bien.\n",
      "Paráfrasis: Tú estás muy bien, yo también estoy muy bien. ¿Dónde vive?\n",
      "----\n",
      "Oració: Estoy bien.\n",
      "Paráfras\n",
      "CPU times: user 3.24 s, sys: 16.1 ms, total: 3.26 s\n",
      "Wall time: 3.26 s\n"
     ]
    }
   ],
   "source": [
    "%%time\n",
    "\n",
    "sequences = generator(\n",
    "    input_text,\n",
    "    #max_length=128,\n",
    "    max_new_tokens=64,\n",
    "    do_sample=True,\n",
    "    temperature=0.1,\n",
    "    top_p=0.7,\n",
    "    top_k=10,\n",
    "    num_return_sequences=1,\n",
    "    eos_token_id=tokenizer.eos_token_id,\n",
    "    pad_token_id=tokenizer.eos_token_id\n",
    ")\n",
    "print(f\"Result: {sequences[0]['generated_text']}\")"
   ]
  },
  {
   "cell_type": "markdown",
   "id": "afb32639",
   "metadata": {},
   "source": [
    "## test having LLM to do grammatical correction"
   ]
  },
  {
   "cell_type": "code",
   "execution_count": 7,
   "id": "a1c0a2cb",
   "metadata": {},
   "outputs": [],
   "source": [
    "sp_input = 'Te llamo Jess.'\n",
    "sp_target = 'Me llamo Jess.'"
   ]
  },
  {
   "cell_type": "code",
   "execution_count": 16,
   "id": "7af7b5c8",
   "metadata": {},
   "outputs": [],
   "source": [
    "# Few Shots\n",
    "input_text = f\"\"\"You are a Spanish teacher, and you can explain what type of grammatical error it is when providing an input sentence and a correct sentence. \n",
    "Input: The phrase '{sp_input}'\n",
    "Correct: '{sp_target}'\n",
    "\n",
    "\n",
    "\"\"\""
   ]
  },
  {
   "cell_type": "code",
   "execution_count": 17,
   "id": "9d7cf22f",
   "metadata": {},
   "outputs": [
    {
     "name": "stdout",
     "output_type": "stream",
     "text": [
      "Result: You are a Spanish teacher, and you can explain what type of grammatical error it is when providing an input sentence and a correct sentence. \n",
      "Input: The phrase 'Te llamo Jess.'\n",
      "Correct: 'Me llamo Jess.'\n",
      "\n",
      "\n",
      "- No sé si és que no ho he entès o és que no ho he entès.\n",
      "\n",
      "- No, no, no. És que no ho he entès.\n",
      "\n",
      "- No, no, no. És que no ho he entès.\n",
      "\n",
      "- No, no, no. És que no ho he entès.\n",
      "\n",
      "- No, no, no. És que no ho he entès.\n",
      "\n",
      "- No, no, no. És que no ho he entès.\n",
      "\n",
      "- No, no, no. És que no ho he entès.\n",
      "\n",
      "- No, no, no. És que no ho he\n",
      "CPU times: user 6.03 s, sys: 0 ns, total: 6.03 s\n",
      "Wall time: 6.02 s\n"
     ]
    }
   ],
   "source": [
    "%%time\n",
    "\n",
    "sequences = generator(\n",
    "    input_text,\n",
    "    #max_length=128,\n",
    "    max_new_tokens=128,\n",
    "    do_sample=True,\n",
    "    temperature=0.1,\n",
    "    top_p=0.7,\n",
    "    top_k=10,\n",
    "    num_return_sequences=1,\n",
    "    eos_token_id=tokenizer.eos_token_id,\n",
    "    pad_token_id=tokenizer.eos_token_id\n",
    ")\n",
    "print(f\"Result: {sequences[0]['generated_text']}\")"
   ]
  },
  {
   "cell_type": "code",
   "execution_count": 18,
   "id": "4dfb6adf",
   "metadata": {},
   "outputs": [],
   "source": [
    "# Few Shots\n",
    "input_text = f\"\"\"Eres un profesor de español, y puedes explicar qué tipo de error gramatical es cuando proporcionas una oración de entrada y una oración correcta. \n",
    "entrada: The phrase '{sp_input}'\n",
    "correcta: '{sp_target}'\n",
    "\n",
    "\n",
    "\"\"\""
   ]
  },
  {
   "cell_type": "code",
   "execution_count": 19,
   "id": "d553bb8b",
   "metadata": {},
   "outputs": [
    {
     "name": "stdout",
     "output_type": "stream",
     "text": [
      "Result: Eres un profesor de español, y puedes explicar qué tipo de error gramatical es cuando proporcionas una oración de entrada y una oración correcta. \n",
      "entrada: The phrase 'Te llamo Jess.'\n",
      "correcta: 'Me llamo Jess.'\n",
      "\n",
      "\n",
      "- No sé si és que no m'he explicat bé, però no sé si m'has entès.\n",
      "\n",
      "- No, no t'he entès.\n",
      "\n",
      "- Doncs no sé què dir-te.\n",
      "\n",
      "- No, no t'he entès.\n",
      "\n",
      "- Doncs no sé què dir-te.\n",
      "\n",
      "- No, no t'he entès.\n",
      "\n",
      "- Doncs no sé què dir-te.\n",
      "\n",
      "- No, no t'he entès.\n",
      "\n",
      "- Doncs no sé què dir-te.\n",
      "\n",
      "- No, no t'he entès.\n",
      "\n",
      "- Doncs no sé què\n",
      "CPU times: user 5.69 s, sys: 0 ns, total: 5.69 s\n",
      "Wall time: 5.69 s\n"
     ]
    }
   ],
   "source": [
    "%%time\n",
    "\n",
    "sequences = generator(\n",
    "    input_text,\n",
    "    #max_length=128,\n",
    "    max_new_tokens=128,\n",
    "    do_sample=True,\n",
    "    temperature=0.1,\n",
    "    top_p=0.7,\n",
    "    top_k=10,\n",
    "    num_return_sequences=1,\n",
    "    eos_token_id=tokenizer.eos_token_id,\n",
    "    pad_token_id=tokenizer.eos_token_id\n",
    ")\n",
    "print(f\"Result: {sequences[0]['generated_text']}\")"
   ]
  }
 ],
 "metadata": {
  "kernelspec": {
   "display_name": "Python 3 (ipykernel)",
   "language": "python",
   "name": "python3"
  },
  "language_info": {
   "codemirror_mode": {
    "name": "ipython",
    "version": 3
   },
   "file_extension": ".py",
   "mimetype": "text/x-python",
   "name": "python",
   "nbconvert_exporter": "python",
   "pygments_lexer": "ipython3",
   "version": "3.10.12"
  }
 },
 "nbformat": 4,
 "nbformat_minor": 5
}
